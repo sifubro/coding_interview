{
 "cells": [
  {
   "cell_type": "code",
   "execution_count": 1,
   "metadata": {},
   "outputs": [],
   "source": [
    "import seaborn as sns\n",
    "import matplotlib.pyplot as plt\n",
    "%matplotlib inline"
   ]
  },
  {
   "cell_type": "code",
   "execution_count": 2,
   "metadata": {},
   "outputs": [],
   "source": [
    "from sklearn.datasets import make_blobs"
   ]
  },
  {
   "cell_type": "code",
   "execution_count": 3,
   "metadata": {},
   "outputs": [],
   "source": [
    "data = make_blobs(n_samples=200, n_features =2, centers=4, cluster_std=1.8)"
   ]
  },
  {
   "cell_type": "code",
   "execution_count": 4,
   "metadata": {},
   "outputs": [
    {
     "data": {
      "text/plain": [
       "array([[-1.16307402,  9.17384925],\n",
       "       [ 8.57137161,  8.4477664 ],\n",
       "       [-1.70775746,  3.49380013],\n",
       "       [-3.21646269,  5.07073267],\n",
       "       [ 7.61206585,  4.13002676],\n",
       "       [ 9.63421694,  6.97587676],\n",
       "       [ 8.52044165, 12.23564422],\n",
       "       [-2.97098566,  3.93363714],\n",
       "       [-2.21137529,  9.00810337],\n",
       "       [-6.82037402,  6.72555097],\n",
       "       [-4.45670347,  4.20288039],\n",
       "       [ 8.48878876,  9.52005878],\n",
       "       [ 9.21138183, 11.32415184],\n",
       "       [-1.85525232, 10.90401748],\n",
       "       [ 9.62602175,  3.26941944],\n",
       "       [-5.62041605,  9.43005988],\n",
       "       [10.9201242 ,  1.91141492],\n",
       "       [ 9.73412996, 10.87595958],\n",
       "       [ 8.66895082,  4.07801886],\n",
       "       [-2.17472361,  9.91754013],\n",
       "       [ 8.19537835,  8.4230319 ],\n",
       "       [11.36589067,  2.51770156],\n",
       "       [ 9.55445149,  3.36519304],\n",
       "       [10.89170625,  4.39811109],\n",
       "       [-4.49475931, 11.27621184],\n",
       "       [-1.99260099,  8.00727775],\n",
       "       [ 9.08928179,  6.04617022],\n",
       "       [10.23232831,  3.67161037],\n",
       "       [11.52189408,  8.93474197],\n",
       "       [ 9.49769366,  3.08428333],\n",
       "       [ 6.34712829,  7.68858635],\n",
       "       [-2.3231475 , 11.68187879],\n",
       "       [ 8.64656189,  8.38728358],\n",
       "       [10.46787816, -1.10637725],\n",
       "       [-4.59435819,  1.38087288],\n",
       "       [-3.50407252, 12.49269224],\n",
       "       [-1.41019228,  9.3947168 ],\n",
       "       [11.24221834,  2.09935055],\n",
       "       [-1.11601222,  8.65254952],\n",
       "       [10.87037958,  6.32672764],\n",
       "       [-3.69532316,  0.66109313],\n",
       "       [-3.87585841, -0.53731551],\n",
       "       [-3.49657082,  4.06328703],\n",
       "       [ 9.65339465, 11.25803569],\n",
       "       [-2.50636786,  6.86694211],\n",
       "       [10.24620711,  3.37811086],\n",
       "       [10.74120029,  4.49884971],\n",
       "       [-5.97988592,  0.27657856],\n",
       "       [ 9.98824455, 10.3321366 ],\n",
       "       [10.66705458,  9.83960543],\n",
       "       [10.22281591,  6.85869286],\n",
       "       [-4.3077947 , -0.23015089],\n",
       "       [10.79499731, 10.61227797],\n",
       "       [10.96945207,  4.95848283],\n",
       "       [13.02075794, 13.10106397],\n",
       "       [-5.92863971,  5.70361021],\n",
       "       [10.4097746 ,  8.71519429],\n",
       "       [-2.0872376 ,  5.5601118 ],\n",
       "       [ 9.02843607,  7.68227294],\n",
       "       [12.56431542,  1.97694641],\n",
       "       [-2.2099236 ,  9.34912763],\n",
       "       [10.69300456,  0.36464498],\n",
       "       [12.07172712,  6.3267699 ],\n",
       "       [ 7.52590887, 11.10029039],\n",
       "       [ 6.76476492,  9.59746811],\n",
       "       [-3.66242104,  4.77419871],\n",
       "       [-6.2909566 ,  2.48923378],\n",
       "       [ 9.43105809,  9.46095081],\n",
       "       [ 6.17084561,  9.94400658],\n",
       "       [ 7.84099758,  2.03080684],\n",
       "       [-1.98202253,  3.43096355],\n",
       "       [10.21959958, -2.40936382],\n",
       "       [ 7.17932087, -1.78184149],\n",
       "       [-6.60908931,  9.18747578],\n",
       "       [ 9.5213518 ,  9.50919728],\n",
       "       [ 7.45973482,  3.90446419],\n",
       "       [ 9.96043677, 11.05268766],\n",
       "       [ 5.07374714,  8.23054464],\n",
       "       [-4.09835304,  1.5742241 ],\n",
       "       [-4.37899515,  1.01381625],\n",
       "       [-3.0968436 ,  7.95069068],\n",
       "       [ 8.38696121,  9.87619322],\n",
       "       [-3.12189989,  4.17420723],\n",
       "       [-7.61565763,  3.47190864],\n",
       "       [-3.14427205,  8.84548313],\n",
       "       [-3.94342561, 11.39364851],\n",
       "       [-2.78977886, 11.45359665],\n",
       "       [ 8.83487066,  2.53708114],\n",
       "       [-4.19885689,  2.52173311],\n",
       "       [ 7.99409532, 10.51664719],\n",
       "       [ 7.97349442,  4.23953333],\n",
       "       [-4.32340323,  0.60058571],\n",
       "       [ 9.96973447,  1.115368  ],\n",
       "       [-5.26086644,  5.68125204],\n",
       "       [ 9.38662566,  8.29149792],\n",
       "       [-4.95317729,  9.85983281],\n",
       "       [11.769051  ,  1.21037739],\n",
       "       [-3.2411954 ,  9.82511581],\n",
       "       [ 8.59581984,  1.80193271],\n",
       "       [-2.10820734,  7.16675528],\n",
       "       [-4.80504263,  0.42190156],\n",
       "       [10.06702552,  0.22847967],\n",
       "       [ 9.20291371,  2.5811545 ],\n",
       "       [-2.83489883,  6.97247467],\n",
       "       [ 6.51638094,  4.23667716],\n",
       "       [ 8.65189993,  8.00556023],\n",
       "       [12.37481034,  5.11820759],\n",
       "       [-1.29935152, 13.27118416],\n",
       "       [-1.20100841,  8.13273846],\n",
       "       [-2.21877721, 10.48787354],\n",
       "       [-2.80739891,  8.18788249],\n",
       "       [-3.73169134,  9.44720127],\n",
       "       [ 9.46480419,  8.92326395],\n",
       "       [ 9.60179945,  5.35680235],\n",
       "       [ 9.38719117, 11.09272921],\n",
       "       [-2.61008902, 10.17720492],\n",
       "       [10.3668564 ,  1.81512044],\n",
       "       [-2.92194685,  3.44959755],\n",
       "       [-5.59910808,  3.91548954],\n",
       "       [-5.78804919,  2.11157225],\n",
       "       [ 8.1465286 ,  9.34161342],\n",
       "       [ 8.65088214,  6.40179588],\n",
       "       [-1.83017429,  9.96537669],\n",
       "       [-5.33133942,  7.89069   ],\n",
       "       [10.00150747,  3.64183622],\n",
       "       [-3.15129468,  9.61114014],\n",
       "       [-4.58983077,  8.2020345 ],\n",
       "       [-3.60501398, 10.34064269],\n",
       "       [ 8.16437066,  5.05921519],\n",
       "       [-3.5825603 ,  8.81192369],\n",
       "       [-5.82769388, -0.47598156],\n",
       "       [-3.27609883,  2.73882373],\n",
       "       [-5.59851564,  3.21584521],\n",
       "       [-9.07707999,  1.97050076],\n",
       "       [ 9.12895726, 10.51514148],\n",
       "       [-3.55062701, 10.40645304],\n",
       "       [ 8.42687055, 10.96242069],\n",
       "       [-4.19919208,  7.62693753],\n",
       "       [ 8.19329864,  2.46659903],\n",
       "       [ 7.15858884, 10.98762061],\n",
       "       [ 7.68595529, -0.24515014],\n",
       "       [ 7.93654088,  3.98030928],\n",
       "       [10.31288898, -0.8477613 ],\n",
       "       [-1.366305  ,  7.95287559],\n",
       "       [ 8.54199425,  1.15184382],\n",
       "       [-7.24461584,  4.33247918],\n",
       "       [ 8.9313107 ,  9.78902126],\n",
       "       [11.85162538, 11.45357024],\n",
       "       [-4.53869204,  2.00666859],\n",
       "       [-7.58624203,  0.87178218],\n",
       "       [ 9.99137959,  8.44103318],\n",
       "       [-2.28240507,  1.1047084 ],\n",
       "       [10.2961701 , 12.51229735],\n",
       "       [-5.44452535,  4.04470065],\n",
       "       [-2.95732738,  0.65719115],\n",
       "       [-5.45401017,  4.73853661],\n",
       "       [-3.13902691,  8.20184142],\n",
       "       [ 8.56282293,  7.79710409],\n",
       "       [-1.49689335,  7.23537358],\n",
       "       [-6.24653153,  3.21990502],\n",
       "       [-2.1512885 ,  7.63767189],\n",
       "       [-4.80718603, 10.48962693],\n",
       "       [-4.34056765,  1.99085594],\n",
       "       [-4.04647519,  9.30081238],\n",
       "       [12.62693152,  3.18467022],\n",
       "       [-1.72015787, 11.47627221],\n",
       "       [ 7.33607876,  3.05740711],\n",
       "       [-4.50687437,  3.44240184],\n",
       "       [ 7.8167326 ,  1.62902747],\n",
       "       [-7.2682544 ,  1.34339979],\n",
       "       [-0.37164996,  9.43467652],\n",
       "       [-3.16516239, 11.05684059],\n",
       "       [-7.0233676 ,  4.13610523],\n",
       "       [-1.37383503,  7.69955836],\n",
       "       [ 9.28929591, 10.33246844],\n",
       "       [-4.10500846,  2.19403523],\n",
       "       [ 7.63776731,  3.64251106],\n",
       "       [11.68924876,  8.26918538],\n",
       "       [-2.47078588,  8.42793433],\n",
       "       [14.50850582, -0.66384513],\n",
       "       [-5.12292206,  3.52702199],\n",
       "       [-6.12629607,  4.27988968],\n",
       "       [-3.00737673,  4.55902277],\n",
       "       [ 9.10907713,  0.14128206],\n",
       "       [ 8.19679262,  9.16820174],\n",
       "       [-0.77746966,  7.44766897],\n",
       "       [ 9.79149825, 11.34942506],\n",
       "       [-4.82384254,  0.69258512],\n",
       "       [12.48831588,  5.16469503],\n",
       "       [ 9.79932618,  8.0660432 ],\n",
       "       [-3.66119274,  3.20059735],\n",
       "       [-6.49371906,  0.55955823],\n",
       "       [-0.05119728,  8.51811302],\n",
       "       [ 9.21032906,  5.76614064],\n",
       "       [ 7.14309116,  0.43714563],\n",
       "       [-4.41342713,  1.95855386],\n",
       "       [10.13952202,  7.97584653],\n",
       "       [10.85707477,  7.6272574 ],\n",
       "       [ 6.32883944, 10.60872214],\n",
       "       [12.51321183,  3.5973429 ]])"
      ]
     },
     "execution_count": 4,
     "metadata": {},
     "output_type": "execute_result"
    }
   ],
   "source": [
    "data[0]"
   ]
  },
  {
   "cell_type": "code",
   "execution_count": 5,
   "metadata": {},
   "outputs": [
    {
     "data": {
      "text/plain": [
       "(200, 2)"
      ]
     },
     "execution_count": 5,
     "metadata": {},
     "output_type": "execute_result"
    }
   ],
   "source": [
    "data[0].shape\n"
   ]
  },
  {
   "cell_type": "code",
   "execution_count": 15,
   "metadata": {},
   "outputs": [
    {
     "data": {
      "text/plain": [
       "<matplotlib.collections.PathCollection at 0x17d67889b38>"
      ]
     },
     "execution_count": 15,
     "metadata": {},
     "output_type": "execute_result"
    },
    {
     "data": {
      "image/png": "[encoded data removed]",
      "text/plain": [
       "<Figure size 432x288 with 1 Axes>"
      ]
     },
     "metadata": {
      "needs_background": "light"
     },
     "output_type": "display_data"
    }
   ],
   "source": [
    "plt.scatter(data[0][:,0], data[0][:,1], c=data[1],  cmap='rainbow')"
   ]
  },
  {
   "cell_type": "code",
   "execution_count": 16,
   "metadata": {},
   "outputs": [
    {
     "data": {
      "text/plain": [
       "array([0, 2, 1, 1, 3, 2, 2, 1, 0, 1, 1, 2, 2, 0, 3, 0, 3, 2, 3, 0, 2, 3,\n",
       "       3, 3, 0, 0, 3, 3, 2, 3, 2, 0, 2, 3, 1, 0, 0, 3, 0, 3, 1, 1, 1, 2,\n",
       "       0, 3, 3, 1, 2, 2, 2, 1, 2, 3, 2, 1, 2, 0, 2, 3, 0, 3, 3, 2, 2, 1,\n",
       "       1, 2, 2, 3, 1, 3, 3, 0, 2, 3, 2, 2, 1, 1, 0, 2, 1, 1, 0, 0, 0, 3,\n",
       "       1, 2, 3, 1, 3, 1, 2, 0, 3, 0, 3, 0, 1, 3, 3, 0, 3, 2, 3, 0, 0, 0,\n",
       "       0, 0, 2, 3, 2, 0, 3, 1, 1, 1, 2, 2, 0, 0, 3, 0, 0, 0, 3, 0, 1, 1,\n",
       "       1, 1, 2, 0, 2, 0, 3, 2, 3, 3, 3, 0, 3, 1, 2, 2, 1, 1, 2, 1, 2, 1,\n",
       "       1, 1, 0, 2, 0, 1, 0, 0, 1, 0, 3, 0, 3, 1, 3, 1, 0, 0, 1, 0, 2, 1,\n",
       "       3, 2, 0, 3, 1, 1, 1, 3, 2, 0, 2, 1, 3, 2, 1, 1, 0, 2, 3, 1, 2, 2,\n",
       "       2, 3])"
      ]
     },
     "execution_count": 16,
     "metadata": {},
     "output_type": "execute_result"
    }
   ],
   "source": [
    "data[1]"
   ]
  },
  {
   "cell_type": "code",
   "execution_count": null,
   "metadata": {},
   "outputs": [],
   "source": []
  }
 ],
 "metadata": {
  "kernelspec": {
   "display_name": "Python 3",
   "language": "python",
   "name": "python3"
  },
  "language_info": {
   "codemirror_mode": {
    "name": "ipython",
    "version": 3
   },
   "file_extension": ".py",
   "mimetype": "text/x-python",
   "name": "python",
   "nbconvert_exporter": "python",
   "pygments_lexer": "ipython3",
   "version": "3.7.2"
  }
 },
 "nbformat": 4,
 "nbformat_minor": 2
}
