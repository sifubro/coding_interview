{
 "cells": [
  {
   "cell_type": "code",
   "execution_count": 3,
   "id": "bb839a8e",
   "metadata": {},
   "outputs": [],
   "source": [
    "class Person:\n",
    "    \n",
    "    def __init__(self, name, age, password):\n",
    "        self.name = name\n",
    "        self._age = age\n",
    "        self.__password = password"
   ]
  },
  {
   "cell_type": "code",
   "execution_count": 4,
   "id": "190ad399",
   "metadata": {},
   "outputs": [],
   "source": [
    "p = Person('Theo', 33, '12345')"
   ]
  },
  {
   "cell_type": "code",
   "execution_count": 5,
   "id": "b7cb3d1a",
   "metadata": {},
   "outputs": [
    {
     "data": {
      "text/plain": [
       "{'name': 'Theo', '_age': 33, '_Person__password': '12345'}"
      ]
     },
     "execution_count": 5,
     "metadata": {},
     "output_type": "execute_result"
    }
   ],
   "source": [
    "p.__dict__"
   ]
  },
  {
   "cell_type": "code",
   "execution_count": 6,
   "id": "03f11e56",
   "metadata": {},
   "outputs": [
    {
     "data": {
      "text/plain": [
       "'Theo'"
      ]
     },
     "execution_count": 6,
     "metadata": {},
     "output_type": "execute_result"
    }
   ],
   "source": [
    "p.name"
   ]
  },
  {
   "cell_type": "code",
   "execution_count": 8,
   "id": "b152baad",
   "metadata": {},
   "outputs": [
    {
     "data": {
      "text/plain": [
       "33"
      ]
     },
     "execution_count": 8,
     "metadata": {},
     "output_type": "execute_result"
    }
   ],
   "source": [
    "p._age"
   ]
  },
  {
   "cell_type": "code",
   "execution_count": 10,
   "id": "a007310d",
   "metadata": {},
   "outputs": [
    {
     "data": {
      "text/plain": [
       "'12345'"
      ]
     },
     "execution_count": 10,
     "metadata": {},
     "output_type": "execute_result"
    }
   ],
   "source": [
    "p._Person__password"
   ]
  },
  {
   "cell_type": "code",
   "execution_count": null,
   "id": "27fba257",
   "metadata": {},
   "outputs": [],
   "source": []
  }
 ],
 "metadata": {
  "kernelspec": {
   "display_name": "Python 3.7.2",
   "language": "python",
   "name": "python3"
  },
  "language_info": {
   "codemirror_mode": {
    "name": "ipython",
    "version": 3
   },
   "file_extension": ".py",
   "mimetype": "text/x-python",
   "name": "python",
   "nbconvert_exporter": "python",
   "pygments_lexer": "ipython3",
   "version": "3.7.6"
  }
 },
 "nbformat": 4,
 "nbformat_minor": 5
}
