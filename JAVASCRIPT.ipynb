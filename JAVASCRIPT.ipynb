{
 "cells": [
  {
   "cell_type": "markdown",
   "metadata": {},
   "source": [
    "## See the Net Ninja \n",
    "\n",
    "and other tutorials!!!"
   ]
  },
  {
   "cell_type": "code",
   "execution_count": null,
   "metadata": {},
   "outputs": [],
   "source": []
  },
  {
   "cell_type": "code",
   "execution_count": null,
   "metadata": {},
   "outputs": [],
   "source": []
  },
  {
   "cell_type": "markdown",
   "metadata": {},
   "source": [
    "## Jose Portilla"
   ]
  },
  {
   "cell_type": "raw",
   "metadata": {},
   "source": [
    "[049] Basics\n",
    "\n",
    "    - ON webpage Inspect -> Console: write js code !\n",
    "    methods:\n",
    "        - alert\n",
    "        - console.log(\"\")  // ouput to console\n",
    "        - prompt(\"\") // like input to the user to enter\n",
    "        e.g.  var age = prompt(\"Enter your age\")\n",
    "    - comment //\n",
    "    - clear to clear console\n",
    "    - data types\n",
    "        - numbers, strings\n",
    "        - true, false\n",
    "        - undefined, null\n",
    "    - \"abc\".length\n",
    "    - \\\" escape character in \" \"\n",
    "    - VARIABLES\n",
    "        var varName = value;   //In constrast to Python vars are camelCase\n",
    "        var myVariable   // will produce undefined. The variable exists but never defined\n",
    "        var myNull = null;  // variable is null. Setting nothing to variable.\n",
    "        \n",
    "        \n",
    "[050-051-052]  Connecting JS to html with <script> tag in <head>\n",
    "    <script scr=\"my_js_script.js\"></script>\n",
    "    script is called before anythin in the body. If I place <script> somewhere else it will have different effect!!\n",
    "    \n",
    "    \n",
    "[053] Operators comparison and logical  \n",
    "   - \"2\" ==2  --> true !! why?? type coersion trying to convert to similar datatypes to perform the comparison. \n",
    "   - \"2\" === 2 --> false  (checks equality of types also!)\n",
    "   - Same with inequality!  5 !== \"5\"  (true)  5!=\"5\" (false)\n",
    "   - true ==1; (true)  true ===1; (false) same for false and 0\n",
    "   - null == undefined (true) null === undefined (false)\n",
    "   - NaN == NaN (false)  wtf???\n",
    "   - Logical operators:\n",
    "       - AND is &&, OR is ||, NOT is !()\n",
    "       \n",
    "       \n",
    "[054] Control Flow, While Loops, For etc.\n",
    "\n",
    "[062] Functions, Arrays, \n",
    "\n",
    "[069] OBJECTS\n",
    "    - OBJECTS are hashtables (dictionary)\n",
    "    - object methods are functions that are inside of an object (they are essentially the value of a key)\n",
    "    - Use the 'this' keywords' to use the keys of the object itself\n",
    "    var varInfo = {\n",
    "    make: \"audi\",\n",
    "    year: 2004,\n",
    "    model: \"normal\",\n",
    "    carAlert: function(){\n",
    "      alert(\"There is car here\")\n",
    "      }\n",
    "    };\n",
    "    \n",
    "    #####\n",
    "    ## OBJECT KEYS ARE DEFINED WITHOUT \"\" BUT WHEN CALLING THEM \"\" ARE ESSENTIAL\n",
    "    \n",
    "    varInfo[\"make\"], varInfo[\"year\"]  OR\n",
    "    varInfo.make , varInfo.year\n",
    "    \n",
    "    \n",
    "    TO USE SOME OF THE KEY-VALUE PAIRS OF THE OBJECT YOU MUST USE THE THIS KEYWORD!!!! \n",
    "    - For a JS object, the \"this\" keyword is set to the object that the method is called on\n",
    "    var myObj = {\n",
    "    prop: 37,\n",
    "    reportProp: function(){\n",
    "       return this.prop;\n",
    "       }\n",
    "    };\n",
    "    \n",
    "    type console.dir(myObj) to list the characteristics"
   ]
  },
  {
   "cell_type": "markdown",
   "metadata": {},
   "source": [
    "### DOM:  Document Object Model\n",
    "\n",
    "JS to interuct with HTML and CSS"
   ]
  },
  {
   "cell_type": "raw",
   "metadata": {},
   "source": [
    "[072] DOM\n",
    "    - Browsers construct the DOM by storing all the HTML tags as JS objects.\n",
    "    - type document in console to see DOM\n",
    "    - console.dir(document) --> to see actual objects\n",
    "\n",
    "[073] Grab html elements from DOM\n",
    "    - document.URL  .body .head  .links\n",
    "    - document.getElementById(passID) ...  1:31\n",
    "        . getElementByClassName(),   .getElementByTagName()\n",
    "    - document.querySelector(#ID or .cls1)  --> returns first object matching CSS style selector   document.querySelectorAll() \n",
    "    - Interact with obejct aand change properties\n",
    "    var myheader = document.querySelector(\"h1\")\n",
    "    myheader.style.color = \"red\";\n",
    "    \n",
    "    REMEMBER HOW TO CONNECT WITH JS script:  <script src=\"path_to_js.js\"> \n",
    "    \n",
    "    \n",
    "    FUNDAMENTAL IDEA:\n",
    "    - Grab object from DOM and change properties with JS\n",
    "    - actions on clicks or hover later on!!!!\n",
    "    \n",
    "    \n",
    "    !!!!CREATE RANDOM COLOR GENERATOR HEADER IN JS!!!!!!  14:07 \n",
    "    + every 500 miliseconds (half a second) apply a function!!!\n",
    "  \n",
    "  \n",
    "   \n",
    "[074]  Change text, html content and attributes with DOM !!!!!!\n",
    "    - var.textContent, .innerHTML, .getAttribute(), .setAttribute()\n",
    "    - href is an attribute and I can change it\n",
    "    \n",
    "    \n",
    "[075] Use JS to trigger events!!!!!!!!  (actions on click or hover)\n",
    "    - add Event Listener: JS will be listening for an envent to occur and then execute a function when it happens.\n",
    "    \n",
    "    varFromDOM.addEventListener(event-action , func_to_trigger)  // event=\"click\"\n",
    "    \n",
    "    e.g.\n",
    "    var head = document.querySelector('h1')\n",
    "    head.addEventListener(\"click\", changeColor);\n",
    "    \n",
    "    \n",
    "    Events: Clicks, Hovers, Double Clicks, Drags & more\n",
    "    ########################################################\n",
    "    see ### developer.mozilla.org/en-US/docs/Web/Events ####\n",
    "    ########################################################\n",
    "    Hovers:  \"mouseover\"  to add change when mouse is on it and\n",
    "    \"mouseout\" when it is not anymore\n",
    "    \n",
    "    CLICK \"click\"  (HOW TO CLICK TO REVERT??? CLICK OFF???)\n",
    "    \n",
    "    DOUBLE-CLICK \"dblclick\"\n",
    "    \n",
    "    \n",
    "[076-077-078] Game project INTERACTIVE !!!!\n",
    "\n",
    "    ########\n",
    "    ####   SEE DOM textContent Property \n",
    "    #### and others for the "
   ]
  },
  {
   "cell_type": "code",
   "execution_count": null,
   "metadata": {},
   "outputs": [],
   "source": []
  },
  {
   "cell_type": "code",
   "execution_count": null,
   "metadata": {},
   "outputs": [],
   "source": []
  },
  {
   "cell_type": "code",
   "execution_count": null,
   "metadata": {},
   "outputs": [],
   "source": []
  },
  {
   "cell_type": "code",
   "execution_count": null,
   "metadata": {},
   "outputs": [],
   "source": []
  },
  {
   "cell_type": "code",
   "execution_count": null,
   "metadata": {},
   "outputs": [],
   "source": []
  },
  {
   "cell_type": "code",
   "execution_count": null,
   "metadata": {},
   "outputs": [],
   "source": []
  }
 ],
 "metadata": {
  "kernelspec": {
   "display_name": "Python 3.7.2",
   "language": "python",
   "name": "python3"
  },
  "language_info": {
   "codemirror_mode": {
    "name": "ipython",
    "version": 3
   },
   "file_extension": ".py",
   "mimetype": "text/x-python",
   "name": "python",
   "nbconvert_exporter": "python",
   "pygments_lexer": "ipython3",
   "version": "3.7.6"
  }
 },
 "nbformat": 4,
 "nbformat_minor": 4
}
