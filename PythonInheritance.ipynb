{
 "cells": [
  {
   "cell_type": "code",
   "execution_count": 1,
   "metadata": {},
   "outputs": [],
   "source": [
    "class Base(object):\n",
    "    def __init__(self):\n",
    "        print(\"Base init'ed\")\n",
    "\n",
    "class ChildA(Base):\n",
    "    def __init__(self):\n",
    "        print(\"ChildA init'ed\")\n",
    "        Base.__init__(self)\n",
    "\n",
    "class ChildB(Base):\n",
    "    def __init__(self):\n",
    "        print(\"ChildB init'ed\")\n",
    "        super(ChildB, self).__init__()"
   ]
  },
  {
   "cell_type": "markdown",
   "metadata": {},
   "source": [
    "let's create a dependency that we want to be called after the Child:"
   ]
  },
  {
   "cell_type": "code",
   "execution_count": 2,
   "metadata": {},
   "outputs": [],
   "source": [
    "class UserDependency(Base):\n",
    "    def __init__(self):\n",
    "        print(\"UserDependency init'ed\")\n",
    "        super(UserDependency, self).__init__()"
   ]
  },
  {
   "cell_type": "markdown",
   "metadata": {},
   "source": [
    "Now remember, ChildB uses super, ChildA does not:"
   ]
  },
  {
   "cell_type": "code",
   "execution_count": 3,
   "metadata": {},
   "outputs": [],
   "source": [
    "class UserA(ChildA, UserDependency):\n",
    "    def __init__(self):\n",
    "        print(\"UserA init'ed\")\n",
    "        super(UserA, self).__init__()\n",
    "\n",
    "class UserB(ChildB, UserDependency):\n",
    "    def __init__(self):\n",
    "        print(\"UserB init'ed\")\n",
    "        super(UserB, self).__init__()"
   ]
  },
  {
   "cell_type": "markdown",
   "metadata": {},
   "source": [
    "And UserA does not call the UserDependency method:"
   ]
  },
  {
   "cell_type": "code",
   "execution_count": 4,
   "metadata": {},
   "outputs": [
    {
     "name": "stdout",
     "output_type": "stream",
     "text": [
      "UserA init'ed\n",
      "ChildA init'ed\n",
      "Base init'ed\n"
     ]
    },
    {
     "data": {
      "text/plain": [
       "<__main__.UserA at 0x2079d2163c8>"
      ]
     },
     "execution_count": 4,
     "metadata": {},
     "output_type": "execute_result"
    }
   ],
   "source": [
    "UserA()"
   ]
  },
  {
   "cell_type": "code",
   "execution_count": 5,
   "metadata": {},
   "outputs": [
    {
     "name": "stdout",
     "output_type": "stream",
     "text": [
      "UserB init'ed\n",
      "ChildB init'ed\n",
      "UserDependency init'ed\n",
      "Base init'ed\n"
     ]
    },
    {
     "data": {
      "text/plain": [
       "<__main__.UserB at 0x2079d1dfe80>"
      ]
     },
     "execution_count": 5,
     "metadata": {},
     "output_type": "execute_result"
    }
   ],
   "source": [
    "UserB()"
   ]
  },
  {
   "cell_type": "code",
   "execution_count": null,
   "metadata": {},
   "outputs": [],
   "source": []
  }
 ],
 "metadata": {
  "kernelspec": {
   "display_name": "Python 3",
   "language": "python",
   "name": "python3"
  },
  "language_info": {
   "codemirror_mode": {
    "name": "ipython",
    "version": 3
   },
   "file_extension": ".py",
   "mimetype": "text/x-python",
   "name": "python",
   "nbconvert_exporter": "python",
   "pygments_lexer": "ipython3",
   "version": "3.7.2"
  }
 },
 "nbformat": 4,
 "nbformat_minor": 2
}
