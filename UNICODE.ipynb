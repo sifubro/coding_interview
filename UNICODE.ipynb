{
 "cells": [
  {
   "cell_type": "code",
   "execution_count": 32,
   "id": "ad16daa7",
   "metadata": {},
   "outputs": [
    {
     "data": {
      "text/plain": [
       "bytes"
      ]
     },
     "execution_count": 32,
     "metadata": {},
     "output_type": "execute_result"
    }
   ],
   "source": [
    "my_bytes = b'abc'\n",
    "type(my_bytes)"
   ]
  },
  {
   "cell_type": "code",
   "execution_count": 33,
   "id": "81f2df1d",
   "metadata": {},
   "outputs": [
    {
     "data": {
      "text/plain": [
       "(97, 98, 99)"
      ]
     },
     "execution_count": 33,
     "metadata": {},
     "output_type": "execute_result"
    }
   ],
   "source": [
    "my_bytes[0], my_bytes[1], my_bytes[2]"
   ]
  },
  {
   "cell_type": "code",
   "execution_count": 34,
   "id": "acfcd3e0",
   "metadata": {},
   "outputs": [
    {
     "data": {
      "text/plain": [
       "b'abc'"
      ]
     },
     "execution_count": 34,
     "metadata": {},
     "output_type": "execute_result"
    }
   ],
   "source": [
    "my_bytes[:]"
   ]
  },
  {
   "cell_type": "code",
   "execution_count": 38,
   "id": "d9f47141",
   "metadata": {},
   "outputs": [
    {
     "data": {
      "text/plain": [
       "bytes"
      ]
     },
     "execution_count": 38,
     "metadata": {},
     "output_type": "execute_result"
    }
   ],
   "source": [
    "my_bytes = bytes( 'Example!' , encoding='utf-8' )\n",
    "type(my_bytes)"
   ]
  },
  {
   "cell_type": "code",
   "execution_count": 40,
   "id": "4c236096",
   "metadata": {},
   "outputs": [
    {
     "name": "stdout",
     "output_type": "stream",
     "text": [
      "69 120 97 109 112 108 101 33\n"
     ]
    }
   ],
   "source": [
    "print(*my_bytes)"
   ]
  },
  {
   "cell_type": "code",
   "execution_count": 41,
   "id": "b8f43fb3",
   "metadata": {},
   "outputs": [
    {
     "data": {
      "text/plain": [
       "bytes"
      ]
     },
     "execution_count": 41,
     "metadata": {},
     "output_type": "execute_result"
    }
   ],
   "source": [
    "my_bytes = bytes( 'Θοδωρής' , encoding='utf-8' )\n",
    "type(my_bytes)"
   ]
  },
  {
   "cell_type": "code",
   "execution_count": 5,
   "id": "a345924f",
   "metadata": {},
   "outputs": [
    {
     "ename": "SyntaxError",
     "evalue": "bytes can only contain ASCII literal characters. (<ipython-input-5-26f89745d4de>, line 1)",
     "output_type": "error",
     "traceback": [
      "\u001b[1;36m  File \u001b[1;32m\"<ipython-input-5-26f89745d4de>\"\u001b[1;36m, line \u001b[1;32m1\u001b[0m\n\u001b[1;33m    my_bytes = b'Θοδωρής'\u001b[0m\n\u001b[1;37m              ^\u001b[0m\n\u001b[1;31mSyntaxError\u001b[0m\u001b[1;31m:\u001b[0m bytes can only contain ASCII literal characters.\n"
     ]
    }
   ],
   "source": [
    "my_bytes = b'Θοδωρής'\n",
    "type(my_bytes)"
   ]
  },
  {
   "cell_type": "code",
   "execution_count": 9,
   "id": "2d2630af",
   "metadata": {},
   "outputs": [
    {
     "ename": "UnicodeEncodeError",
     "evalue": "'latin-1' codec can't encode characters in position 0-6: ordinal not in range(256)",
     "output_type": "error",
     "traceback": [
      "\u001b[1;31m---------------------------------------------------------------------------\u001b[0m",
      "\u001b[1;31mUnicodeEncodeError\u001b[0m                        Traceback (most recent call last)",
      "\u001b[1;32m<ipython-input-9-a5d0fb3ed972>\u001b[0m in \u001b[0;36m<module>\u001b[1;34m\u001b[0m\n\u001b[1;32m----> 1\u001b[1;33m \u001b[0mmy_bytes\u001b[0m \u001b[1;33m=\u001b[0m \u001b[0mbytes\u001b[0m\u001b[1;33m(\u001b[0m \u001b[1;34m'Θοδωρής'\u001b[0m \u001b[1;33m,\u001b[0m \u001b[0mencoding\u001b[0m\u001b[1;33m=\u001b[0m\u001b[1;34m'latin-1'\u001b[0m \u001b[1;33m)\u001b[0m\u001b[1;33m\u001b[0m\u001b[1;33m\u001b[0m\u001b[0m\n\u001b[0m\u001b[0;32m      2\u001b[0m \u001b[0mtype\u001b[0m\u001b[1;33m(\u001b[0m\u001b[0mmy_bytes\u001b[0m\u001b[1;33m)\u001b[0m\u001b[1;33m\u001b[0m\u001b[1;33m\u001b[0m\u001b[0m\n",
      "\u001b[1;31mUnicodeEncodeError\u001b[0m: 'latin-1' codec can't encode characters in position 0-6: ordinal not in range(256)"
     ]
    }
   ],
   "source": [
    "my_bytes = bytes( 'Θοδωρής' , encoding='latin-1' )\n",
    "type(my_bytes)"
   ]
  },
  {
   "cell_type": "code",
   "execution_count": 44,
   "id": "381ce7cb",
   "metadata": {},
   "outputs": [
    {
     "data": {
      "text/plain": [
       "bytes"
      ]
     },
     "execution_count": 44,
     "metadata": {},
     "output_type": "execute_result"
    }
   ],
   "source": [
    "my_bytes = bytes( 'Θ' , encoding='utf-8' )\n",
    "type(my_bytes)"
   ]
  },
  {
   "cell_type": "code",
   "execution_count": 49,
   "id": "1a761f9f",
   "metadata": {},
   "outputs": [
    {
     "data": {
      "text/plain": [
       "b'\\xce\\x98'"
      ]
     },
     "execution_count": 49,
     "metadata": {},
     "output_type": "execute_result"
    }
   ],
   "source": [
    "my_bytes"
   ]
  },
  {
   "cell_type": "code",
   "execution_count": 45,
   "id": "a263dd05",
   "metadata": {},
   "outputs": [
    {
     "name": "stdout",
     "output_type": "stream",
     "text": [
      "206 152\n"
     ]
    }
   ],
   "source": [
    "print(*my_bytes)"
   ]
  },
  {
   "cell_type": "code",
   "execution_count": 51,
   "id": "7caa007e",
   "metadata": {},
   "outputs": [
    {
     "data": {
      "text/plain": [
       "[206, 152]"
      ]
     },
     "execution_count": 51,
     "metadata": {},
     "output_type": "execute_result"
    }
   ],
   "source": [
    "decimals=[dec for dec in my_bytes]\n",
    "decimals"
   ]
  },
  {
   "cell_type": "code",
   "execution_count": 54,
   "id": "f93b9ac0",
   "metadata": {},
   "outputs": [
    {
     "data": {
      "text/plain": [
       "['0xce', '0x98']"
      ]
     },
     "execution_count": 54,
     "metadata": {},
     "output_type": "execute_result"
    }
   ],
   "source": [
    "hexadecimal = [hex(num) for num in decimals]\n",
    "hexadecimal"
   ]
  },
  {
   "cell_type": "code",
   "execution_count": 59,
   "id": "8f68b9b3",
   "metadata": {},
   "outputs": [
    {
     "data": {
      "text/plain": [
       "'0xce0x98'"
      ]
     },
     "execution_count": 59,
     "metadata": {},
     "output_type": "execute_result"
    }
   ],
   "source": [
    "''.join(hexadecimal)"
   ]
  },
  {
   "cell_type": "code",
   "execution_count": 58,
   "id": "354a7259",
   "metadata": {},
   "outputs": [
    {
     "ename": "TypeError",
     "evalue": "decoding str is not supported",
     "output_type": "error",
     "traceback": [
      "\u001b[1;31m---------------------------------------------------------------------------\u001b[0m",
      "\u001b[1;31mTypeError\u001b[0m                                 Traceback (most recent call last)",
      "\u001b[1;32m<ipython-input-58-986552eb005b>\u001b[0m in \u001b[0;36m<module>\u001b[1;34m\u001b[0m\n\u001b[1;32m----> 1\u001b[1;33m \u001b[0mstr\u001b[0m\u001b[1;33m(\u001b[0m\u001b[1;34m''\u001b[0m\u001b[1;33m.\u001b[0m\u001b[0mjoin\u001b[0m\u001b[1;33m(\u001b[0m\u001b[0mhexadecimal\u001b[0m\u001b[1;33m)\u001b[0m\u001b[1;33m,\u001b[0m \u001b[0mencoding\u001b[0m\u001b[1;33m=\u001b[0m\u001b[1;34m'utf-8'\u001b[0m\u001b[1;33m)\u001b[0m\u001b[1;33m\u001b[0m\u001b[1;33m\u001b[0m\u001b[0m\n\u001b[0m",
      "\u001b[1;31mTypeError\u001b[0m: decoding str is not supported"
     ]
    }
   ],
   "source": [
    "str(''.join(hexadecimal), encoding='utf-8')"
   ]
  },
  {
   "cell_type": "code",
   "execution_count": 61,
   "id": "6ec5548c",
   "metadata": {},
   "outputs": [
    {
     "data": {
      "text/plain": [
       "bytes"
      ]
     },
     "execution_count": 61,
     "metadata": {},
     "output_type": "execute_result"
    }
   ],
   "source": [
    "my_bytes = bytes( 'Θοδωρής' , encoding='utf-8' )\n",
    "type(my_bytes)"
   ]
  },
  {
   "cell_type": "code",
   "execution_count": 62,
   "id": "e71de65b",
   "metadata": {},
   "outputs": [
    {
     "name": "stdout",
     "output_type": "stream",
     "text": [
      "206 152 206 191 206 180 207 137 207 129 206 174 207 130\n"
     ]
    }
   ],
   "source": [
    "print(*my_bytes)"
   ]
  },
  {
   "cell_type": "code",
   "execution_count": 63,
   "id": "11eceaf8",
   "metadata": {},
   "outputs": [
    {
     "data": {
      "text/plain": [
       "'Θοδωρής'"
      ]
     },
     "execution_count": 63,
     "metadata": {},
     "output_type": "execute_result"
    }
   ],
   "source": [
    "str(my_bytes, encoding='utf-8')"
   ]
  },
  {
   "cell_type": "code",
   "execution_count": 64,
   "id": "785f2db8",
   "metadata": {},
   "outputs": [
    {
     "data": {
      "text/plain": [
       "b'\\xce\\x98'"
      ]
     },
     "execution_count": 64,
     "metadata": {},
     "output_type": "execute_result"
    }
   ],
   "source": [
    "my_bytes[:2]"
   ]
  },
  {
   "cell_type": "code",
   "execution_count": 76,
   "id": "6464fa74",
   "metadata": {},
   "outputs": [
    {
     "data": {
      "text/plain": [
       "240"
      ]
     },
     "execution_count": 76,
     "metadata": {},
     "output_type": "execute_result"
    }
   ],
   "source": [
    "some_bytes = b'\\x00\\xF0'\n",
    "i = int.from_bytes(some_bytes, byteorder='big')\n",
    "i"
   ]
  },
  {
   "cell_type": "code",
   "execution_count": 79,
   "id": "6e99fb07",
   "metadata": {},
   "outputs": [
    {
     "data": {
      "text/plain": [
       "206"
      ]
     },
     "execution_count": 79,
     "metadata": {},
     "output_type": "execute_result"
    }
   ],
   "source": [
    "some_bytes = b'\\x00\\xce'\n",
    "i = int.from_bytes(some_bytes, byteorder='big')\n",
    "i"
   ]
  },
  {
   "cell_type": "code",
   "execution_count": 80,
   "id": "af329ac3",
   "metadata": {},
   "outputs": [
    {
     "ename": "UnicodeDecodeError",
     "evalue": "'utf-8' codec can't decode byte 0xce in position 1: unexpected end of data",
     "output_type": "error",
     "traceback": [
      "\u001b[1;31m---------------------------------------------------------------------------\u001b[0m",
      "\u001b[1;31mUnicodeDecodeError\u001b[0m                        Traceback (most recent call last)",
      "\u001b[1;32m<ipython-input-80-a1b57ec29353>\u001b[0m in \u001b[0;36m<module>\u001b[1;34m\u001b[0m\n\u001b[1;32m----> 1\u001b[1;33m \u001b[0mstr\u001b[0m\u001b[1;33m(\u001b[0m\u001b[0msome_bytes\u001b[0m\u001b[1;33m,\u001b[0m \u001b[0mencoding\u001b[0m\u001b[1;33m=\u001b[0m\u001b[1;34m'utf-8'\u001b[0m \u001b[1;33m)\u001b[0m\u001b[1;33m\u001b[0m\u001b[1;33m\u001b[0m\u001b[0m\n\u001b[0m",
      "\u001b[1;31mUnicodeDecodeError\u001b[0m: 'utf-8' codec can't decode byte 0xce in position 1: unexpected end of data"
     ]
    }
   ],
   "source": [
    "str(some_bytes, encoding='utf-8' )"
   ]
  },
  {
   "cell_type": "code",
   "execution_count": 67,
   "id": "3580dd07",
   "metadata": {},
   "outputs": [
    {
     "data": {
      "text/plain": [
       "52888"
      ]
     },
     "execution_count": 67,
     "metadata": {},
     "output_type": "execute_result"
    }
   ],
   "source": [
    "i = int.from_bytes(my_bytes[:2], byteorder='big')\n",
    "i"
   ]
  },
  {
   "cell_type": "code",
   "execution_count": 68,
   "id": "7cd0918b",
   "metadata": {},
   "outputs": [
    {
     "data": {
      "text/plain": [
       "'0xce98'"
      ]
     },
     "execution_count": 68,
     "metadata": {},
     "output_type": "execute_result"
    }
   ],
   "source": [
    "hex(52888)"
   ]
  },
  {
   "cell_type": "code",
   "execution_count": 74,
   "id": "ddda1da6",
   "metadata": {},
   "outputs": [
    {
     "data": {
      "text/plain": [
       "'0xce98'"
      ]
     },
     "execution_count": 74,
     "metadata": {},
     "output_type": "execute_result"
    }
   ],
   "source": [
    "str(b'\\xce\\x98', encoding='utf-8')"
   ]
  },
  {
   "cell_type": "code",
   "execution_count": 73,
   "id": "eaa3ea16",
   "metadata": {},
   "outputs": [
    {
     "data": {
      "text/plain": [
       "b'\\xce\\x98'"
      ]
     },
     "execution_count": 73,
     "metadata": {},
     "output_type": "execute_result"
    }
   ],
   "source": [
    "my_bytes[:2]"
   ]
  },
  {
   "cell_type": "code",
   "execution_count": 72,
   "id": "0df78c74",
   "metadata": {},
   "outputs": [
    {
     "data": {
      "text/plain": [
       "'Θ'"
      ]
     },
     "execution_count": 72,
     "metadata": {},
     "output_type": "execute_result"
    }
   ],
   "source": [
    "str(my_bytes[:2], encoding='utf-8')"
   ]
  },
  {
   "cell_type": "code",
   "execution_count": 29,
   "id": "d07f433c",
   "metadata": {},
   "outputs": [
    {
     "data": {
      "text/plain": [
       "b'\\xce\\x98'"
      ]
     },
     "execution_count": 29,
     "metadata": {},
     "output_type": "execute_result"
    }
   ],
   "source": [
    "my_bytes[:2]"
   ]
  },
  {
   "cell_type": "code",
   "execution_count": 17,
   "id": "81c7ab32",
   "metadata": {},
   "outputs": [
    {
     "data": {
      "text/plain": [
       "b'\\xce\\x98\\xce\\xbf\\xce\\xb4\\xcf\\x89\\xcf\\x81\\xce\\xae\\xcf\\x82'"
      ]
     },
     "execution_count": 17,
     "metadata": {},
     "output_type": "execute_result"
    }
   ],
   "source": [
    "my_bytes[:]"
   ]
  },
  {
   "cell_type": "code",
   "execution_count": 26,
   "id": "6a008010",
   "metadata": {},
   "outputs": [
    {
     "data": {
      "text/plain": [
       "206"
      ]
     },
     "execution_count": 26,
     "metadata": {},
     "output_type": "execute_result"
    }
   ],
   "source": [
    "int('ce', 16)"
   ]
  },
  {
   "cell_type": "code",
   "execution_count": 27,
   "id": "98b86227",
   "metadata": {},
   "outputs": [
    {
     "data": {
      "text/plain": [
       "'0xce'"
      ]
     },
     "execution_count": 27,
     "metadata": {},
     "output_type": "execute_result"
    }
   ],
   "source": [
    "hex(206)"
   ]
  },
  {
   "cell_type": "code",
   "execution_count": 28,
   "id": "f4eb40fb",
   "metadata": {},
   "outputs": [
    {
     "data": {
      "text/plain": [
       "206"
      ]
     },
     "execution_count": 28,
     "metadata": {},
     "output_type": "execute_result"
    }
   ],
   "source": [
    "int('0xce', 16)"
   ]
  },
  {
   "cell_type": "code",
   "execution_count": 37,
   "id": "33dea840",
   "metadata": {},
   "outputs": [
    {
     "data": {
      "text/plain": [
       "152"
      ]
     },
     "execution_count": 37,
     "metadata": {},
     "output_type": "execute_result"
    }
   ],
   "source": [
    "int('0x98', 16)"
   ]
  },
  {
   "cell_type": "code",
   "execution_count": 86,
   "id": "ca6de902",
   "metadata": {},
   "outputs": [
    {
     "data": {
      "text/plain": [
       "'\\x00\\x00'"
      ]
     },
     "execution_count": 86,
     "metadata": {},
     "output_type": "execute_result"
    }
   ],
   "source": [
    "str(b'\\x00\\x00', encoding='utf-8')"
   ]
  },
  {
   "cell_type": "code",
   "execution_count": 89,
   "id": "e1136db6",
   "metadata": {},
   "outputs": [
    {
     "data": {
      "text/plain": [
       "'\\x01\\x02\\x03'"
      ]
     },
     "execution_count": 89,
     "metadata": {},
     "output_type": "execute_result"
    }
   ],
   "source": [
    "str(b'\\x01\\x02\\x03', encoding='utf-8')"
   ]
  },
  {
   "cell_type": "code",
   "execution_count": 90,
   "id": "c68bea5e",
   "metadata": {},
   "outputs": [
    {
     "data": {
      "text/plain": [
       "b'\\x01\\x02\\x03'"
      ]
     },
     "execution_count": 90,
     "metadata": {},
     "output_type": "execute_result"
    }
   ],
   "source": [
    "bytes([1,2,3])"
   ]
  },
  {
   "cell_type": "code",
   "execution_count": 87,
   "id": "0b7e0418",
   "metadata": {},
   "outputs": [
    {
     "data": {
      "text/plain": [
       "'Θ'"
      ]
     },
     "execution_count": 87,
     "metadata": {},
     "output_type": "execute_result"
    }
   ],
   "source": [
    "str(b'\\xce\\x98', encoding='utf-8')"
   ]
  },
  {
   "cell_type": "code",
   "execution_count": 94,
   "id": "50e2db64",
   "metadata": {},
   "outputs": [
    {
     "name": "stdout",
     "output_type": "stream",
     "text": [
      "\u0001\u0002\u0003\n"
     ]
    }
   ],
   "source": [
    "print(bytes([1,2,3]).decode('utf-8'))"
   ]
  },
  {
   "cell_type": "code",
   "execution_count": 97,
   "id": "c7b589b7",
   "metadata": {},
   "outputs": [
    {
     "data": {
      "text/plain": [
       "'\\x01\\x02\\x03'"
      ]
     },
     "execution_count": 97,
     "metadata": {},
     "output_type": "execute_result"
    }
   ],
   "source": [
    "bytes([1,2,3]).decode('utf-8')"
   ]
  },
  {
   "cell_type": "code",
   "execution_count": 96,
   "id": "67607a01",
   "metadata": {},
   "outputs": [
    {
     "name": "stdout",
     "output_type": "stream",
     "text": [
      "Θοδωρης\n"
     ]
    }
   ],
   "source": [
    "print(bytes('Θοδωρης', encoding='utf-8').decode('utf-8'))"
   ]
  },
  {
   "cell_type": "code",
   "execution_count": null,
   "id": "231f7cff",
   "metadata": {},
   "outputs": [],
   "source": []
  },
  {
   "cell_type": "code",
   "execution_count": 98,
   "id": "a64bd21f",
   "metadata": {},
   "outputs": [],
   "source": [
    "def string_to_bytes(string, encoding='utf-8'):\n",
    "    my_bytes = bytes(string, encoding=encoding)\n",
    "    return my_bytes"
   ]
  },
  {
   "cell_type": "code",
   "execution_count": 99,
   "id": "33528bab",
   "metadata": {},
   "outputs": [
    {
     "data": {
      "text/plain": [
       "b'Theo'"
      ]
     },
     "execution_count": 99,
     "metadata": {},
     "output_type": "execute_result"
    }
   ],
   "source": [
    "string_to_bytes('Theo')"
   ]
  },
  {
   "cell_type": "code",
   "execution_count": 100,
   "id": "ca4b12a7",
   "metadata": {},
   "outputs": [
    {
     "data": {
      "text/plain": [
       "b'\\xce\\x98\\xce\\xbf\\xce\\xb4\\xcf\\x89\\xcf\\x81\\xce\\xae\\xcf\\x82'"
      ]
     },
     "execution_count": 100,
     "metadata": {},
     "output_type": "execute_result"
    }
   ],
   "source": [
    "string_to_bytes('Θοδωρής')"
   ]
  },
  {
   "cell_type": "code",
   "execution_count": 113,
   "id": "e5cf4baf",
   "metadata": {},
   "outputs": [
    {
     "data": {
      "text/plain": [
       "b'\\xce\\xa6'"
      ]
     },
     "execution_count": 113,
     "metadata": {},
     "output_type": "execute_result"
    }
   ],
   "source": [
    "string_to_bytes('Φ')"
   ]
  },
  {
   "cell_type": "code",
   "execution_count": 101,
   "id": "e21e5ab3",
   "metadata": {},
   "outputs": [],
   "source": [
    "def bytes_to_strings(my_bytes):\n",
    "    my_string = my_bytes.decode('utf-8')\n",
    "    return my_string"
   ]
  },
  {
   "cell_type": "code",
   "execution_count": 102,
   "id": "f82ff3f4",
   "metadata": {},
   "outputs": [
    {
     "data": {
      "text/plain": [
       "'Θοδωρής'"
      ]
     },
     "execution_count": 102,
     "metadata": {},
     "output_type": "execute_result"
    }
   ],
   "source": [
    "bytes_to_strings(string_to_bytes('Θοδωρής'))"
   ]
  },
  {
   "cell_type": "code",
   "execution_count": 103,
   "id": "7022d807",
   "metadata": {},
   "outputs": [],
   "source": [
    "def string_byte_string(string):\n",
    "    return bytes_to_strings(string_to_bytes(string))"
   ]
  },
  {
   "cell_type": "code",
   "execution_count": 104,
   "id": "ba7e8bbd",
   "metadata": {},
   "outputs": [
    {
     "data": {
      "text/plain": [
       "'Theo'"
      ]
     },
     "execution_count": 104,
     "metadata": {},
     "output_type": "execute_result"
    }
   ],
   "source": [
    "string_byte_string('Theo')"
   ]
  },
  {
   "cell_type": "code",
   "execution_count": 105,
   "id": "d023c13f",
   "metadata": {},
   "outputs": [
    {
     "ename": "TypeError",
     "evalue": "encoding without a string argument",
     "output_type": "error",
     "traceback": [
      "\u001b[1;31m---------------------------------------------------------------------------\u001b[0m",
      "\u001b[1;31mTypeError\u001b[0m                                 Traceback (most recent call last)",
      "\u001b[1;32m<ipython-input-105-cc2faf74988e>\u001b[0m in \u001b[0;36m<module>\u001b[1;34m\u001b[0m\n\u001b[1;32m----> 1\u001b[1;33m \u001b[0mstring_byte_string\u001b[0m\u001b[1;33m(\u001b[0m\u001b[1;36m6\u001b[0m\u001b[1;33m)\u001b[0m\u001b[1;33m\u001b[0m\u001b[1;33m\u001b[0m\u001b[0m\n\u001b[0m",
      "\u001b[1;32m<ipython-input-103-9709252f0ef0>\u001b[0m in \u001b[0;36mstring_byte_string\u001b[1;34m(string)\u001b[0m\n\u001b[0;32m      1\u001b[0m \u001b[1;32mdef\u001b[0m \u001b[0mstring_byte_string\u001b[0m\u001b[1;33m(\u001b[0m\u001b[0mstring\u001b[0m\u001b[1;33m)\u001b[0m\u001b[1;33m:\u001b[0m\u001b[1;33m\u001b[0m\u001b[1;33m\u001b[0m\u001b[0m\n\u001b[1;32m----> 2\u001b[1;33m     \u001b[1;32mreturn\u001b[0m \u001b[0mbytes_to_strings\u001b[0m\u001b[1;33m(\u001b[0m\u001b[0mstring_to_bytes\u001b[0m\u001b[1;33m(\u001b[0m\u001b[0mstring\u001b[0m\u001b[1;33m)\u001b[0m\u001b[1;33m)\u001b[0m\u001b[1;33m\u001b[0m\u001b[1;33m\u001b[0m\u001b[0m\n\u001b[0m",
      "\u001b[1;32m<ipython-input-98-6f74f91d23c2>\u001b[0m in \u001b[0;36mstring_to_bytes\u001b[1;34m(string, encoding)\u001b[0m\n\u001b[0;32m      1\u001b[0m \u001b[1;32mdef\u001b[0m \u001b[0mstring_to_bytes\u001b[0m\u001b[1;33m(\u001b[0m\u001b[0mstring\u001b[0m\u001b[1;33m,\u001b[0m \u001b[0mencoding\u001b[0m\u001b[1;33m=\u001b[0m\u001b[1;34m'utf-8'\u001b[0m\u001b[1;33m)\u001b[0m\u001b[1;33m:\u001b[0m\u001b[1;33m\u001b[0m\u001b[1;33m\u001b[0m\u001b[0m\n\u001b[1;32m----> 2\u001b[1;33m     \u001b[0mmy_bytes\u001b[0m \u001b[1;33m=\u001b[0m \u001b[0mbytes\u001b[0m\u001b[1;33m(\u001b[0m\u001b[0mstring\u001b[0m\u001b[1;33m,\u001b[0m \u001b[0mencoding\u001b[0m\u001b[1;33m=\u001b[0m\u001b[0mencoding\u001b[0m\u001b[1;33m)\u001b[0m\u001b[1;33m\u001b[0m\u001b[1;33m\u001b[0m\u001b[0m\n\u001b[0m\u001b[0;32m      3\u001b[0m     \u001b[1;32mreturn\u001b[0m \u001b[0mmy_bytes\u001b[0m\u001b[1;33m\u001b[0m\u001b[1;33m\u001b[0m\u001b[0m\n",
      "\u001b[1;31mTypeError\u001b[0m: encoding without a string argument"
     ]
    }
   ],
   "source": [
    "string_byte_string(6)"
   ]
  },
  {
   "cell_type": "code",
   "execution_count": null,
   "id": "f99bb2e7",
   "metadata": {},
   "outputs": [],
   "source": []
  },
  {
   "cell_type": "code",
   "execution_count": 109,
   "id": "5d986bf6",
   "metadata": {},
   "outputs": [
    {
     "data": {
      "text/plain": [
       "b'\\x00\\x06'"
      ]
     },
     "execution_count": 109,
     "metadata": {},
     "output_type": "execute_result"
    }
   ],
   "source": [
    "(6).to_bytes(2, byteorder='big')"
   ]
  },
  {
   "cell_type": "code",
   "execution_count": 110,
   "id": "14a975b5",
   "metadata": {},
   "outputs": [
    {
     "ename": "AttributeError",
     "evalue": "'str' object has no attribute 'to_bytes'",
     "output_type": "error",
     "traceback": [
      "\u001b[1;31m---------------------------------------------------------------------------\u001b[0m",
      "\u001b[1;31mAttributeError\u001b[0m                            Traceback (most recent call last)",
      "\u001b[1;32m<ipython-input-110-e93e7b687103>\u001b[0m in \u001b[0;36m<module>\u001b[1;34m\u001b[0m\n\u001b[1;32m----> 1\u001b[1;33m \u001b[1;33m(\u001b[0m\u001b[1;34m'Theo'\u001b[0m\u001b[1;33m)\u001b[0m\u001b[1;33m.\u001b[0m\u001b[0mto_bytes\u001b[0m\u001b[1;33m(\u001b[0m\u001b[1;36m2\u001b[0m\u001b[1;33m,\u001b[0m \u001b[0mbyteorder\u001b[0m\u001b[1;33m=\u001b[0m\u001b[1;34m'big'\u001b[0m\u001b[1;33m)\u001b[0m\u001b[1;33m\u001b[0m\u001b[1;33m\u001b[0m\u001b[0m\n\u001b[0m",
      "\u001b[1;31mAttributeError\u001b[0m: 'str' object has no attribute 'to_bytes'"
     ]
    }
   ],
   "source": [
    "(Theo).to_bytes(2, byteorder='big')"
   ]
  },
  {
   "cell_type": "code",
   "execution_count": 106,
   "id": "7b6acbe9",
   "metadata": {},
   "outputs": [
    {
     "data": {
      "text/plain": [
       "b'\\x00\\x00\\x00\\x00\\x00\\x00'"
      ]
     },
     "execution_count": 106,
     "metadata": {},
     "output_type": "execute_result"
    }
   ],
   "source": [
    "bytes(6)"
   ]
  },
  {
   "cell_type": "code",
   "execution_count": 107,
   "id": "0665e8d4",
   "metadata": {},
   "outputs": [
    {
     "ename": "TypeError",
     "evalue": "encoding without a string argument",
     "output_type": "error",
     "traceback": [
      "\u001b[1;31m---------------------------------------------------------------------------\u001b[0m",
      "\u001b[1;31mTypeError\u001b[0m                                 Traceback (most recent call last)",
      "\u001b[1;32m<ipython-input-107-637778bde88e>\u001b[0m in \u001b[0;36m<module>\u001b[1;34m\u001b[0m\n\u001b[1;32m----> 1\u001b[1;33m \u001b[0mstring_to_bytes\u001b[0m\u001b[1;33m(\u001b[0m\u001b[1;36m6\u001b[0m\u001b[1;33m)\u001b[0m\u001b[1;33m\u001b[0m\u001b[1;33m\u001b[0m\u001b[0m\n\u001b[0m",
      "\u001b[1;32m<ipython-input-98-6f74f91d23c2>\u001b[0m in \u001b[0;36mstring_to_bytes\u001b[1;34m(string, encoding)\u001b[0m\n\u001b[0;32m      1\u001b[0m \u001b[1;32mdef\u001b[0m \u001b[0mstring_to_bytes\u001b[0m\u001b[1;33m(\u001b[0m\u001b[0mstring\u001b[0m\u001b[1;33m,\u001b[0m \u001b[0mencoding\u001b[0m\u001b[1;33m=\u001b[0m\u001b[1;34m'utf-8'\u001b[0m\u001b[1;33m)\u001b[0m\u001b[1;33m:\u001b[0m\u001b[1;33m\u001b[0m\u001b[1;33m\u001b[0m\u001b[0m\n\u001b[1;32m----> 2\u001b[1;33m     \u001b[0mmy_bytes\u001b[0m \u001b[1;33m=\u001b[0m \u001b[0mbytes\u001b[0m\u001b[1;33m(\u001b[0m\u001b[0mstring\u001b[0m\u001b[1;33m,\u001b[0m \u001b[0mencoding\u001b[0m\u001b[1;33m=\u001b[0m\u001b[0mencoding\u001b[0m\u001b[1;33m)\u001b[0m\u001b[1;33m\u001b[0m\u001b[1;33m\u001b[0m\u001b[0m\n\u001b[0m\u001b[0;32m      3\u001b[0m     \u001b[1;32mreturn\u001b[0m \u001b[0mmy_bytes\u001b[0m\u001b[1;33m\u001b[0m\u001b[1;33m\u001b[0m\u001b[0m\n",
      "\u001b[1;31mTypeError\u001b[0m: encoding without a string argument"
     ]
    }
   ],
   "source": [
    "string_to_bytes(6)"
   ]
  },
  {
   "cell_type": "code",
   "execution_count": 114,
   "id": "0f5b6731",
   "metadata": {},
   "outputs": [
    {
     "data": {
      "text/plain": [
       "b'\\xce\\xa6'"
      ]
     },
     "execution_count": 114,
     "metadata": {},
     "output_type": "execute_result"
    }
   ],
   "source": [
    "string_to_bytes('Φ')"
   ]
  },
  {
   "cell_type": "code",
   "execution_count": 120,
   "id": "e1701f0a",
   "metadata": {},
   "outputs": [
    {
     "data": {
      "text/plain": [
       "52902"
      ]
     },
     "execution_count": 120,
     "metadata": {},
     "output_type": "execute_result"
    }
   ],
   "source": [
    "int.from_bytes(string_to_bytes('Φ'), byteorder='big')"
   ]
  },
  {
   "cell_type": "code",
   "execution_count": 119,
   "id": "47a8281e",
   "metadata": {},
   "outputs": [
    {
     "ename": "ValueError",
     "evalue": "invalid literal for int() with base 16: '0xce0xa6'",
     "output_type": "error",
     "traceback": [
      "\u001b[1;31m---------------------------------------------------------------------------\u001b[0m",
      "\u001b[1;31mValueError\u001b[0m                                Traceback (most recent call last)",
      "\u001b[1;32m<ipython-input-119-1eefe6840cab>\u001b[0m in \u001b[0;36m<module>\u001b[1;34m\u001b[0m\n\u001b[1;32m----> 1\u001b[1;33m \u001b[0mint\u001b[0m\u001b[1;33m(\u001b[0m\u001b[1;34m'0xce0xa6'\u001b[0m\u001b[1;33m,\u001b[0m \u001b[1;36m16\u001b[0m\u001b[1;33m)\u001b[0m\u001b[1;33m\u001b[0m\u001b[1;33m\u001b[0m\u001b[0m\n\u001b[0m",
      "\u001b[1;31mValueError\u001b[0m: invalid literal for int() with base 16: '0xce0xa6'"
     ]
    }
   ],
   "source": [
    "int('\\xce\\xa6', 16)"
   ]
  },
  {
   "cell_type": "code",
   "execution_count": null,
   "id": "896800e6",
   "metadata": {},
   "outputs": [],
   "source": []
  },
  {
   "cell_type": "code",
   "execution_count": null,
   "id": "6a8694bc",
   "metadata": {},
   "outputs": [],
   "source": [
    "print(bytes('Θοδωρης', encoding='utf-8').decode('utf-8'))"
   ]
  },
  {
   "cell_type": "code",
   "execution_count": null,
   "id": "69f23768",
   "metadata": {},
   "outputs": [],
   "source": []
  },
  {
   "cell_type": "markdown",
   "id": "4a71694d",
   "metadata": {},
   "source": [
    "## https://www.w3resource.com/python/python-bytes.php"
   ]
  },
  {
   "cell_type": "markdown",
   "id": "a7ba32f5",
   "metadata": {},
   "source": [
    "### return an integer representing the Unicode code point of that character.\n"
   ]
  },
  {
   "cell_type": "code",
   "execution_count": 133,
   "id": "53da5b72",
   "metadata": {},
   "outputs": [
    {
     "data": {
      "text/plain": [
       "48"
      ]
     },
     "execution_count": 133,
     "metadata": {},
     "output_type": "execute_result"
    }
   ],
   "source": [
    "ord('0')"
   ]
  },
  {
   "cell_type": "code",
   "execution_count": 136,
   "id": "b7d581bd",
   "metadata": {},
   "outputs": [
    {
     "data": {
      "text/plain": [
       "916"
      ]
     },
     "execution_count": 136,
     "metadata": {},
     "output_type": "execute_result"
    }
   ],
   "source": [
    "ord('Δ')"
   ]
  },
  {
   "cell_type": "code",
   "execution_count": 137,
   "id": "fadf07a1",
   "metadata": {},
   "outputs": [
    {
     "data": {
      "text/plain": [
       "934"
      ]
     },
     "execution_count": 137,
     "metadata": {},
     "output_type": "execute_result"
    }
   ],
   "source": [
    "ord('Φ')"
   ]
  },
  {
   "cell_type": "code",
   "execution_count": 138,
   "id": "3a43d2ef",
   "metadata": {},
   "outputs": [
    {
     "data": {
      "text/plain": [
       "'0x3a6'"
      ]
     },
     "execution_count": 138,
     "metadata": {},
     "output_type": "execute_result"
    }
   ],
   "source": [
    "hex(934)"
   ]
  },
  {
   "cell_type": "code",
   "execution_count": 139,
   "id": "1a18f607",
   "metadata": {},
   "outputs": [
    {
     "data": {
      "text/plain": [
       "952"
      ]
     },
     "execution_count": 139,
     "metadata": {},
     "output_type": "execute_result"
    }
   ],
   "source": [
    "ord('θ')"
   ]
  },
  {
   "cell_type": "code",
   "execution_count": 140,
   "id": "1f1d52d9",
   "metadata": {},
   "outputs": [
    {
     "data": {
      "text/plain": [
       "'0x3b8'"
      ]
     },
     "execution_count": 140,
     "metadata": {},
     "output_type": "execute_result"
    }
   ],
   "source": [
    "hex(952)"
   ]
  },
  {
   "cell_type": "markdown",
   "id": "f8655844",
   "metadata": {},
   "source": [
    "## Integers to Bytes"
   ]
  },
  {
   "attachments": {
    "image.png": {
     "image/png": "[encoded data removed]"
    }
   },
   "cell_type": "markdown",
   "id": "f869cfc3",
   "metadata": {},
   "source": [
    "![image.png](attachment:image.png)"
   ]
  },
  {
   "cell_type": "markdown",
   "id": "5205574c",
   "metadata": {},
   "source": [
    "- https://stackoverflow.com/questions/21017698/converting-int-to-bytes-in-python-3\n",
    "- https://www.geeksforgeeks.org/how-to-convert-int-to-bytes-in-python/"
   ]
  },
  {
   "cell_type": "code",
   "execution_count": 151,
   "id": "ea604f79",
   "metadata": {},
   "outputs": [
    {
     "data": {
      "text/plain": [
       "b'\\x03'"
      ]
     },
     "execution_count": 151,
     "metadata": {},
     "output_type": "execute_result"
    }
   ],
   "source": [
    "bytes([3])"
   ]
  },
  {
   "cell_type": "code",
   "execution_count": 157,
   "id": "bc7ad08c",
   "metadata": {},
   "outputs": [
    {
     "data": {
      "text/plain": [
       "b'\\x03'"
      ]
     },
     "execution_count": 157,
     "metadata": {},
     "output_type": "execute_result"
    }
   ],
   "source": [
    "(3).to_bytes(1, 'big')"
   ]
  },
  {
   "cell_type": "code",
   "execution_count": 158,
   "id": "f0a23a67",
   "metadata": {},
   "outputs": [
    {
     "data": {
      "text/plain": [
       "b'\\x00\\x03'"
      ]
     },
     "execution_count": 158,
     "metadata": {},
     "output_type": "execute_result"
    }
   ],
   "source": [
    "(3).to_bytes(2, 'big')"
   ]
  },
  {
   "cell_type": "code",
   "execution_count": 164,
   "id": "0bd09471",
   "metadata": {},
   "outputs": [
    {
     "data": {
      "text/plain": [
       "b'\\x08'"
      ]
     },
     "execution_count": 164,
     "metadata": {},
     "output_type": "execute_result"
    }
   ],
   "source": [
    "bytes([8])"
   ]
  },
  {
   "cell_type": "code",
   "execution_count": 165,
   "id": "9208a693",
   "metadata": {},
   "outputs": [
    {
     "data": {
      "text/plain": [
       "b'\\t'"
      ]
     },
     "execution_count": 165,
     "metadata": {},
     "output_type": "execute_result"
    }
   ],
   "source": [
    "bytes([9])"
   ]
  },
  {
   "cell_type": "code",
   "execution_count": 167,
   "id": "c0860d5e",
   "metadata": {},
   "outputs": [
    {
     "data": {
      "text/plain": [
       "b'\\t'"
      ]
     },
     "execution_count": 167,
     "metadata": {},
     "output_type": "execute_result"
    }
   ],
   "source": [
    "(9).to_bytes(1, 'big')"
   ]
  },
  {
   "cell_type": "code",
   "execution_count": 170,
   "id": "748018d5",
   "metadata": {},
   "outputs": [
    {
     "data": {
      "text/plain": [
       "b'\\x00\\t'"
      ]
     },
     "execution_count": 170,
     "metadata": {},
     "output_type": "execute_result"
    }
   ],
   "source": [
    "(9).to_bytes(2, 'big')"
   ]
  },
  {
   "cell_type": "code",
   "execution_count": 175,
   "id": "84fcf540",
   "metadata": {},
   "outputs": [
    {
     "data": {
      "text/plain": [
       "b'\\n'"
      ]
     },
     "execution_count": 175,
     "metadata": {},
     "output_type": "execute_result"
    }
   ],
   "source": [
    "bytes([10])"
   ]
  },
  {
   "cell_type": "markdown",
   "id": "f68cb66b",
   "metadata": {},
   "source": [
    "## Encode and Decode"
   ]
  },
  {
   "cell_type": "code",
   "execution_count": 177,
   "id": "98dee5b0",
   "metadata": {},
   "outputs": [
    {
     "data": {
      "text/plain": [
       "b'\\xce\\x98\\xce\\xbf\\xce\\xb4\\xcf\\x89\\xcf\\x81\\xce\\xb7\\xcf\\x82'"
      ]
     },
     "execution_count": 177,
     "metadata": {},
     "output_type": "execute_result"
    }
   ],
   "source": [
    "'Θοδωρης'.encode()"
   ]
  },
  {
   "cell_type": "code",
   "execution_count": null,
   "id": "e52d72a8",
   "metadata": {},
   "outputs": [],
   "source": []
  },
  {
   "cell_type": "code",
   "execution_count": null,
   "id": "15a7f56d",
   "metadata": {},
   "outputs": [],
   "source": []
  },
  {
   "cell_type": "markdown",
   "id": "3a98ba19",
   "metadata": {},
   "source": [
    "## Printing characters"
   ]
  },
  {
   "cell_type": "code",
   "execution_count": 143,
   "id": "301b356e",
   "metadata": {},
   "outputs": [
    {
     "name": "stdout",
     "output_type": "stream",
     "text": [
      "&\n"
     ]
    }
   ],
   "source": [
    "print('\\46')"
   ]
  },
  {
   "cell_type": "code",
   "execution_count": 142,
   "id": "ee116ad9",
   "metadata": {},
   "outputs": [
    {
     "name": "stdout",
     "output_type": "stream",
     "text": [
      "'\n"
     ]
    }
   ],
   "source": [
    "print('\\47')"
   ]
  },
  {
   "cell_type": "code",
   "execution_count": 144,
   "id": "5d163045",
   "metadata": {},
   "outputs": [
    {
     "name": "stdout",
     "output_type": "stream",
     "text": [
      "\u001a\n"
     ]
    }
   ],
   "source": [
    "print('\\32')"
   ]
  },
  {
   "cell_type": "code",
   "execution_count": 146,
   "id": "b46ce616",
   "metadata": {},
   "outputs": [
    {
     "name": "stdout",
     "output_type": "stream",
     "text": [
      "b'\\\\952'\n"
     ]
    }
   ],
   "source": [
    "print('\\952')"
   ]
  },
  {
   "cell_type": "code",
   "execution_count": 147,
   "id": "16fd6952",
   "metadata": {},
   "outputs": [
    {
     "data": {
      "text/plain": [
       "'θ'"
      ]
     },
     "execution_count": 147,
     "metadata": {},
     "output_type": "execute_result"
    }
   ],
   "source": [
    "chr(952)"
   ]
  },
  {
   "cell_type": "code",
   "execution_count": 148,
   "id": "ecf44b24",
   "metadata": {},
   "outputs": [
    {
     "data": {
      "text/plain": [
       "'/'"
      ]
     },
     "execution_count": 148,
     "metadata": {},
     "output_type": "execute_result"
    }
   ],
   "source": [
    "chr(47)"
   ]
  },
  {
   "cell_type": "code",
   "execution_count": 149,
   "id": "4075235c",
   "metadata": {},
   "outputs": [
    {
     "data": {
      "text/plain": [
       "'.'"
      ]
     },
     "execution_count": 149,
     "metadata": {},
     "output_type": "execute_result"
    }
   ],
   "source": [
    "chr(46)"
   ]
  },
  {
   "cell_type": "markdown",
   "id": "002fc827",
   "metadata": {},
   "source": [
    "## How to get the character from the numeric code in bytes objects in Python"
   ]
  },
  {
   "cell_type": "code",
   "execution_count": 121,
   "id": "c58d19c3",
   "metadata": {},
   "outputs": [
    {
     "data": {
      "text/plain": [
       "'\\x04'"
      ]
     },
     "execution_count": 121,
     "metadata": {},
     "output_type": "execute_result"
    }
   ],
   "source": [
    "chr(4)"
   ]
  },
  {
   "cell_type": "code",
   "execution_count": 131,
   "id": "02605bf1",
   "metadata": {},
   "outputs": [
    {
     "data": {
      "text/plain": [
       "'\\x0c'"
      ]
     },
     "execution_count": 131,
     "metadata": {},
     "output_type": "execute_result"
    }
   ],
   "source": [
    "chr(12)"
   ]
  },
  {
   "cell_type": "code",
   "execution_count": 123,
   "id": "ee5f8dda",
   "metadata": {},
   "outputs": [
    {
     "data": {
      "text/plain": [
       "'2'"
      ]
     },
     "execution_count": 123,
     "metadata": {},
     "output_type": "execute_result"
    }
   ],
   "source": [
    "chr(50)"
   ]
  },
  {
   "cell_type": "code",
   "execution_count": 124,
   "id": "b3f075d9",
   "metadata": {},
   "outputs": [
    {
     "data": {
      "text/plain": [
       "'1'"
      ]
     },
     "execution_count": 124,
     "metadata": {},
     "output_type": "execute_result"
    }
   ],
   "source": [
    "chr(49)"
   ]
  },
  {
   "cell_type": "code",
   "execution_count": 125,
   "id": "09ead6c3",
   "metadata": {},
   "outputs": [
    {
     "data": {
      "text/plain": [
       "'0'"
      ]
     },
     "execution_count": 125,
     "metadata": {},
     "output_type": "execute_result"
    }
   ],
   "source": [
    "chr(48)"
   ]
  },
  {
   "cell_type": "code",
   "execution_count": 126,
   "id": "6a1d738c",
   "metadata": {},
   "outputs": [
    {
     "data": {
      "text/plain": [
       "'/'"
      ]
     },
     "execution_count": 126,
     "metadata": {},
     "output_type": "execute_result"
    }
   ],
   "source": [
    "chr(47)"
   ]
  },
  {
   "cell_type": "code",
   "execution_count": null,
   "id": "0cee8884",
   "metadata": {},
   "outputs": [],
   "source": [
    "chr()"
   ]
  },
  {
   "cell_type": "code",
   "execution_count": 130,
   "id": "3488108d",
   "metadata": {
    "scrolled": true
   },
   "outputs": [
    {
     "name": "stdout",
     "output_type": "stream",
     "text": [
      "0 --- \u0000\n",
      "1 --- \u0001\n",
      "2 --- \u0002\n",
      "3 --- \u0003\n",
      "4 --- \u0004\n",
      "5 --- \u0005\n",
      "6 --- \u0006\n",
      "7 --- \u0007\n",
      "8 --- \b\n",
      "9 --- \t\n",
      "10 --- \n",
      "\n",
      "11 --- \u000b",
      "\n",
      "12 --- \f",
      "\n",
      "13 --- \r\n",
      "14 --- \u000e\n",
      "15 --- \u000f\n",
      "16 --- \u0010\n",
      "17 --- \u0011\n",
      "18 --- \u0012\n",
      "19 --- \u0013\n",
      "20 --- \u0014\n",
      "21 --- \u0015\n",
      "22 --- \u0016\n",
      "23 --- \u0017\n",
      "24 --- \u0018\n",
      "25 --- \u0019\n",
      "26 --- \u001a\n",
      "27 --- \u001b\n",
      "28 --- \u001c",
      "\n",
      "29 --- \u001d",
      "\n",
      "30 --- \u001e",
      "\n",
      "31 --- \u001f\n",
      "32 ---  \n",
      "33 --- !\n",
      "34 --- \"\n",
      "35 --- #\n",
      "36 --- $\n",
      "37 --- %\n",
      "38 --- &\n",
      "39 --- '\n",
      "40 --- (\n",
      "41 --- )\n",
      "42 --- *\n",
      "43 --- +\n",
      "44 --- ,\n",
      "45 --- -\n",
      "46 --- .\n",
      "47 --- /\n",
      "48 --- 0\n",
      "49 --- 1\n",
      "50 --- 2\n",
      "51 --- 3\n",
      "52 --- 4\n",
      "53 --- 5\n",
      "54 --- 6\n",
      "55 --- 7\n",
      "56 --- 8\n",
      "57 --- 9\n",
      "58 --- :\n",
      "59 --- ;\n",
      "60 --- <\n",
      "61 --- =\n",
      "62 --- >\n",
      "63 --- ?\n",
      "64 --- @\n",
      "65 --- A\n",
      "66 --- B\n",
      "67 --- C\n",
      "68 --- D\n",
      "69 --- E\n",
      "70 --- F\n",
      "71 --- G\n",
      "72 --- H\n",
      "73 --- I\n",
      "74 --- J\n",
      "75 --- K\n",
      "76 --- L\n",
      "77 --- M\n",
      "78 --- N\n",
      "79 --- O\n",
      "80 --- P\n",
      "81 --- Q\n",
      "82 --- R\n",
      "83 --- S\n",
      "84 --- T\n",
      "85 --- U\n",
      "86 --- V\n",
      "87 --- W\n",
      "88 --- X\n",
      "89 --- Y\n",
      "90 --- Z\n",
      "91 --- [\n",
      "92 --- \\\n",
      "93 --- ]\n",
      "94 --- ^\n",
      "95 --- _\n",
      "96 --- `\n",
      "97 --- a\n",
      "98 --- b\n",
      "99 --- c\n"
     ]
    }
   ],
   "source": [
    "for i in range(100):\n",
    "    print(i, '---' ,chr(i))"
   ]
  }
 ],
 "metadata": {
  "kernelspec": {
   "display_name": "Python 3.7.2",
   "language": "python",
   "name": "python3"
  },
  "language_info": {
   "codemirror_mode": {
    "name": "ipython",
    "version": 3
   },
   "file_extension": ".py",
   "mimetype": "text/x-python",
   "name": "python",
   "nbconvert_exporter": "python",
   "pygments_lexer": "ipython3",
   "version": "3.7.6"
  }
 },
 "nbformat": 4,
 "nbformat_minor": 5
}
