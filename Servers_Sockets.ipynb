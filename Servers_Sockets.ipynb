{
 "cells": [
  {
   "cell_type": "markdown",
   "metadata": {},
   "source": [
    "\n",
    "https://www.youtube.com/watch?v=3QiPPX-KeSc&ab_channel=TechWithTim\n",
    "\n",
    "https://www.youtube.com/watch?v=Lbfe3-v7yE0&list=PLQVvvaa0QuDdzLB_0JSTTcl8E8jsJLhR5&index=1&ab_channel=sentdex\n",
    "\n",
    "https://realpython.com/python-sockets/\n",
    "\n",
    "\n",
    "https://www.educative.io/edpresso/socket-programming-in-python?utm_source=Google%20AdWords&aid=5082902844932096&utm_medium=cpc&utm_campaign=kb-dynamic-edpresso&gclid=CjwKCAiA17P9BRB2EiwAMvwNyKSq1IbeaHiLk6zIn4mJcHJFQnZqYhp867pGYypkoxINiqlLiAZ-JhoCw28QAvD_BwE\n",
    "\n",
    "### server tutorials python\n",
    "\n",
    "\n",
    "https://realpython.com/python-sockets/\n",
    "\n",
    "https://pythonprogramming.net/client-server-python-sockets/\n",
    "\n",
    "\n",
    "### HTTP server\n",
    "\n",
    "https://www.youtube.com/watch?v=hFNZ6kdBgO0&ab_channel=howCode\n",
    "\n",
    "#### build HTTP server to train machine learning models remotely\n",
    "\n",
    "https://www.datacamp.com/community/tutorials/machine-learning-models-api-python\n",
    "\n",
    "\n"
   ]
  },
  {
   "cell_type": "code",
   "execution_count": null,
   "metadata": {},
   "outputs": [],
   "source": []
  },
  {
   "cell_type": "code",
   "execution_count": null,
   "metadata": {},
   "outputs": [],
   "source": []
  },
  {
   "cell_type": "code",
   "execution_count": null,
   "metadata": {},
   "outputs": [],
   "source": []
  },
  {
   "cell_type": "code",
   "execution_count": null,
   "metadata": {},
   "outputs": [],
   "source": []
  }
 ],
 "metadata": {
  "kernelspec": {
   "display_name": "Python 3.7.2",
   "language": "python",
   "name": "python3"
  },
  "language_info": {
   "codemirror_mode": {
    "name": "ipython",
    "version": 3
   },
   "file_extension": ".py",
   "mimetype": "text/x-python",
   "name": "python",
   "nbconvert_exporter": "python",
   "pygments_lexer": "ipython3",
   "version": "3.7.6"
  }
 },
 "nbformat": 4,
 "nbformat_minor": 4
}
