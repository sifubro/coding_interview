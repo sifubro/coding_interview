{
 "cells": [
  {
   "cell_type": "markdown",
   "metadata": {},
   "source": [
    "### https://www.pythoncontent.com/args-and-kwargs-in-python/\n",
    "### https://realpython.com/python-kwargs-and-args/\n",
    "### https://www.geeksforgeeks.org/args-kwargs-python/"
   ]
  },
  {
   "cell_type": "markdown",
   "metadata": {},
   "source": [
    "Using the *, the variable that we associate with the * becomes an iterable meaning you can do things like iterate over it, run some higher-order functions such as map and filter, etc."
   ]
  },
  {
   "cell_type": "code",
   "execution_count": null,
   "metadata": {},
   "outputs": [],
   "source": []
  },
  {
   "cell_type": "code",
   "execution_count": null,
   "metadata": {},
   "outputs": [],
   "source": []
  },
  {
   "cell_type": "code",
   "execution_count": 2,
   "metadata": {},
   "outputs": [],
   "source": [
    "def func(a,b=2,c=3, *args,**kwargs):\n",
    "    print(a,b,c)\n",
    "    print(args)  # tuple\n",
    "    print(kwargs) # dictionary"
   ]
  },
  {
   "cell_type": "code",
   "execution_count": 3,
   "metadata": {},
   "outputs": [
    {
     "name": "stdout",
     "output_type": "stream",
     "text": [
      "7 2 3\n",
      "()\n",
      "{}\n"
     ]
    }
   ],
   "source": [
    "func(7)"
   ]
  },
  {
   "cell_type": "code",
   "execution_count": 4,
   "metadata": {},
   "outputs": [
    {
     "name": "stdout",
     "output_type": "stream",
     "text": [
      "7 6 5\n",
      "()\n",
      "{}\n"
     ]
    }
   ],
   "source": [
    "func(7,6,5)"
   ]
  },
  {
   "cell_type": "code",
   "execution_count": 5,
   "metadata": {},
   "outputs": [
    {
     "name": "stdout",
     "output_type": "stream",
     "text": [
      "7 6 5\n",
      "(11, 12, 13, 14)\n",
      "{}\n"
     ]
    }
   ],
   "source": [
    "func(7,6,5,11,12,13,14)"
   ]
  },
  {
   "cell_type": "code",
   "execution_count": 6,
   "metadata": {},
   "outputs": [
    {
     "name": "stdout",
     "output_type": "stream",
     "text": [
      "7 6 5\n",
      "(11, 12, 13, 14)\n",
      "{'k': 4, 'm': 7}\n"
     ]
    }
   ],
   "source": [
    "func(7,6,5,11,12,13,14, k=4, m=7)"
   ]
  },
  {
   "cell_type": "code",
   "execution_count": 7,
   "metadata": {},
   "outputs": [
    {
     "name": "stdout",
     "output_type": "stream",
     "text": [
      "7 6 5\n",
      "(11, 12, 13, 14, {'k': 4, 'm': 7})\n",
      "{}\n"
     ]
    }
   ],
   "source": [
    "func(7,6,5,11,12,13,14,{'k':4, 'm':7})"
   ]
  },
  {
   "cell_type": "code",
   "execution_count": 8,
   "metadata": {},
   "outputs": [
    {
     "name": "stdout",
     "output_type": "stream",
     "text": [
      "7 6 5\n",
      "(11, 12, 13, 14, [1, 2, 3, 4], {'k': 4, 'm': 7})\n",
      "{}\n"
     ]
    }
   ],
   "source": [
    "func(7,6,5,11,12,13,14,[1,2,3,4],{'k':4, 'm':7})"
   ]
  },
  {
   "cell_type": "code",
   "execution_count": 9,
   "metadata": {},
   "outputs": [
    {
     "name": "stdout",
     "output_type": "stream",
     "text": [
      "7 6 5\n",
      "(11, 12, 13, 14, [1, 2, 3, 4], {'k': 4, 'm': 7})\n",
      "{'weapon': 'gun', 'ability': 'haste'}\n"
     ]
    }
   ],
   "source": [
    "func(7,6,5,11,12,13,14,[1,2,3,4],{'k':4, 'm':7}, weapon='gun', ability='haste')"
   ]
  },
  {
   "cell_type": "code",
   "execution_count": 11,
   "metadata": {},
   "outputs": [],
   "source": [
    "def func(a,b=2,c=3, *args,**kwargs):\n",
    "    print(a,b,c)\n",
    "    print(args)  # tuple\n",
    "    print(kwargs) # dictionary\n",
    "    if 'weapon' in kwargs:\n",
    "        print('Using weapon: {} to fight!'.format(kwargs['weapon']))\n",
    "    if 'ability' in kwargs:\n",
    "        print(f\"Using ability:{kwargs['ability']}!\")"
   ]
  },
  {
   "cell_type": "code",
   "execution_count": 12,
   "metadata": {},
   "outputs": [
    {
     "name": "stdout",
     "output_type": "stream",
     "text": [
      "7 6 5\n",
      "(11, 12, 13, 14, [1, 2, 3, 4], {'k': 4, 'm': 7})\n",
      "{'weapon': 'gun', 'ability': 'haste'}\n",
      "Using weapon: gun to fight!\n",
      "Using ability:haste!\n"
     ]
    }
   ],
   "source": [
    "func(7,6,5,11,12,13,14,[1,2,3,4],{'k':4, 'm':7}, weapon='gun', ability='haste')"
   ]
  },
  {
   "cell_type": "code",
   "execution_count": null,
   "metadata": {},
   "outputs": [],
   "source": []
  },
  {
   "cell_type": "code",
   "execution_count": null,
   "metadata": {},
   "outputs": [],
   "source": []
  },
  {
   "cell_type": "code",
   "execution_count": null,
   "metadata": {},
   "outputs": [],
   "source": []
  },
  {
   "cell_type": "code",
   "execution_count": null,
   "metadata": {},
   "outputs": [],
   "source": []
  },
  {
   "cell_type": "code",
   "execution_count": null,
   "metadata": {},
   "outputs": [],
   "source": []
  },
  {
   "cell_type": "code",
   "execution_count": null,
   "metadata": {},
   "outputs": [],
   "source": []
  },
  {
   "cell_type": "code",
   "execution_count": null,
   "metadata": {},
   "outputs": [],
   "source": []
  },
  {
   "cell_type": "code",
   "execution_count": null,
   "metadata": {},
   "outputs": [],
   "source": []
  },
  {
   "cell_type": "code",
   "execution_count": null,
   "metadata": {},
   "outputs": [],
   "source": []
  },
  {
   "cell_type": "markdown",
   "metadata": {},
   "source": [
    "## Args - Kwargs and multiple inheritance  MRO"
   ]
  },
  {
   "cell_type": "markdown",
   "metadata": {},
   "source": [
    "# (A)"
   ]
  },
  {
   "cell_type": "code",
   "execution_count": 31,
   "metadata": {},
   "outputs": [],
   "source": [
    "class Human():\n",
    "    def __init__(self, **kwargs):\n",
    "        print('Human Init')\n",
    "        print(kwargs)\n",
    "        self.hp = kwargs['hp']\n",
    "\n",
    "class Man(Human):\n",
    "    def __init__(self, **kwargs):\n",
    "        super().__init__(**kwargs)\n",
    "        print('Man Init')\n",
    "        print(kwargs)\n",
    "        self.att = kwargs['att']\n",
    "        self.df = kwargs['df']\n",
    "\n",
    "class Hero(Human):\n",
    "    def __init__(self, **kwargs):\n",
    "        super().__init__(**kwargs)\n",
    "        print('Hero Init')\n",
    "        print(kwargs)\n",
    "        self.rank = kwargs['rank']\n",
    "        self.element = kwargs['element']\n",
    "\n",
    "class Yurnero(Man, Hero):\n",
    "    \n",
    "    def __init__(self, **kwargs):\n",
    "        super().__init__(**kwargs)\n",
    "        print('Yurnero Init')\n",
    "        print(kwargs)\n",
    "        self.ability = kwargs['ability']"
   ]
  },
  {
   "cell_type": "code",
   "execution_count": 32,
   "metadata": {},
   "outputs": [
    {
     "data": {
      "text/plain": [
       "[__main__.Yurnero, __main__.Man, __main__.Hero, __main__.Human, object]"
      ]
     },
     "execution_count": 32,
     "metadata": {},
     "output_type": "execute_result"
    }
   ],
   "source": [
    "Yurnero.mro()"
   ]
  },
  {
   "cell_type": "code",
   "execution_count": 33,
   "metadata": {},
   "outputs": [
    {
     "name": "stdout",
     "output_type": "stream",
     "text": [
      "Human Init\n",
      "{'ability': 'spin', 'element': 'earth', 'hp': 100, 'rank': 2, 'att': 22, 'df': 13}\n",
      "Hero Init\n",
      "{'ability': 'spin', 'element': 'earth', 'hp': 100, 'rank': 2, 'att': 22, 'df': 13}\n",
      "Man Init\n",
      "{'ability': 'spin', 'element': 'earth', 'hp': 100, 'rank': 2, 'att': 22, 'df': 13}\n",
      "Yurnero Init\n",
      "{'ability': 'spin', 'element': 'earth', 'hp': 100, 'rank': 2, 'att': 22, 'df': 13}\n"
     ]
    }
   ],
   "source": [
    "kwargs = {'att':22, 'df':13, 'hp':100, 'rank':2 ,'element':'earth', 'ability':'spin'}\n",
    "\n",
    "yurnero = Yurnero(**kwargs)"
   ]
  },
  {
   "cell_type": "markdown",
   "metadata": {},
   "source": [
    "# (B)"
   ]
  },
  {
   "cell_type": "code",
   "execution_count": 51,
   "metadata": {},
   "outputs": [],
   "source": [
    "class Human():\n",
    "    def __init__(self, hp, **kwargs):\n",
    "        print('Human Init')\n",
    "        print(kwargs)\n",
    "        self.hp = hp\n",
    "\n",
    "class Man(Human):\n",
    "    def __init__(self, att, df, **kwargs):\n",
    "        print('Man Init')\n",
    "        print(kwargs)\n",
    "        self.att = att\n",
    "        self.df = df\n",
    "        super().__init__(**kwargs)\n",
    "\n",
    "class Hero(Human):\n",
    "    def __init__(self, rank, element,  **kwargs):\n",
    "        print('Hero Init')\n",
    "        print(kwargs)\n",
    "        self.rank = rank\n",
    "        self.element = element\n",
    "        super().__init__(**kwargs)\n",
    "\n",
    "class Yurnero(Man, Hero):\n",
    "    \n",
    "    def __init__(self,ability, **kwargs):\n",
    "        print('Yurnero Init')\n",
    "        print(kwargs)\n",
    "        self.ability = ability\n",
    "        super().__init__(**kwargs)"
   ]
  },
  {
   "cell_type": "code",
   "execution_count": 52,
   "metadata": {},
   "outputs": [
    {
     "name": "stdout",
     "output_type": "stream",
     "text": [
      "Yurnero Init\n",
      "{'att': 22, 'element': 'earth', 'hp': 100, 'df': 13, 'rank': 2}\n",
      "Man Init\n",
      "{'element': 'earth', 'hp': 100, 'rank': 2}\n",
      "Hero Init\n",
      "{'hp': 100}\n",
      "Human Init\n",
      "{}\n"
     ]
    }
   ],
   "source": [
    "#kwargs = {'att':22, 'df':13, 'hp':100, 'rank':2 ,'element':'earth', 'ability':'spin'}\n",
    "\n",
    "yurnero = Yurnero(att = 22,lco df = 13, hp = 100, rank = 2 ,element = 'earth', ability = 'spin')"
   ]
  },
  {
   "cell_type": "code",
   "execution_count": null,
   "metadata": {},
   "outputs": [],
   "source": []
  },
  {
   "cell_type": "markdown",
   "metadata": {},
   "source": [
    "## Pass arbitrary args and kwargs in init"
   ]
  },
  {
   "cell_type": "code",
   "execution_count": 62,
   "metadata": {},
   "outputs": [],
   "source": [
    "class Human():\n",
    "    def __init__(self,g,  *args, hp,**kwargs):\n",
    "        print('Human Init')\n",
    "        print(kwargs)\n",
    "        self.hp = hp\n",
    "        print(g,hp)\n",
    "\n",
    "        \n",
    "class Man(Human):\n",
    "    def __init__(self, e,f,  *args, att, df, **kwargs):\n",
    "        print('Man Init')\n",
    "        print(kwargs)\n",
    "        self.att = att\n",
    "        self.df = df\n",
    "        print(e,f,att,df)\n",
    "        super().__init__(*args, **kwargs)\n",
    "\n",
    "        \n",
    "        \n",
    "class Hero(Human):\n",
    "    def __init__(self, c,d,  *args, rank, element,  **kwargs):\n",
    "        print('Hero Init')\n",
    "        print(kwargs)\n",
    "        self.rank = rank\n",
    "        self.element = element\n",
    "        print(c,d,rank,element)\n",
    "        super().__init__(*args, **kwargs)\n",
    "\n",
    "        \n",
    "class Yurnero(Man, Hero):\n",
    "    \n",
    "    def __init__(self,a,b, *args, ability,**kwargs):\n",
    "        print('Yurnero Init')\n",
    "        print(kwargs)\n",
    "        self.ability = ability\n",
    "        print(a,b,ability)\n",
    "        super().__init__(*args, **kwargs)\n",
    "        "
   ]
  },
  {
   "cell_type": "code",
   "execution_count": 63,
   "metadata": {},
   "outputs": [
    {
     "name": "stdout",
     "output_type": "stream",
     "text": [
      "Yurnero Init\n",
      "{'att': 22, 'element': 'earth', 'hp': 100, 'df': 13, 'rank': 2}\n",
      "1 2 spin\n",
      "Man Init\n",
      "{'element': 'earth', 'hp': 100, 'rank': 2}\n",
      "3 4 22 13\n",
      "Hero Init\n",
      "{'hp': 100}\n",
      "5 6 2 earth\n",
      "Human Init\n",
      "{}\n",
      "7 100\n"
     ]
    }
   ],
   "source": [
    "yurnero = Yurnero(1,2,3,4,5,6,7, att = 22, df = 13, hp = 100, rank = 2 ,element = 'earth', ability = 'spin')"
   ]
  },
  {
   "cell_type": "code",
   "execution_count": null,
   "metadata": {},
   "outputs": [],
   "source": []
  },
  {
   "cell_type": "code",
   "execution_count": null,
   "metadata": {},
   "outputs": [],
   "source": []
  },
  {
   "cell_type": "code",
   "execution_count": null,
   "metadata": {},
   "outputs": [],
   "source": []
  },
  {
   "cell_type": "code",
   "execution_count": 49,
   "metadata": {},
   "outputs": [
    {
     "name": "stdout",
     "output_type": "stream",
     "text": [
      "Drawing.  Setting color to: blue\n",
      "Drawing.  Setting shape to: square\n"
     ]
    }
   ],
   "source": [
    "class Root:\n",
    "    def draw(self):\n",
    "        # the delegation chain stops here\n",
    "        assert not hasattr(super(), 'draw')\n",
    "\n",
    "class Shape(Root):\n",
    "    def __init__(self, shapename, **kwds):\n",
    "        self.shapename = shapename\n",
    "        super().__init__(**kwds)\n",
    "    def draw(self):\n",
    "        print('Drawing.  Setting shape to:', self.shapename)\n",
    "        super().draw()\n",
    "\n",
    "class ColoredShape(Shape):\n",
    "    def __init__(self, color, **kwds):\n",
    "        self.color = color\n",
    "        super().__init__(**kwds)\n",
    "    def draw(self):\n",
    "        print('Drawing.  Setting color to:', self.color)\n",
    "        super().draw()\n",
    "\n",
    "cs = ColoredShape(color='blue', shapename='square')\n",
    "cs.draw()"
   ]
  },
  {
   "cell_type": "code",
   "execution_count": null,
   "metadata": {},
   "outputs": [],
   "source": [
    "cs = ColoredShape(color='blue', shapename='square')\n",
    "cs.draw()"
   ]
  },
  {
   "cell_type": "code",
   "execution_count": null,
   "metadata": {},
   "outputs": [],
   "source": []
  },
  {
   "cell_type": "code",
   "execution_count": null,
   "metadata": {},
   "outputs": [],
   "source": []
  },
  {
   "cell_type": "code",
   "execution_count": null,
   "metadata": {},
   "outputs": [],
   "source": []
  },
  {
   "cell_type": "code",
   "execution_count": null,
   "metadata": {},
   "outputs": [],
   "source": []
  },
  {
   "cell_type": "code",
   "execution_count": null,
   "metadata": {},
   "outputs": [],
   "source": []
  },
  {
   "cell_type": "code",
   "execution_count": 45,
   "metadata": {},
   "outputs": [],
   "source": [
    "class Human():\n",
    "    def __init__(self, hp, **kwargs):\n",
    "        print('Human Init')\n",
    "        print(kwargs)\n",
    "        self.hp = hp\n",
    "\n",
    "class Man(Human):\n",
    "    def __init__(self, **kwargs):\n",
    "        super().__init__(att, df, **kwargs)\n",
    "        print('Man Init')\n",
    "        print(kwargs)\n",
    "        self.att = att\n",
    "        self.df = df\n",
    "\n",
    "class Hero(Human):\n",
    "    def __init__(self, **kwargs):\n",
    "        super().__init__(rank, element, **kwargs)\n",
    "        print('Hero Init')\n",
    "        print(kwargs)\n",
    "        self.rank = rank\n",
    "        self.element = element\n",
    "\n",
    "class Yurnero(Man, Hero):\n",
    "    \n",
    "    def __init__(self, **kwargs):\n",
    "        print('Yurnero Init')\n",
    "        print(kwargs)\n",
    "        self.ability = kwargs['ability']\n",
    "        super().__init__(**kwargs)"
   ]
  },
  {
   "cell_type": "code",
   "execution_count": 46,
   "metadata": {},
   "outputs": [
    {
     "name": "stdout",
     "output_type": "stream",
     "text": [
      "Yurnero Init\n",
      "{'ability': 'spin', 'element': 'earth', 'hp': 100, 'rank': 2, 'att': 22, 'df': 13}\n"
     ]
    },
    {
     "ename": "NameError",
     "evalue": "name 'att' is not defined",
     "output_type": "error",
     "traceback": [
      "\u001b[1;31m---------------------------------------------------------------------------\u001b[0m",
      "\u001b[1;31mNameError\u001b[0m                                 Traceback (most recent call last)",
      "\u001b[1;32m<ipython-input-46-0cb952674430>\u001b[0m in \u001b[0;36m<module>\u001b[1;34m\u001b[0m\n\u001b[0;32m      1\u001b[0m \u001b[0mkwargs\u001b[0m \u001b[1;33m=\u001b[0m \u001b[1;33m{\u001b[0m\u001b[1;34m'att'\u001b[0m\u001b[1;33m:\u001b[0m\u001b[1;36m22\u001b[0m\u001b[1;33m,\u001b[0m \u001b[1;34m'df'\u001b[0m\u001b[1;33m:\u001b[0m\u001b[1;36m13\u001b[0m\u001b[1;33m,\u001b[0m \u001b[1;34m'hp'\u001b[0m\u001b[1;33m:\u001b[0m\u001b[1;36m100\u001b[0m\u001b[1;33m,\u001b[0m \u001b[1;34m'rank'\u001b[0m\u001b[1;33m:\u001b[0m\u001b[1;36m2\u001b[0m \u001b[1;33m,\u001b[0m\u001b[1;34m'element'\u001b[0m\u001b[1;33m:\u001b[0m\u001b[1;34m'earth'\u001b[0m\u001b[1;33m,\u001b[0m \u001b[1;34m'ability'\u001b[0m\u001b[1;33m:\u001b[0m\u001b[1;34m'spin'\u001b[0m\u001b[1;33m}\u001b[0m\u001b[1;33m\u001b[0m\u001b[0m\n\u001b[0;32m      2\u001b[0m \u001b[1;33m\u001b[0m\u001b[0m\n\u001b[1;32m----> 3\u001b[1;33m \u001b[0myurnero\u001b[0m \u001b[1;33m=\u001b[0m \u001b[0mYurnero\u001b[0m\u001b[1;33m(\u001b[0m\u001b[1;33m**\u001b[0m\u001b[0mkwargs\u001b[0m\u001b[1;33m)\u001b[0m\u001b[1;33m\u001b[0m\u001b[0m\n\u001b[0m",
      "\u001b[1;32m<ipython-input-45-55b542f8e3d6>\u001b[0m in \u001b[0;36m__init__\u001b[1;34m(self, **kwargs)\u001b[0m\n\u001b[0;32m     27\u001b[0m         \u001b[0mprint\u001b[0m\u001b[1;33m(\u001b[0m\u001b[0mkwargs\u001b[0m\u001b[1;33m)\u001b[0m\u001b[1;33m\u001b[0m\u001b[0m\n\u001b[0;32m     28\u001b[0m         \u001b[0mself\u001b[0m\u001b[1;33m.\u001b[0m\u001b[0mability\u001b[0m \u001b[1;33m=\u001b[0m \u001b[0mkwargs\u001b[0m\u001b[1;33m[\u001b[0m\u001b[1;34m'ability'\u001b[0m\u001b[1;33m]\u001b[0m\u001b[1;33m\u001b[0m\u001b[0m\n\u001b[1;32m---> 29\u001b[1;33m         \u001b[0msuper\u001b[0m\u001b[1;33m(\u001b[0m\u001b[1;33m)\u001b[0m\u001b[1;33m.\u001b[0m\u001b[0m__init__\u001b[0m\u001b[1;33m(\u001b[0m\u001b[1;33m**\u001b[0m\u001b[0mkwargs\u001b[0m\u001b[1;33m)\u001b[0m\u001b[1;33m\u001b[0m\u001b[0m\n\u001b[0m",
      "\u001b[1;32m<ipython-input-45-55b542f8e3d6>\u001b[0m in \u001b[0;36m__init__\u001b[1;34m(self, **kwargs)\u001b[0m\n\u001b[0;32m      7\u001b[0m \u001b[1;32mclass\u001b[0m \u001b[0mMan\u001b[0m\u001b[1;33m(\u001b[0m\u001b[0mHuman\u001b[0m\u001b[1;33m)\u001b[0m\u001b[1;33m:\u001b[0m\u001b[1;33m\u001b[0m\u001b[0m\n\u001b[0;32m      8\u001b[0m     \u001b[1;32mdef\u001b[0m \u001b[0m__init__\u001b[0m\u001b[1;33m(\u001b[0m\u001b[0mself\u001b[0m\u001b[1;33m,\u001b[0m \u001b[1;33m**\u001b[0m\u001b[0mkwargs\u001b[0m\u001b[1;33m)\u001b[0m\u001b[1;33m:\u001b[0m\u001b[1;33m\u001b[0m\u001b[0m\n\u001b[1;32m----> 9\u001b[1;33m         \u001b[0msuper\u001b[0m\u001b[1;33m(\u001b[0m\u001b[1;33m)\u001b[0m\u001b[1;33m.\u001b[0m\u001b[0m__init__\u001b[0m\u001b[1;33m(\u001b[0m\u001b[0matt\u001b[0m\u001b[1;33m,\u001b[0m \u001b[0mdf\u001b[0m\u001b[1;33m,\u001b[0m \u001b[1;33m**\u001b[0m\u001b[0mkwargs\u001b[0m\u001b[1;33m)\u001b[0m\u001b[1;33m\u001b[0m\u001b[0m\n\u001b[0m\u001b[0;32m     10\u001b[0m         \u001b[0mprint\u001b[0m\u001b[1;33m(\u001b[0m\u001b[1;34m'Man Init'\u001b[0m\u001b[1;33m)\u001b[0m\u001b[1;33m\u001b[0m\u001b[0m\n\u001b[0;32m     11\u001b[0m         \u001b[0mprint\u001b[0m\u001b[1;33m(\u001b[0m\u001b[0mkwargs\u001b[0m\u001b[1;33m)\u001b[0m\u001b[1;33m\u001b[0m\u001b[0m\n",
      "\u001b[1;31mNameError\u001b[0m: name 'att' is not defined"
     ]
    }
   ],
   "source": [
    "kwargs = {'att':22, 'df':13, 'hp':100, 'rank':2 ,'element':'earth', 'ability':'spin'}\n",
    "\n",
    "yurnero = Yurnero(**kwargs)"
   ]
  },
  {
   "cell_type": "code",
   "execution_count": null,
   "metadata": {},
   "outputs": [],
   "source": []
  },
  {
   "cell_type": "code",
   "execution_count": null,
   "metadata": {},
   "outputs": [],
   "source": []
  },
  {
   "cell_type": "code",
   "execution_count": 7,
   "metadata": {},
   "outputs": [],
   "source": [
    "class Person():\n",
    "    \n",
    "    def __init__(self, *args, **kwargs):\n",
    "        print('args:', args)\n",
    "        print('kwargs:', kwargs)"
   ]
  },
  {
   "cell_type": "code",
   "execution_count": 8,
   "metadata": {},
   "outputs": [
    {
     "name": "stdout",
     "output_type": "stream",
     "text": [
      "args: (1, 2, 3)\n",
      "kwargs: {'hp': 100, 'attack': 5}\n"
     ]
    }
   ],
   "source": [
    "p = Person(1,2,3, hp=100, attack=5)"
   ]
  },
  {
   "cell_type": "code",
   "execution_count": 9,
   "metadata": {},
   "outputs": [
    {
     "name": "stdout",
     "output_type": "stream",
     "text": [
      "args: ((1, 2, 3), {'hp': 100, 'attack': 5})\n",
      "kwargs: {}\n"
     ]
    }
   ],
   "source": [
    "p = Person((1,2,3), {'hp':100, 'attack':5})"
   ]
  },
  {
   "cell_type": "code",
   "execution_count": 12,
   "metadata": {},
   "outputs": [
    {
     "name": "stdout",
     "output_type": "stream",
     "text": [
      "args: (1, 2, 3)\n",
      "kwargs: {'hp': 100, 'attack': 5}\n"
     ]
    }
   ],
   "source": [
    "p = Person(*(1,2,3), **{'hp':100, 'attack':5})"
   ]
  },
  {
   "cell_type": "markdown",
   "metadata": {},
   "source": [
    "\\* can be used for tuple unpacking <br>\n",
    "\\** can be used for dictionary unpacking <br>\n",
    "see https://stackabuse.com/unpacking-in-python-beyond-parallel-assignment/"
   ]
  },
  {
   "cell_type": "code",
   "execution_count": null,
   "metadata": {},
   "outputs": [],
   "source": []
  }
 ],
 "metadata": {
  "kernelspec": {
   "display_name": "Python 3.7.2",
   "language": "python",
   "name": "python3"
  },
  "language_info": {
   "codemirror_mode": {
    "name": "ipython",
    "version": 3
   },
   "file_extension": ".py",
   "mimetype": "text/x-python",
   "name": "python",
   "nbconvert_exporter": "python",
   "pygments_lexer": "ipython3",
   "version": "3.7.6"
  }
 },
 "nbformat": 4,
 "nbformat_minor": 4
}
