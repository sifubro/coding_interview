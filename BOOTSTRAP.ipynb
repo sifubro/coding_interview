{
 "cells": [
  {
   "cell_type": "markdown",
   "metadata": {},
   "source": [
    "Framework for front-end web development\n",
    "\n",
    "Save time from CSS styling\n",
    "\n",
    "\n"
   ]
  },
  {
   "cell_type": "markdown",
   "metadata": {},
   "source": [
    "## Jose Portila"
   ]
  },
  {
   "cell_type": "raw",
   "metadata": {},
   "source": [
    "**[041] Bootstrap v3 VS v4 differences**\n",
    "    - getbootstrap.com\n",
    "    - Predefined CSS !!! Helpful !!!\n",
    "    - Click on --> Whats included:\n",
    "        - Jumbotrop, Buttons, Grids \n",
    "        - Navbars, Progress Bars and more!!!\n",
    "    - Click on --> Components\n",
    "        - Navbars, Forms, Buttons, Progress bars code etc...\n",
    "    - CDN: Content Delivery Network\n",
    "    \n",
    "    \n",
    "**[042] Jumbotron class, connect html content to Bootstrap**\n",
    "    - CDN online host to connect to, instead of downloading bootstrap\n",
    "    - **class=\"container\"** \n",
    "        - https://getbootstrap.com/docs/4.4/layout/overview/\n",
    "        - It nicely centers the text in a unified manner\n",
    "    - Bootstrap comes with some predefined classes to use\n",
    "    - **button classes**\n",
    "        getbootstrap.com/css/#buttons\n",
    "        - styling buttons\n",
    "    - javascript: Click buttons and make things change on the webpage\n",
    "    \n",
    "    \n",
    "**[043] Forms **\n",
    "    - getbootstrap.com/css/#forms\n",
    "    - **Choose File Input** \n",
    "        - class = \"form-control-file\"\n",
    "    - class \"form-group\"\n",
    "        - puts space between components of forms to look nicer\n",
    "    - **\"form-control\"** class in input tags\n",
    "        - rounds corners in input tags, putting them in next line  \n",
    "    - \"small tag\"\n",
    "        - Explanatory text above the input tag. Like a Note.\n",
    "    - Dropdown select \n",
    "    - Multiple selection dropdown using \"select multi class\"\n",
    "    - text area with Bootstrap\n",
    "    - class=\"form-check\" in  Radio buttons\n",
    "        - fieldset class = \"form-check-label\"\n",
    "        - add disabled feature with \"form-check disabled\" class\n",
    "    - legend tag: underlines the headline\n",
    "    - \"form-check\" in checkbox also\n",
    "    \n",
    "    \n",
    "**[044] NavBars, connect html to JS or jQUERY **\n",
    "    - NavBar getbootstrap.com/css/#navbar\n",
    "    - href=\"#\" to link to different parts of the page\n",
    "    - Create a Navbar (looks like a strip on the tip) with clicables  to reference other items or webpages\n",
    "    - Don't put the entire Navbar into a container, but first create a navbar and inside it a container\n",
    "    - Keep the NavBar to the top of the page even if you scroll down using navbar-fixed-top\n",
    "    - Colors for navbars\n",
    "    - Collapse Navbar to hamburger icon when we resize left-right the page\n",
    "        - This is done using the class= \"navbar-toggle collapsed\"\n",
    "        - Then everything that is inside class=\"collapse navbar-collapse\" goes into the hamburger\n",
    "    - JQUERY\n",
    "    \n",
    "**[045] Grids **\n",
    "    -  Provides the mechanism by which websites look good across multiple platforms and screen sizes.\n",
    "    - Purpose of Bootstrap: Look good on desktop, laptop tablet, phone etc.\n",
    "    - Split entire screen into 12 columns and use any combination of numbers that add up to 12 columns.\n",
    "    - Grid system uses \"row\" class and inside row class we have\n",
    "        col-ScrenSize-NumberOfColumns e.g. col-md-6 when we have medium screen size (in terms of pixel ammounts) I want the container to take 6 columns. We can define how the columns should be shown when screen resized (break points)\n",
    "    - Put a css file inside html with \"style\" tag call and write css inside.\n",
    "    - Reference layout/grid/ and examples/grid/ in bootstrap documentation\n",
    "    \n",
    "**[046] NICE PROJECT!!! **"
   ]
  },
  {
   "cell_type": "code",
   "execution_count": null,
   "metadata": {},
   "outputs": [],
   "source": []
  },
  {
   "cell_type": "code",
   "execution_count": null,
   "metadata": {},
   "outputs": [],
   "source": []
  },
  {
   "cell_type": "code",
   "execution_count": null,
   "metadata": {},
   "outputs": [],
   "source": []
  }
 ],
 "metadata": {
  "kernelspec": {
   "display_name": "Python 3.7.2",
   "language": "python",
   "name": "python3"
  },
  "language_info": {
   "codemirror_mode": {
    "name": "ipython",
    "version": 3
   },
   "file_extension": ".py",
   "mimetype": "text/x-python",
   "name": "python",
   "nbconvert_exporter": "python",
   "pygments_lexer": "ipython3",
   "version": "3.7.6"
  }
 },
 "nbformat": 4,
 "nbformat_minor": 4
}
