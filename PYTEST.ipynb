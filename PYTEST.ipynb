{
 "cells": [
  {
   "cell_type": "markdown",
   "id": "1aad70b8",
   "metadata": {},
   "source": [
    "https://stackoverflow.com/questions/23337471/how-to-properly-assert-that-an-exception-gets-raised-in-pytest"
   ]
  },
  {
   "cell_type": "code",
   "execution_count": 1,
   "id": "8e31ec76",
   "metadata": {},
   "outputs": [
    {
     "name": "stdout",
     "output_type": "stream",
     "text": [
      "Requirement already satisfied: pytest in c:\\users\\30694\\anaconda3\\lib\\site-packages (5.3.5)\n",
      "Requirement already satisfied: py>=1.5.0 in c:\\users\\30694\\anaconda3\\lib\\site-packages (from pytest) (1.8.1)\n",
      "Requirement already satisfied: packaging in c:\\users\\30694\\appdata\\roaming\\python\\python37\\site-packages (from pytest) (20.9)\n",
      "Requirement already satisfied: attrs>=17.4.0 in c:\\users\\30694\\anaconda3\\lib\\site-packages (from pytest) (19.3.0)\n",
      "Requirement already satisfied: more-itertools>=4.0.0 in c:\\users\\30694\\anaconda3\\lib\\site-packages (from pytest) (8.2.0)\n",
      "Requirement already satisfied: pluggy<1.0,>=0.12 in c:\\users\\30694\\anaconda3\\lib\\site-packages (from pytest) (0.13.1)\n",
      "Requirement already satisfied: wcwidth in c:\\users\\30694\\anaconda3\\lib\\site-packages (from pytest) (0.1.8)\n",
      "Requirement already satisfied: importlib-metadata>=0.12 in c:\\users\\30694\\anaconda3\\lib\\site-packages (from pytest) (1.5.0)\n",
      "Requirement already satisfied: atomicwrites>=1.0 in c:\\users\\30694\\anaconda3\\lib\\site-packages (from pytest) (1.3.0)\n",
      "Requirement already satisfied: colorama in c:\\users\\30694\\anaconda3\\lib\\site-packages (from pytest) (0.4.3)\n",
      "Requirement already satisfied: pyparsing>=2.0.2 in c:\\users\\30694\\appdata\\roaming\\python\\python37\\site-packages (from packaging->pytest) (2.4.7)\n",
      "Requirement already satisfied: zipp>=0.5 in c:\\users\\30694\\anaconda3\\lib\\site-packages (from importlib-metadata>=0.12->pytest) (2.2.0)\n"
     ]
    }
   ],
   "source": [
    "!pip install pytest"
   ]
  },
  {
   "cell_type": "code",
   "execution_count": null,
   "id": "37160812",
   "metadata": {},
   "outputs": [],
   "source": [
    "import pytest\n",
    "\n",
    "def test_passes():\n",
    "    with pytest.raises(Exception) as e_info:\n",
    "        x = 1 / 0\n",
    "\n",
    "def test_passes_without_info():\n",
    "    with pytest.raises(Exception):\n",
    "        x = 1 / 0\n",
    "\n",
    "def test_fails():\n",
    "    with pytest.raises(Exception) as e_info:\n",
    "        x = 1 / 1\n",
    "\n",
    "def test_fails_without_info():\n",
    "    with pytest.raises(Exception):\n",
    "        x = 1 / 1\n",
    "\n",
    "# Don't do this. Assertions are caught as exceptions.\n",
    "def test_passes_but_should_not():\n",
    "    try:\n",
    "        x = 1 / 1\n",
    "        assert False\n",
    "    except Exception:\n",
    "        assert True\n",
    "\n",
    "# Even if the appropriate exception is caught, it is bad style,\n",
    "# because the test result is less informative\n",
    "# than it would be with pytest.raises(e)\n",
    "# (it just says pass or fail.)\n",
    "\n",
    "def test_passes_but_bad_style():\n",
    "    try:\n",
    "        x = 1 / 0\n",
    "        assert False\n",
    "    except ZeroDivisionError:\n",
    "        assert True\n",
    "\n",
    "def test_fails_but_bad_style():\n",
    "    try:\n",
    "        x = 1 / 1\n",
    "        assert False\n",
    "    except ZeroDivisionError:\n",
    "        assert True"
   ]
  },
  {
   "cell_type": "code",
   "execution_count": null,
   "id": "101c3ba6",
   "metadata": {},
   "outputs": [],
   "source": []
  },
  {
   "cell_type": "code",
   "execution_count": null,
   "id": "8ab9474b",
   "metadata": {},
   "outputs": [],
   "source": []
  },
  {
   "cell_type": "code",
   "execution_count": null,
   "id": "ba7cd35c",
   "metadata": {},
   "outputs": [],
   "source": []
  },
  {
   "cell_type": "code",
   "execution_count": null,
   "id": "cae7fbfe",
   "metadata": {},
   "outputs": [],
   "source": []
  }
 ],
 "metadata": {
  "kernelspec": {
   "display_name": "Python 3.7.2",
   "language": "python",
   "name": "python3"
  },
  "language_info": {
   "codemirror_mode": {
    "name": "ipython",
    "version": 3
   },
   "file_extension": ".py",
   "mimetype": "text/x-python",
   "name": "python",
   "nbconvert_exporter": "python",
   "pygments_lexer": "ipython3",
   "version": "3.7.6"
  }
 },
 "nbformat": 4,
 "nbformat_minor": 5
}
