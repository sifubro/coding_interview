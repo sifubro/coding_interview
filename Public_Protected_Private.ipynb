{
 "cells": [
  {
   "cell_type": "code",
   "execution_count": null,
   "metadata": {},
   "outputs": [],
   "source": []
  },
  {
   "cell_type": "code",
   "execution_count": 1,
   "metadata": {},
   "outputs": [],
   "source": [
    "class Person:\n",
    "    \n",
    "    def __init__(self, name):\n",
    "        self.name = name  # public\n",
    "        self._weapon = None # protected\n",
    "        self.__ultimate = None # private\n",
    "        \n",
    "    def set_weapon(self, weapon):\n",
    "        self._weapon = weapon\n",
    "        \n",
    "    def set_ultimate(self, ulti):\n",
    "        self.__ultimate = ulti"
   ]
  },
  {
   "cell_type": "code",
   "execution_count": 2,
   "metadata": {},
   "outputs": [
    {
     "name": "stdout",
     "output_type": "stream",
     "text": [
      "Theo\n",
      "None\n",
      "None\n"
     ]
    }
   ],
   "source": [
    "p = Person('Theo')\n",
    "print(p.name)\n",
    "print(p._weapon)\n",
    "print(p._Person__ultimate)"
   ]
  },
  {
   "cell_type": "code",
   "execution_count": 3,
   "metadata": {},
   "outputs": [
    {
     "name": "stdout",
     "output_type": "stream",
     "text": [
      "Theo\n",
      "sword\n",
      "divine\n"
     ]
    }
   ],
   "source": [
    "p.set_weapon('sword')\n",
    "p.set_ultimate('divine')\n",
    "\n",
    "print(p.name)\n",
    "print(p._weapon)\n",
    "print(p._Person__ultimate)"
   ]
  },
  {
   "cell_type": "code",
   "execution_count": null,
   "metadata": {},
   "outputs": [],
   "source": []
  },
  {
   "cell_type": "code",
   "execution_count": null,
   "metadata": {},
   "outputs": [],
   "source": []
  }
 ],
 "metadata": {
  "kernelspec": {
   "display_name": "Python 3.7.2",
   "language": "python",
   "name": "python3"
  },
  "language_info": {
   "codemirror_mode": {
    "name": "ipython",
    "version": 3
   },
   "file_extension": ".py",
   "mimetype": "text/x-python",
   "name": "python",
   "nbconvert_exporter": "python",
   "pygments_lexer": "ipython3",
   "version": "3.7.6"
  }
 },
 "nbformat": 4,
 "nbformat_minor": 4
}
