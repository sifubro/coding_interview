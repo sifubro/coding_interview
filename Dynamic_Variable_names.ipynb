{
 "cells": [
  {
   "cell_type": "markdown",
   "metadata": {},
   "source": [
    "# DYNAMICALLY SETTING ATTRIBUTES !!!!!\n",
    "\n",
    "### https://stackoverflow.com/questions/4010840/generating-variable-names-on-fly-in-python"
   ]
  },
  {
   "cell_type": "code",
   "execution_count": null,
   "metadata": {},
   "outputs": [],
   "source": [
    "for i in range()\n",
    "    setattr(instance, 'arg'+str(i+1) , args[i])\n"
   ]
  },
  {
   "cell_type": "markdown",
   "metadata": {},
   "source": [
    "## ANOTHER WAY  !!!!"
   ]
  },
  {
   "cell_type": "code",
   "execution_count": null,
   "metadata": {},
   "outputs": [],
   "source": [
    "c.__dict__['arg4'] = 6"
   ]
  },
  {
   "cell_type": "code",
   "execution_count": null,
   "metadata": {},
   "outputs": [],
   "source": []
  },
  {
   "cell_type": "code",
   "execution_count": null,
   "metadata": {},
   "outputs": [],
   "source": []
  },
  {
   "cell_type": "code",
   "execution_count": 1,
   "metadata": {
    "scrolled": true
   },
   "outputs": [
    {
     "data": {
      "text/plain": [
       "{'__name__': '__main__',\n",
       " '__doc__': 'Automatically created module for IPython interactive environment',\n",
       " '__package__': None,\n",
       " '__loader__': None,\n",
       " '__spec__': None,\n",
       " '__builtin__': <module 'builtins' (built-in)>,\n",
       " '__builtins__': <module 'builtins' (built-in)>,\n",
       " '_ih': ['', 'globals()'],\n",
       " '_oh': {},\n",
       " '_dh': ['C:\\\\Users\\\\30694\\\\Desktop\\\\ML-STATS\\\\ML-AI\\\\Theo_ML'],\n",
       " 'In': ['', 'globals()'],\n",
       " 'Out': {},\n",
       " 'get_ipython': <bound method InteractiveShell.get_ipython of <ipykernel.zmqshell.ZMQInteractiveShell object at 0x00000192AE77FDC8>>,\n",
       " 'exit': <IPython.core.autocall.ZMQExitAutocall at 0x192ae862188>,\n",
       " 'quit': <IPython.core.autocall.ZMQExitAutocall at 0x192ae862188>,\n",
       " '_': '',\n",
       " '__': '',\n",
       " '___': '',\n",
       " '_i': '',\n",
       " '_ii': '',\n",
       " '_iii': '',\n",
       " '_i1': 'globals()'}"
      ]
     },
     "execution_count": 1,
     "metadata": {},
     "output_type": "execute_result"
    }
   ],
   "source": [
    "globals()"
   ]
  },
  {
   "cell_type": "markdown",
   "metadata": {},
   "source": [
    "### https://www.codegrepper.com/code-examples/python/how+to+create+dynamic+variable+names+in+python"
   ]
  },
  {
   "cell_type": "code",
   "execution_count": 2,
   "metadata": {},
   "outputs": [],
   "source": [
    "for i in range(0, 9):\n",
    "    globals()[f\"my_variable{i}\"] = f\"Hello from variable number {i}!\""
   ]
  },
  {
   "cell_type": "code",
   "execution_count": 3,
   "metadata": {
    "scrolled": true
   },
   "outputs": [
    {
     "data": {
      "text/plain": [
       "{'__name__': '__main__',\n",
       " '__doc__': 'Automatically created module for IPython interactive environment',\n",
       " '__package__': None,\n",
       " '__loader__': None,\n",
       " '__spec__': None,\n",
       " '__builtin__': <module 'builtins' (built-in)>,\n",
       " '__builtins__': <module 'builtins' (built-in)>,\n",
       " '_ih': ['',\n",
       "  'globals()',\n",
       "  'for i in range(0, 9):\\n    globals()[f\"my_variable{i}\"] = f\"Hello from variable number {i}!\"',\n",
       "  'globals()'],\n",
       " '_oh': {1: {...}},\n",
       " '_dh': ['C:\\\\Users\\\\30694\\\\Desktop\\\\ML-STATS\\\\ML-AI\\\\Theo_ML'],\n",
       " 'In': ['',\n",
       "  'globals()',\n",
       "  'for i in range(0, 9):\\n    globals()[f\"my_variable{i}\"] = f\"Hello from variable number {i}!\"',\n",
       "  'globals()'],\n",
       " 'Out': {1: {...}},\n",
       " 'get_ipython': <bound method InteractiveShell.get_ipython of <ipykernel.zmqshell.ZMQInteractiveShell object at 0x00000192AE77FDC8>>,\n",
       " 'exit': <IPython.core.autocall.ZMQExitAutocall at 0x192ae862188>,\n",
       " 'quit': <IPython.core.autocall.ZMQExitAutocall at 0x192ae862188>,\n",
       " '_': {...},\n",
       " '__': '',\n",
       " '___': '',\n",
       " '_i': 'for i in range(0, 9):\\n    globals()[f\"my_variable{i}\"] = f\"Hello from variable number {i}!\"',\n",
       " '_ii': 'globals()',\n",
       " '_iii': '',\n",
       " '_i1': 'globals()',\n",
       " '_1': {...},\n",
       " '_i2': 'for i in range(0, 9):\\n    globals()[f\"my_variable{i}\"] = f\"Hello from variable number {i}!\"',\n",
       " 'i': 8,\n",
       " 'my_variable0': 'Hello from variable number 0!',\n",
       " 'my_variable1': 'Hello from variable number 1!',\n",
       " 'my_variable2': 'Hello from variable number 2!',\n",
       " 'my_variable3': 'Hello from variable number 3!',\n",
       " 'my_variable4': 'Hello from variable number 4!',\n",
       " 'my_variable5': 'Hello from variable number 5!',\n",
       " 'my_variable6': 'Hello from variable number 6!',\n",
       " 'my_variable7': 'Hello from variable number 7!',\n",
       " 'my_variable8': 'Hello from variable number 8!',\n",
       " '_i3': 'globals()'}"
      ]
     },
     "execution_count": 3,
     "metadata": {},
     "output_type": "execute_result"
    }
   ],
   "source": [
    "globals()"
   ]
  },
  {
   "cell_type": "code",
   "execution_count": null,
   "metadata": {},
   "outputs": [],
   "source": []
  },
  {
   "cell_type": "code",
   "execution_count": 6,
   "metadata": {},
   "outputs": [],
   "source": [
    "def print_var_name(variable):\n",
    "    for name in globals():\n",
    "        if eval(name) == variable:\n",
    "            print(name)"
   ]
  },
  {
   "cell_type": "code",
   "execution_count": null,
   "metadata": {},
   "outputs": [],
   "source": []
  },
  {
   "cell_type": "markdown",
   "metadata": {},
   "source": [
    "### https://stackoverflow.com/questions/42139625/python-creating-objects-by-referring-the-object-name-through-variable-creating"
   ]
  },
  {
   "cell_type": "markdown",
   "metadata": {},
   "source": [
    "In Python previous to 3.6, there is no way for an oject to automatically guess the name it is assigned too (though it can be done with metaclasses), "
   ]
  },
  {
   "cell_type": "code",
   "execution_count": null,
   "metadata": {},
   "outputs": [],
   "source": [
    "names = ['loaded', 'agree', 'firstname', 'loginid', 'password', 'loginbutton', 'logout', 'middlename', 'lastname', 'submit', 'customerlist', 'loginpage', 'customerinfo', 'profile']\n",
    "\n",
    "objects = {name:waittill(name) for name in names}\n",
    "\n",
    "for name, obj in objects.items():\n",
    "    globals()[name] = obj"
   ]
  },
  {
   "cell_type": "code",
   "execution_count": null,
   "metadata": {},
   "outputs": [],
   "source": []
  },
  {
   "cell_type": "markdown",
   "metadata": {},
   "source": [
    "# DYNAMICALLY SETTING ATTRIBUTES !!!!!\n",
    "\n",
    "### https://stackoverflow.com/questions/4010840/generating-variable-names-on-fly-in-python"
   ]
  },
  {
   "cell_type": "code",
   "execution_count": null,
   "metadata": {},
   "outputs": [],
   "source": [
    "for i in range()\n",
    "    setattr(instance, 'arg'+str(i+1) , args[i])\n"
   ]
  },
  {
   "cell_type": "markdown",
   "metadata": {},
   "source": [
    "## ANOTHER WAY  !!!!"
   ]
  },
  {
   "cell_type": "code",
   "execution_count": null,
   "metadata": {},
   "outputs": [],
   "source": [
    "c.__dict__['arg4'] = 6"
   ]
  },
  {
   "cell_type": "code",
   "execution_count": null,
   "metadata": {},
   "outputs": [],
   "source": []
  },
  {
   "cell_type": "code",
   "execution_count": null,
   "metadata": {},
   "outputs": [],
   "source": []
  },
  {
   "cell_type": "code",
   "execution_count": null,
   "metadata": {},
   "outputs": [],
   "source": []
  },
  {
   "cell_type": "code",
   "execution_count": null,
   "metadata": {},
   "outputs": [],
   "source": []
  },
  {
   "cell_type": "code",
   "execution_count": null,
   "metadata": {},
   "outputs": [],
   "source": [
    "prices = [5, 12, 45]\n",
    "list=['1','2','3']\n",
    "\n",
    "for i in range(1,3):\n",
    "  vars()[\"prices\"+list[0]]=prices[0]\n",
    "print (\"prices[i]=\" +prices[i])"
   ]
  },
  {
   "cell_type": "code",
   "execution_count": null,
   "metadata": {},
   "outputs": [],
   "source": []
  },
  {
   "cell_type": "code",
   "execution_count": null,
   "metadata": {},
   "outputs": [],
   "source": [
    "var = "
   ]
  },
  {
   "cell_type": "code",
   "execution_count": null,
   "metadata": {},
   "outputs": [],
   "source": []
  }
 ],
 "metadata": {
  "kernelspec": {
   "display_name": "Python 3.7.2",
   "language": "python",
   "name": "python3"
  },
  "language_info": {
   "codemirror_mode": {
    "name": "ipython",
    "version": 3
   },
   "file_extension": ".py",
   "mimetype": "text/x-python",
   "name": "python",
   "nbconvert_exporter": "python",
   "pygments_lexer": "ipython3",
   "version": "3.7.6"
  }
 },
 "nbformat": 4,
 "nbformat_minor": 4
}
