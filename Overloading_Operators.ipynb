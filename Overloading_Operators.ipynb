{
 "cells": [
  {
   "cell_type": "markdown",
   "metadata": {},
   "source": [
    "from https://www.youtube.com/watch?v=R_m4kanPy6Q&t=629s&ab_channel=ComputerGraphicsatTUWien"
   ]
  },
  {
   "cell_type": "code",
   "execution_count": null,
   "metadata": {},
   "outputs": [],
   "source": [
    "class OperatorAdd:\n",
    "    def evalForward(a, b):\n",
    "        return a + b\n",
    "    \n",
    "    def differentiateWrtA(a, b):\n",
    "        return 1\n",
    "    \n",
    "    def differentiateWrtB(a, b):\n",
    "        return 1\n",
    "    \n",
    "class OperatorSubtract:\n",
    "    def evalForward(a, b):\n",
    "        return a - b\n",
    "    \n",
    "    def differentiateWrtA(a, b):\n",
    "        return 1\n",
    "    \n",
    "    def differentiateWrtB(a, b):\n",
    "        return -1\n",
    "    \n",
    "class OperatorMultiply:\n",
    "    def evalForward(a, b):\n",
    "        return a * b\n",
    "    \n",
    "    def differentiateWrtA(a, b):\n",
    "        return b.evalForward()\n",
    "    \n",
    "    def differentiateWrtB(a, b):\n",
    "        return a.evalForward()\n",
    "    \n",
    "#    def derrive(a, b):\n",
    "#        return a.derrived() * b.evalForward() + a.evalForward() * b.derrived()\n",
    "    \n",
    "class OperatorDivide:\n",
    "    def evalForward(a, b):\n",
    "        return a / b\n",
    "    \n",
    "    def differentiateWrtA(a, b):\n",
    "        return 1 / b.evalForward()\n",
    "    \n",
    "    def differentiateWrtB(a, b):\n",
    "        return -a.evalForward() / (b.evalForward() * b.evalForward())\n",
    "    \n",
    "class OperatorPow:\n",
    "    def evalForward(a, b):\n",
    "        return a ** b\n",
    "    \n",
    "    def differentiateWrtA(a, b):\n",
    "        return b.evalForward() * (a.evalForward() ** (b.evalForward() - 1))\n",
    "    \n",
    "    def differentiateWrtB(a, b):\n",
    "#        print(f\"a={a.evalForward()}\")\n",
    "#        print(f\"b={b.evalForward()}\")\n",
    "#        print(f\"(a.evalForward() ** b.evalForward())={(a.evalForward() ** b.evalForward())}\")\n",
    "#        print(f\"math.log(b.evalForward())={math.log(-2)}\")\n",
    "        return (a.evalForward() ** b.evalForward()) * math.log(a.evalForward())\n",
    "\n",
    "class OperatorLog:\n",
    "    def evalForward(a, b):\n",
    "        return math.log(a);\n",
    "    \n",
    "    def differentiateWrtA(a, b):\n",
    "        return 1 / a.evalForward()\n",
    "    \n",
    "    def differentiateWrtB(a, b):\n",
    "        return 1"
   ]
  },
  {
   "cell_type": "code",
   "execution_count": null,
   "metadata": {},
   "outputs": [],
   "source": [
    "class Expression:\n",
    "    def __init__(self, a, b, op):\n",
    "        self.a = a\n",
    "        self.b = b\n",
    "        self.op = op\n",
    "        self.aOpB = None\n",
    "    \n",
    "    def __add__(self, other):\n",
    "        return Expression(self, other, OperatorAdd)\n",
    "    \n",
    "    def __sub__(self, other):\n",
    "        return Expression(self, other, OperatorSubtract)\n",
    "    \n",
    "    def __mul__(self, other):\n",
    "        return Expression(self, other, OperatorMultiply)\n",
    "    \n",
    "    def __truediv__(self, other):\n",
    "        return Expression(self, other, OperatorDivide)\n",
    "    \n",
    "    def __pow__(self, other):\n",
    "        return Expression(self, other, OperatorPow)\n",
    "    \n",
    "    def reset(self):\n",
    "        self.a.reset()\n",
    "        self.b.reset()\n",
    "        \n",
    "    def differentiateBackward(self, factors=1):\n",
    "        self.a.differentiateBackward(factors * self.op.differentiateWrtA(self.a, self.b))\n",
    "        self.b.differentiateBackward(factors * self.op.differentiateWrtB(self.a, self.b))\n",
    "        \n",
    "    \n",
    "    def evalForward(self):\n",
    "        if (self.aOpB != None):\n",
    "            return self.aOpB\n",
    "        \n",
    "        a = self.a.evalForward()\n",
    "        b = self.b.evalForward()\n",
    "        self.aOpB = self.op.evalForward(a, b)\n",
    "        return self.aOpB\n"
   ]
  },
  {
   "cell_type": "code",
   "execution_count": null,
   "metadata": {},
   "outputs": [],
   "source": []
  },
  {
   "cell_type": "markdown",
   "metadata": {},
   "source": [
    "## REFERENCES:"
   ]
  },
  {
   "cell_type": "raw",
   "metadata": {},
   "source": [
    "So, when you’re calling len() on an object, Python handles the call as obj.__len__(). When you use the [] operator on an iterable to obtain the value at an index, Python handles it as itr.__getitem__(index), where itr is the iterable object and index is the index you want to obtain.\n",
    "\n",
    ". In fact, when you obtain the list of attributes and methods of a str object using dir(), you’ll see these special methods in the list in addition to the usual methods available on str objects"
   ]
  },
  {
   "cell_type": "code",
   "execution_count": null,
   "metadata": {},
   "outputs": [],
   "source": [
    "https://www.programiz.com/python-programming/operator-overloading\n",
    "    \n",
    "https://realpython.com/operator-function-overloading/\n",
    "        \n",
    "        "
   ]
  }
 ],
 "metadata": {
  "kernelspec": {
   "display_name": "Python 3.7.2",
   "language": "python",
   "name": "python3"
  },
  "language_info": {
   "codemirror_mode": {
    "name": "ipython",
    "version": 3
   },
   "file_extension": ".py",
   "mimetype": "text/x-python",
   "name": "python",
   "nbconvert_exporter": "python",
   "pygments_lexer": "ipython3",
   "version": "3.7.6"
  }
 },
 "nbformat": 4,
 "nbformat_minor": 4
}
