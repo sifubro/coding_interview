{
 "cells": [
  {
   "cell_type": "markdown",
   "metadata": {},
   "source": [
    "### This is my own code!"
   ]
  },
  {
   "cell_type": "code",
   "execution_count": 1,
   "metadata": {},
   "outputs": [],
   "source": [
    "class NewObject(object):\n",
    "    pass"
   ]
  },
  {
   "cell_type": "code",
   "execution_count": 2,
   "metadata": {},
   "outputs": [],
   "source": [
    "def NewFunc():\n",
    "    pass"
   ]
  },
  {
   "cell_type": "code",
   "execution_count": 3,
   "metadata": {},
   "outputs": [],
   "source": [
    "def MyClass(*args, **kwargs):\n",
    "\n",
    "    instance = NewObject()\n",
    "    #or\n",
    "    #instance = NewFunc()\n",
    "    \n",
    "    def create_new_instance():\n",
    "\n",
    "        name_args = ['arg'+str(i) for i in range(len(args))]\n",
    "        name_kwargs = ['kwarg'+str(i) for i in range(len(kwargs))]\n",
    "        \n",
    "        for i in range(len(args)):\n",
    "            setattr(instance, 'arg'+str(i+1) , args[i])\n",
    "        \n",
    "        return instance\n",
    " \n",
    "    instance = create_new_instance()\n",
    "    \n",
    "    return instance"
   ]
  },
  {
   "cell_type": "code",
   "execution_count": 5,
   "metadata": {
    "scrolled": true
   },
   "outputs": [
    {
     "data": {
      "text/plain": [
       "{'arg1': 3, 'arg2': 4, 'arg3': 5}"
      ]
     },
     "execution_count": 5,
     "metadata": {},
     "output_type": "execute_result"
    }
   ],
   "source": [
    "c = MyClass(3,4,5)\n",
    "c.__dict__"
   ]
  },
  {
   "cell_type": "code",
   "execution_count": 6,
   "metadata": {},
   "outputs": [
    {
     "data": {
      "text/plain": [
       "{'arg1': 3, 'arg2': 4, 'arg3': 5, 'arg4': 6}"
      ]
     },
     "execution_count": 6,
     "metadata": {},
     "output_type": "execute_result"
    }
   ],
   "source": [
    "c.__dict__['arg4'] = 6\n",
    "c.__dict__"
   ]
  },
  {
   "cell_type": "code",
   "execution_count": null,
   "metadata": {},
   "outputs": [],
   "source": []
  },
  {
   "cell_type": "markdown",
   "metadata": {},
   "source": [
    "## EXAMPLE OF EMULATING ANIMAL CLASS!!!\n",
    "## I know now how a class constructs objects from scratch"
   ]
  },
  {
   "cell_type": "code",
   "execution_count": null,
   "metadata": {},
   "outputs": [],
   "source": [
    "class Animal:\n",
    "    \n",
    "    def __init__(self, foot=4, fly=0, swim=0, bark=0):\n",
    "        self.foot = foot\n",
    "        self.fly = fly\n",
    "        self.swim = swim\n",
    "        self.bark = bark"
   ]
  },
  {
   "cell_type": "code",
   "execution_count": 23,
   "metadata": {},
   "outputs": [],
   "source": [
    "def MyClass(**kwargs):\n",
    "\n",
    "    instance = NewObject()\n",
    "    \n",
    "#     def init(self, foot=4, fly=0, swim=0, bark=0):\n",
    "#         self.foot = foot\n",
    "#         self.fly = fly\n",
    "#         self.swim = swim\n",
    "#         self.bark = bark\n",
    "    \n",
    "    def init(self, **kwargs):\n",
    "\n",
    "        name_kwargs = ['kwarg'+str(i) for i in range(len(kwargs))]\n",
    "        \n",
    "        for kwarg in kwargs:\n",
    "            self.__dict__[kwarg] = kwargs[kwarg]\n",
    "\n",
    "        return self\n",
    " \n",
    "    instance = init(instance, **kwargs)\n",
    "    \n",
    "    return instance"
   ]
  },
  {
   "cell_type": "code",
   "execution_count": 24,
   "metadata": {},
   "outputs": [
    {
     "data": {
      "text/plain": [
       "{'foot': 4, 'fly': 0, 'swim': 1, 'bark': 1}"
      ]
     },
     "execution_count": 24,
     "metadata": {},
     "output_type": "execute_result"
    }
   ],
   "source": [
    "c = MyClass(foot=4, fly=0, swim=1, bark=1)\n",
    "c.__dict__"
   ]
  },
  {
   "cell_type": "code",
   "execution_count": null,
   "metadata": {},
   "outputs": [],
   "source": []
  },
  {
   "cell_type": "code",
   "execution_count": null,
   "metadata": {},
   "outputs": [],
   "source": []
  },
  {
   "cell_type": "code",
   "execution_count": null,
   "metadata": {},
   "outputs": [],
   "source": []
  },
  {
   "cell_type": "code",
   "execution_count": null,
   "metadata": {},
   "outputs": [],
   "source": []
  },
  {
   "cell_type": "code",
   "execution_count": null,
   "metadata": {},
   "outputs": [],
   "source": []
  },
  {
   "cell_type": "code",
   "execution_count": null,
   "metadata": {},
   "outputs": [],
   "source": []
  },
  {
   "cell_type": "code",
   "execution_count": 14,
   "metadata": {
    "scrolled": true
   },
   "outputs": [
    {
     "data": {
      "text/plain": [
       "mappingproxy({'__module__': '__main__',\n",
       "              '__dict__': <attribute '__dict__' of 'NewObject' objects>,\n",
       "              '__weakref__': <attribute '__weakref__' of 'NewObject' objects>,\n",
       "              '__doc__': None})"
      ]
     },
     "execution_count": 14,
     "metadata": {},
     "output_type": "execute_result"
    }
   ],
   "source": [
    "NewObject.__dict__"
   ]
  },
  {
   "cell_type": "code",
   "execution_count": 63,
   "metadata": {},
   "outputs": [],
   "source": [
    "#NewObject.__weakref__()  #??????????????????????"
   ]
  },
  {
   "cell_type": "code",
   "execution_count": null,
   "metadata": {},
   "outputs": [],
   "source": [
    "def MyClass(*args, **kwargs):\n",
    "    \n",
    "    instance = NewObject()\n",
    "    #or\n",
    "    #instance = NewFunc()\n",
    "    \n",
    "    def create_new_instance():\n",
    "\n",
    "        name_args = ['arg'+str(i) for i in range(len(args))]\n",
    "        name_kwargs = ['kwarg'+str(i) for i in range(len(kwargs))]\n",
    "        \n",
    "        #names = \n",
    "        for i in range(len(args)):\n",
    "            setattr(instance, 'arg'+str(i+1) , args[i])\n",
    "        \n",
    "        #instance.a = args[0]\n",
    "        #instance.b = args[1]\n",
    "        #instance.c = args[2]\n",
    "        \n",
    "        #for i in range(len(args)):\n",
    "            #exec('instance.var%d = %s' % (i+1, name_args[i]))\n",
    "\n",
    "#         i=0\n",
    "#         for arg in args:\n",
    "#             # create a variable with a name from a list\n",
    "#             locals()[instance.name_args[i]] = arg\n",
    "#             i+=1\n",
    "            \n",
    "#         i=0\n",
    "#         for kwarg in kwargs:\n",
    "#             #instance.kwarg = kwargs[kwarg]\n",
    "#             locals()['instance.' + name_kwargs[i]] = kwargs[kwarg]\n",
    "#             i+=1\n",
    "            \n",
    "        #print(instance.arg1)\n",
    "        #print(locals())\n",
    "        #print(instance.__dict__)\n",
    "        return instance\n",
    " \n",
    "    instance = create_new_instance()\n",
    "    \n",
    "    return instance"
   ]
  },
  {
   "cell_type": "code",
   "execution_count": null,
   "metadata": {},
   "outputs": [],
   "source": []
  },
  {
   "cell_type": "code",
   "execution_count": null,
   "metadata": {},
   "outputs": [],
   "source": []
  },
  {
   "cell_type": "code",
   "execution_count": null,
   "metadata": {},
   "outputs": [],
   "source": []
  },
  {
   "cell_type": "code",
   "execution_count": null,
   "metadata": {},
   "outputs": [],
   "source": []
  },
  {
   "cell_type": "code",
   "execution_count": null,
   "metadata": {},
   "outputs": [],
   "source": []
  },
  {
   "cell_type": "markdown",
   "metadata": {},
   "source": [
    "# How to create an empty object in python\n",
    "\n",
    "#### https://stackoverflow.com/questions/2827623/how-can-i-create-an-object-and-add-attributes-to-it\n",
    "\n",
    "#### https://stackoverflow.com/questions/19476816/creating-an-empty-object-in-python\n"
   ]
  },
  {
   "cell_type": "code",
   "execution_count": null,
   "metadata": {},
   "outputs": [],
   "source": []
  }
 ],
 "metadata": {
  "kernelspec": {
   "display_name": "Python 3.7.2",
   "language": "python",
   "name": "python3"
  },
  "language_info": {
   "codemirror_mode": {
    "name": "ipython",
    "version": 3
   },
   "file_extension": ".py",
   "mimetype": "text/x-python",
   "name": "python",
   "nbconvert_exporter": "python",
   "pygments_lexer": "ipython3",
   "version": "3.7.6"
  }
 },
 "nbformat": 4,
 "nbformat_minor": 4
}
