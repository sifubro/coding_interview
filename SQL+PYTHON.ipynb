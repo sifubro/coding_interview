{
 "cells": [
  {
   "cell_type": "code",
   "execution_count": 1,
   "metadata": {},
   "outputs": [],
   "source": [
    "import psycopg2"
   ]
  },
  {
   "cell_type": "markdown",
   "metadata": {},
   "source": [
    "## Create a database\n",
    "https://kb.objectrocket.com/postgresql/create-a-postgresql-database-using-the-psycopg2-python-library-755"
   ]
  },
  {
   "cell_type": "code",
   "execution_count": 2,
   "metadata": {},
   "outputs": [],
   "source": [
    "DB_HOST = 'localhost'\n",
    "DB_NAME = 'dvdrental'\n",
    "DB_USER = 'postgres'\n",
    "DB_PASS = 'postgres'"
   ]
  },
  {
   "cell_type": "code",
   "execution_count": 3,
   "metadata": {},
   "outputs": [],
   "source": [
    "#conn = psycopg2.connect(dbname = DB_NAME, user =DB_USER , password =DB_PASS) #, host=DB_HOST"
   ]
  },
  {
   "cell_type": "code",
   "execution_count": 4,
   "metadata": {},
   "outputs": [],
   "source": [
    "conn = psycopg2.connect(\"dbname='dvdrental' password='a270188ma' user='postgres' host='localhost' port='5433'\")"
   ]
  },
  {
   "cell_type": "code",
   "execution_count": 5,
   "metadata": {},
   "outputs": [],
   "source": [
    "cur = conn.cursor()"
   ]
  },
  {
   "cell_type": "code",
   "execution_count": 6,
   "metadata": {},
   "outputs": [],
   "source": [
    "cur.execute(\"SELECT * FROM actor;\")"
   ]
  },
  {
   "cell_type": "code",
   "execution_count": 7,
   "metadata": {},
   "outputs": [
    {
     "name": "stdout",
     "output_type": "stream",
     "text": [
      "(1, 'Penelope', 'Guiness', datetime.datetime(2013, 5, 26, 14, 47, 57, 620000))\n"
     ]
    }
   ],
   "source": [
    "print(cur.fetchone())"
   ]
  },
  {
   "cell_type": "code",
   "execution_count": 8,
   "metadata": {},
   "outputs": [
    {
     "name": "stdout",
     "output_type": "stream",
     "text": [
      "[(2, 'Nick', 'Wahlberg', datetime.datetime(2013, 5, 26, 14, 47, 57, 620000)), (3, 'Ed', 'Chase', datetime.datetime(2013, 5, 26, 14, 47, 57, 620000)), (4, 'Jennifer', 'Davis', datetime.datetime(2013, 5, 26, 14, 47, 57, 620000)), (5, 'Johnny', 'Lollobrigida', datetime.datetime(2013, 5, 26, 14, 47, 57, 620000)), (6, 'Bette', 'Nicholson', datetime.datetime(2013, 5, 26, 14, 47, 57, 620000)), (7, 'Grace', 'Mostel', datetime.datetime(2013, 5, 26, 14, 47, 57, 620000)), (8, 'Matthew', 'Johansson', datetime.datetime(2013, 5, 26, 14, 47, 57, 620000)), (9, 'Joe', 'Swank', datetime.datetime(2013, 5, 26, 14, 47, 57, 620000)), (10, 'Christian', 'Gable', datetime.datetime(2013, 5, 26, 14, 47, 57, 620000)), (11, 'Zero', 'Cage', datetime.datetime(2013, 5, 26, 14, 47, 57, 620000)), (12, 'Karl', 'Berry', datetime.datetime(2013, 5, 26, 14, 47, 57, 620000)), (13, 'Uma', 'Wood', datetime.datetime(2013, 5, 26, 14, 47, 57, 620000)), (14, 'Vivien', 'Bergen', datetime.datetime(2013, 5, 26, 14, 47, 57, 620000)), (15, 'Cuba', 'Olivier', datetime.datetime(2013, 5, 26, 14, 47, 57, 620000)), (16, 'Fred', 'Costner', datetime.datetime(2013, 5, 26, 14, 47, 57, 620000)), (17, 'Helen', 'Voight', datetime.datetime(2013, 5, 26, 14, 47, 57, 620000)), (18, 'Dan', 'Torn', datetime.datetime(2013, 5, 26, 14, 47, 57, 620000)), (19, 'Bob', 'Fawcett', datetime.datetime(2013, 5, 26, 14, 47, 57, 620000)), (20, 'Lucille', 'Tracy', datetime.datetime(2013, 5, 26, 14, 47, 57, 620000)), (21, 'Kirsten', 'Paltrow', datetime.datetime(2013, 5, 26, 14, 47, 57, 620000)), (22, 'Elvis', 'Marx', datetime.datetime(2013, 5, 26, 14, 47, 57, 620000)), (23, 'Sandra', 'Kilmer', datetime.datetime(2013, 5, 26, 14, 47, 57, 620000)), (24, 'Cameron', 'Streep', datetime.datetime(2013, 5, 26, 14, 47, 57, 620000)), (25, 'Kevin', 'Bloom', datetime.datetime(2013, 5, 26, 14, 47, 57, 620000)), (26, 'Rip', 'Crawford', datetime.datetime(2013, 5, 26, 14, 47, 57, 620000)), (27, 'Julia', 'Mcqueen', datetime.datetime(2013, 5, 26, 14, 47, 57, 620000)), (28, 'Woody', 'Hoffman', datetime.datetime(2013, 5, 26, 14, 47, 57, 620000)), (29, 'Alec', 'Wayne', datetime.datetime(2013, 5, 26, 14, 47, 57, 620000)), (30, 'Sandra', 'Peck', datetime.datetime(2013, 5, 26, 14, 47, 57, 620000)), (31, 'Sissy', 'Sobieski', datetime.datetime(2013, 5, 26, 14, 47, 57, 620000)), (32, 'Tim', 'Hackman', datetime.datetime(2013, 5, 26, 14, 47, 57, 620000)), (33, 'Milla', 'Peck', datetime.datetime(2013, 5, 26, 14, 47, 57, 620000)), (34, 'Audrey', 'Olivier', datetime.datetime(2013, 5, 26, 14, 47, 57, 620000)), (35, 'Judy', 'Dean', datetime.datetime(2013, 5, 26, 14, 47, 57, 620000)), (36, 'Burt', 'Dukakis', datetime.datetime(2013, 5, 26, 14, 47, 57, 620000)), (37, 'Val', 'Bolger', datetime.datetime(2013, 5, 26, 14, 47, 57, 620000)), (38, 'Tom', 'Mckellen', datetime.datetime(2013, 5, 26, 14, 47, 57, 620000)), (39, 'Goldie', 'Brody', datetime.datetime(2013, 5, 26, 14, 47, 57, 620000)), (40, 'Johnny', 'Cage', datetime.datetime(2013, 5, 26, 14, 47, 57, 620000)), (41, 'Jodie', 'Degeneres', datetime.datetime(2013, 5, 26, 14, 47, 57, 620000)), (42, 'Tom', 'Miranda', datetime.datetime(2013, 5, 26, 14, 47, 57, 620000)), (43, 'Kirk', 'Jovovich', datetime.datetime(2013, 5, 26, 14, 47, 57, 620000)), (44, 'Nick', 'Stallone', datetime.datetime(2013, 5, 26, 14, 47, 57, 620000)), (45, 'Reese', 'Kilmer', datetime.datetime(2013, 5, 26, 14, 47, 57, 620000)), (46, 'Parker', 'Goldberg', datetime.datetime(2013, 5, 26, 14, 47, 57, 620000)), (47, 'Julia', 'Barrymore', datetime.datetime(2013, 5, 26, 14, 47, 57, 620000)), (48, 'Frances', 'Day-Lewis', datetime.datetime(2013, 5, 26, 14, 47, 57, 620000)), (49, 'Anne', 'Cronyn', datetime.datetime(2013, 5, 26, 14, 47, 57, 620000)), (50, 'Natalie', 'Hopkins', datetime.datetime(2013, 5, 26, 14, 47, 57, 620000)), (51, 'Gary', 'Phoenix', datetime.datetime(2013, 5, 26, 14, 47, 57, 620000)), (52, 'Carmen', 'Hunt', datetime.datetime(2013, 5, 26, 14, 47, 57, 620000)), (53, 'Mena', 'Temple', datetime.datetime(2013, 5, 26, 14, 47, 57, 620000)), (54, 'Penelope', 'Pinkett', datetime.datetime(2013, 5, 26, 14, 47, 57, 620000)), (55, 'Fay', 'Kilmer', datetime.datetime(2013, 5, 26, 14, 47, 57, 620000)), (56, 'Dan', 'Harris', datetime.datetime(2013, 5, 26, 14, 47, 57, 620000)), (57, 'Jude', 'Cruise', datetime.datetime(2013, 5, 26, 14, 47, 57, 620000)), (58, 'Christian', 'Akroyd', datetime.datetime(2013, 5, 26, 14, 47, 57, 620000)), (59, 'Dustin', 'Tautou', datetime.datetime(2013, 5, 26, 14, 47, 57, 620000)), (60, 'Henry', 'Berry', datetime.datetime(2013, 5, 26, 14, 47, 57, 620000)), (61, 'Christian', 'Neeson', datetime.datetime(2013, 5, 26, 14, 47, 57, 620000)), (62, 'Jayne', 'Neeson', datetime.datetime(2013, 5, 26, 14, 47, 57, 620000)), (63, 'Cameron', 'Wray', datetime.datetime(2013, 5, 26, 14, 47, 57, 620000)), (64, 'Ray', 'Johansson', datetime.datetime(2013, 5, 26, 14, 47, 57, 620000)), (65, 'Angela', 'Hudson', datetime.datetime(2013, 5, 26, 14, 47, 57, 620000)), (66, 'Mary', 'Tandy', datetime.datetime(2013, 5, 26, 14, 47, 57, 620000)), (67, 'Jessica', 'Bailey', datetime.datetime(2013, 5, 26, 14, 47, 57, 620000)), (68, 'Rip', 'Winslet', datetime.datetime(2013, 5, 26, 14, 47, 57, 620000)), (69, 'Kenneth', 'Paltrow', datetime.datetime(2013, 5, 26, 14, 47, 57, 620000)), (70, 'Michelle', 'Mcconaughey', datetime.datetime(2013, 5, 26, 14, 47, 57, 620000)), (71, 'Adam', 'Grant', datetime.datetime(2013, 5, 26, 14, 47, 57, 620000)), (72, 'Sean', 'Williams', datetime.datetime(2013, 5, 26, 14, 47, 57, 620000)), (73, 'Gary', 'Penn', datetime.datetime(2013, 5, 26, 14, 47, 57, 620000)), (74, 'Milla', 'Keitel', datetime.datetime(2013, 5, 26, 14, 47, 57, 620000)), (75, 'Burt', 'Posey', datetime.datetime(2013, 5, 26, 14, 47, 57, 620000)), (76, 'Angelina', 'Astaire', datetime.datetime(2013, 5, 26, 14, 47, 57, 620000)), (77, 'Cary', 'Mcconaughey', datetime.datetime(2013, 5, 26, 14, 47, 57, 620000)), (78, 'Groucho', 'Sinatra', datetime.datetime(2013, 5, 26, 14, 47, 57, 620000)), (79, 'Mae', 'Hoffman', datetime.datetime(2013, 5, 26, 14, 47, 57, 620000)), (80, 'Ralph', 'Cruz', datetime.datetime(2013, 5, 26, 14, 47, 57, 620000)), (81, 'Scarlett', 'Damon', datetime.datetime(2013, 5, 26, 14, 47, 57, 620000)), (82, 'Woody', 'Jolie', datetime.datetime(2013, 5, 26, 14, 47, 57, 620000)), (83, 'Ben', 'Willis', datetime.datetime(2013, 5, 26, 14, 47, 57, 620000)), (84, 'James', 'Pitt', datetime.datetime(2013, 5, 26, 14, 47, 57, 620000)), (85, 'Minnie', 'Zellweger', datetime.datetime(2013, 5, 26, 14, 47, 57, 620000)), (143, 'River', 'Dean', datetime.datetime(2013, 5, 26, 14, 47, 57, 620000)), (86, 'Greg', 'Chaplin', datetime.datetime(2013, 5, 26, 14, 47, 57, 620000)), (87, 'Spencer', 'Peck', datetime.datetime(2013, 5, 26, 14, 47, 57, 620000)), (88, 'Kenneth', 'Pesci', datetime.datetime(2013, 5, 26, 14, 47, 57, 620000)), (89, 'Charlize', 'Dench', datetime.datetime(2013, 5, 26, 14, 47, 57, 620000)), (90, 'Sean', 'Guiness', datetime.datetime(2013, 5, 26, 14, 47, 57, 620000)), (91, 'Christopher', 'Berry', datetime.datetime(2013, 5, 26, 14, 47, 57, 620000)), (92, 'Kirsten', 'Akroyd', datetime.datetime(2013, 5, 26, 14, 47, 57, 620000)), (93, 'Ellen', 'Presley', datetime.datetime(2013, 5, 26, 14, 47, 57, 620000)), (94, 'Kenneth', 'Torn', datetime.datetime(2013, 5, 26, 14, 47, 57, 620000)), (95, 'Daryl', 'Wahlberg', datetime.datetime(2013, 5, 26, 14, 47, 57, 620000)), (96, 'Gene', 'Willis', datetime.datetime(2013, 5, 26, 14, 47, 57, 620000)), (97, 'Meg', 'Hawke', datetime.datetime(2013, 5, 26, 14, 47, 57, 620000)), (98, 'Chris', 'Bridges', datetime.datetime(2013, 5, 26, 14, 47, 57, 620000)), (99, 'Jim', 'Mostel', datetime.datetime(2013, 5, 26, 14, 47, 57, 620000)), (100, 'Spencer', 'Depp', datetime.datetime(2013, 5, 26, 14, 47, 57, 620000)), (101, 'Susan', 'Davis', datetime.datetime(2013, 5, 26, 14, 47, 57, 620000)), (102, 'Walter', 'Torn', datetime.datetime(2013, 5, 26, 14, 47, 57, 620000)), (103, 'Matthew', 'Leigh', datetime.datetime(2013, 5, 26, 14, 47, 57, 620000)), (104, 'Penelope', 'Cronyn', datetime.datetime(2013, 5, 26, 14, 47, 57, 620000)), (105, 'Sidney', 'Crowe', datetime.datetime(2013, 5, 26, 14, 47, 57, 620000)), (106, 'Groucho', 'Dunst', datetime.datetime(2013, 5, 26, 14, 47, 57, 620000)), (107, 'Gina', 'Degeneres', datetime.datetime(2013, 5, 26, 14, 47, 57, 620000)), (108, 'Warren', 'Nolte', datetime.datetime(2013, 5, 26, 14, 47, 57, 620000)), (109, 'Sylvester', 'Dern', datetime.datetime(2013, 5, 26, 14, 47, 57, 620000)), (110, 'Susan', 'Davis', datetime.datetime(2013, 5, 26, 14, 47, 57, 620000)), (111, 'Cameron', 'Zellweger', datetime.datetime(2013, 5, 26, 14, 47, 57, 620000)), (112, 'Russell', 'Bacall', datetime.datetime(2013, 5, 26, 14, 47, 57, 620000)), (113, 'Morgan', 'Hopkins', datetime.datetime(2013, 5, 26, 14, 47, 57, 620000)), (114, 'Morgan', 'Mcdormand', datetime.datetime(2013, 5, 26, 14, 47, 57, 620000)), (115, 'Harrison', 'Bale', datetime.datetime(2013, 5, 26, 14, 47, 57, 620000)), (116, 'Dan', 'Streep', datetime.datetime(2013, 5, 26, 14, 47, 57, 620000)), (117, 'Renee', 'Tracy', datetime.datetime(2013, 5, 26, 14, 47, 57, 620000)), (118, 'Cuba', 'Allen', datetime.datetime(2013, 5, 26, 14, 47, 57, 620000)), (119, 'Warren', 'Jackman', datetime.datetime(2013, 5, 26, 14, 47, 57, 620000)), (120, 'Penelope', 'Monroe', datetime.datetime(2013, 5, 26, 14, 47, 57, 620000)), (121, 'Liza', 'Bergman', datetime.datetime(2013, 5, 26, 14, 47, 57, 620000)), (122, 'Salma', 'Nolte', datetime.datetime(2013, 5, 26, 14, 47, 57, 620000)), (123, 'Julianne', 'Dench', datetime.datetime(2013, 5, 26, 14, 47, 57, 620000)), (124, 'Scarlett', 'Bening', datetime.datetime(2013, 5, 26, 14, 47, 57, 620000)), (125, 'Albert', 'Nolte', datetime.datetime(2013, 5, 26, 14, 47, 57, 620000)), (126, 'Frances', 'Tomei', datetime.datetime(2013, 5, 26, 14, 47, 57, 620000)), (127, 'Kevin', 'Garland', datetime.datetime(2013, 5, 26, 14, 47, 57, 620000)), (128, 'Cate', 'Mcqueen', datetime.datetime(2013, 5, 26, 14, 47, 57, 620000)), (129, 'Daryl', 'Crawford', datetime.datetime(2013, 5, 26, 14, 47, 57, 620000)), (130, 'Greta', 'Keitel', datetime.datetime(2013, 5, 26, 14, 47, 57, 620000)), (131, 'Jane', 'Jackman', datetime.datetime(2013, 5, 26, 14, 47, 57, 620000)), (132, 'Adam', 'Hopper', datetime.datetime(2013, 5, 26, 14, 47, 57, 620000)), (133, 'Richard', 'Penn', datetime.datetime(2013, 5, 26, 14, 47, 57, 620000)), (134, 'Gene', 'Hopkins', datetime.datetime(2013, 5, 26, 14, 47, 57, 620000)), (135, 'Rita', 'Reynolds', datetime.datetime(2013, 5, 26, 14, 47, 57, 620000)), (136, 'Ed', 'Mansfield', datetime.datetime(2013, 5, 26, 14, 47, 57, 620000)), (137, 'Morgan', 'Williams', datetime.datetime(2013, 5, 26, 14, 47, 57, 620000)), (138, 'Lucille', 'Dee', datetime.datetime(2013, 5, 26, 14, 47, 57, 620000)), (139, 'Ewan', 'Gooding', datetime.datetime(2013, 5, 26, 14, 47, 57, 620000)), (140, 'Whoopi', 'Hurt', datetime.datetime(2013, 5, 26, 14, 47, 57, 620000)), (141, 'Cate', 'Harris', datetime.datetime(2013, 5, 26, 14, 47, 57, 620000)), (142, 'Jada', 'Ryder', datetime.datetime(2013, 5, 26, 14, 47, 57, 620000)), (144, 'Angela', 'Witherspoon', datetime.datetime(2013, 5, 26, 14, 47, 57, 620000)), (145, 'Kim', 'Allen', datetime.datetime(2013, 5, 26, 14, 47, 57, 620000)), (146, 'Albert', 'Johansson', datetime.datetime(2013, 5, 26, 14, 47, 57, 620000)), (147, 'Fay', 'Winslet', datetime.datetime(2013, 5, 26, 14, 47, 57, 620000)), (148, 'Emily', 'Dee', datetime.datetime(2013, 5, 26, 14, 47, 57, 620000)), (149, 'Russell', 'Temple', datetime.datetime(2013, 5, 26, 14, 47, 57, 620000)), (150, 'Jayne', 'Nolte', datetime.datetime(2013, 5, 26, 14, 47, 57, 620000)), (151, 'Geoffrey', 'Heston', datetime.datetime(2013, 5, 26, 14, 47, 57, 620000)), (152, 'Ben', 'Harris', datetime.datetime(2013, 5, 26, 14, 47, 57, 620000)), (153, 'Minnie', 'Kilmer', datetime.datetime(2013, 5, 26, 14, 47, 57, 620000)), (154, 'Meryl', 'Gibson', datetime.datetime(2013, 5, 26, 14, 47, 57, 620000)), (155, 'Ian', 'Tandy', datetime.datetime(2013, 5, 26, 14, 47, 57, 620000)), (156, 'Fay', 'Wood', datetime.datetime(2013, 5, 26, 14, 47, 57, 620000)), (157, 'Greta', 'Malden', datetime.datetime(2013, 5, 26, 14, 47, 57, 620000)), (158, 'Vivien', 'Basinger', datetime.datetime(2013, 5, 26, 14, 47, 57, 620000)), (159, 'Laura', 'Brody', datetime.datetime(2013, 5, 26, 14, 47, 57, 620000)), (160, 'Chris', 'Depp', datetime.datetime(2013, 5, 26, 14, 47, 57, 620000)), (161, 'Harvey', 'Hope', datetime.datetime(2013, 5, 26, 14, 47, 57, 620000)), (162, 'Oprah', 'Kilmer', datetime.datetime(2013, 5, 26, 14, 47, 57, 620000)), (163, 'Christopher', 'West', datetime.datetime(2013, 5, 26, 14, 47, 57, 620000)), (164, 'Humphrey', 'Willis', datetime.datetime(2013, 5, 26, 14, 47, 57, 620000)), (165, 'Al', 'Garland', datetime.datetime(2013, 5, 26, 14, 47, 57, 620000)), (166, 'Nick', 'Degeneres', datetime.datetime(2013, 5, 26, 14, 47, 57, 620000)), (167, 'Laurence', 'Bullock', datetime.datetime(2013, 5, 26, 14, 47, 57, 620000)), (168, 'Will', 'Wilson', datetime.datetime(2013, 5, 26, 14, 47, 57, 620000)), (169, 'Kenneth', 'Hoffman', datetime.datetime(2013, 5, 26, 14, 47, 57, 620000)), (170, 'Mena', 'Hopper', datetime.datetime(2013, 5, 26, 14, 47, 57, 620000)), (171, 'Olympia', 'Pfeiffer', datetime.datetime(2013, 5, 26, 14, 47, 57, 620000)), (172, 'Groucho', 'Williams', datetime.datetime(2013, 5, 26, 14, 47, 57, 620000)), (173, 'Alan', 'Dreyfuss', datetime.datetime(2013, 5, 26, 14, 47, 57, 620000)), (174, 'Michael', 'Bening', datetime.datetime(2013, 5, 26, 14, 47, 57, 620000)), (175, 'William', 'Hackman', datetime.datetime(2013, 5, 26, 14, 47, 57, 620000)), (176, 'Jon', 'Chase', datetime.datetime(2013, 5, 26, 14, 47, 57, 620000)), (177, 'Gene', 'Mckellen', datetime.datetime(2013, 5, 26, 14, 47, 57, 620000)), (178, 'Lisa', 'Monroe', datetime.datetime(2013, 5, 26, 14, 47, 57, 620000)), (179, 'Ed', 'Guiness', datetime.datetime(2013, 5, 26, 14, 47, 57, 620000)), (180, 'Jeff', 'Silverstone', datetime.datetime(2013, 5, 26, 14, 47, 57, 620000)), (181, 'Matthew', 'Carrey', datetime.datetime(2013, 5, 26, 14, 47, 57, 620000)), (182, 'Debbie', 'Akroyd', datetime.datetime(2013, 5, 26, 14, 47, 57, 620000)), (183, 'Russell', 'Close', datetime.datetime(2013, 5, 26, 14, 47, 57, 620000)), (184, 'Humphrey', 'Garland', datetime.datetime(2013, 5, 26, 14, 47, 57, 620000)), (185, 'Michael', 'Bolger', datetime.datetime(2013, 5, 26, 14, 47, 57, 620000)), (186, 'Julia', 'Zellweger', datetime.datetime(2013, 5, 26, 14, 47, 57, 620000)), (187, 'Renee', 'Ball', datetime.datetime(2013, 5, 26, 14, 47, 57, 620000)), (188, 'Rock', 'Dukakis', datetime.datetime(2013, 5, 26, 14, 47, 57, 620000)), (189, 'Cuba', 'Birch', datetime.datetime(2013, 5, 26, 14, 47, 57, 620000)), (190, 'Audrey', 'Bailey', datetime.datetime(2013, 5, 26, 14, 47, 57, 620000)), (191, 'Gregory', 'Gooding', datetime.datetime(2013, 5, 26, 14, 47, 57, 620000)), (192, 'John', 'Suvari', datetime.datetime(2013, 5, 26, 14, 47, 57, 620000)), (193, 'Burt', 'Temple', datetime.datetime(2013, 5, 26, 14, 47, 57, 620000)), (194, 'Meryl', 'Allen', datetime.datetime(2013, 5, 26, 14, 47, 57, 620000)), (195, 'Jayne', 'Silverstone', datetime.datetime(2013, 5, 26, 14, 47, 57, 620000)), (196, 'Bela', 'Walken', datetime.datetime(2013, 5, 26, 14, 47, 57, 620000)), (197, 'Reese', 'West', datetime.datetime(2013, 5, 26, 14, 47, 57, 620000)), (198, 'Mary', 'Keitel', datetime.datetime(2013, 5, 26, 14, 47, 57, 620000)), (199, 'Julia', 'Fawcett', datetime.datetime(2013, 5, 26, 14, 47, 57, 620000)), (200, 'Thora', 'Temple', datetime.datetime(2013, 5, 26, 14, 47, 57, 620000))]\n"
     ]
    }
   ],
   "source": [
    "print(cur.fetchall())"
   ]
  },
  {
   "cell_type": "markdown",
   "metadata": {},
   "source": [
    "## Create my table in database"
   ]
  },
  {
   "cell_type": "code",
   "execution_count": 9,
   "metadata": {},
   "outputs": [],
   "source": [
    "cur.execute(\"CREATE TABLE theo_table (id SERIAL PRIMARY KEY, name VARCHAR);\")"
   ]
  },
  {
   "cell_type": "markdown",
   "metadata": {},
   "source": [
    "## Add elements to the table"
   ]
  },
  {
   "cell_type": "code",
   "execution_count": 10,
   "metadata": {},
   "outputs": [],
   "source": [
    "names = ['Theo', 'Georgia', 'Rallou', 'John', 'Aleka', 'Kostia']\n",
    "\n",
    "for person in names:\n",
    "    cur.execute(\"INSERT INTO theo_table (name) VALUES(%s)\", (person,))"
   ]
  },
  {
   "cell_type": "code",
   "execution_count": 11,
   "metadata": {},
   "outputs": [
    {
     "name": "stdout",
     "output_type": "stream",
     "text": [
      "[(1, 'Theo'), (2, 'Georgia'), (3, 'Rallou'), (4, 'John'), (5, 'Aleka'), (6, 'Kostia')]\n"
     ]
    }
   ],
   "source": [
    "cur.execute(\"SELECT * FROM theo_table;\")\n",
    "print(cur.fetchall())"
   ]
  },
  {
   "cell_type": "markdown",
   "metadata": {},
   "source": [
    "## Add new column in table\n",
    "\n",
    "https://www.postgresqltutorial.com/postgresql-alter-table/"
   ]
  },
  {
   "cell_type": "code",
   "execution_count": 12,
   "metadata": {},
   "outputs": [],
   "source": [
    "cur.execute(\"ALTER TABLE theo_table ADD COLUMN age int;\")"
   ]
  },
  {
   "cell_type": "code",
   "execution_count": 14,
   "metadata": {},
   "outputs": [
    {
     "ename": "InFailedSqlTransaction",
     "evalue": "current transaction is aborted, commands ignored until end of transaction block\n",
     "output_type": "error",
     "traceback": [
      "\u001b[1;31m---------------------------------------------------------------------------\u001b[0m",
      "\u001b[1;31mInFailedSqlTransaction\u001b[0m                    Traceback (most recent call last)",
      "\u001b[1;32m<ipython-input-14-ecba4f9aaa82>\u001b[0m in \u001b[0;36m<module>\u001b[1;34m\u001b[0m\n\u001b[1;32m----> 1\u001b[1;33m \u001b[0mcur\u001b[0m\u001b[1;33m.\u001b[0m\u001b[0mexecute\u001b[0m\u001b[1;33m(\u001b[0m\u001b[1;34m\"UPDATE theo_table SET age=(33, 28, 27, 61, 55, 60);\"\u001b[0m\u001b[1;33m)\u001b[0m\u001b[1;33m\u001b[0m\u001b[1;33m\u001b[0m\u001b[0m\n\u001b[0m",
      "\u001b[1;31mInFailedSqlTransaction\u001b[0m: current transaction is aborted, commands ignored until end of transaction block\n"
     ]
    }
   ],
   "source": [
    "cur.execute(\"UPDATE theo_table SET age=(33, 28, 27, 61, 55, 60);\")"
   ]
  },
  {
   "cell_type": "code",
   "execution_count": null,
   "metadata": {},
   "outputs": [],
   "source": []
  },
  {
   "cell_type": "code",
   "execution_count": null,
   "metadata": {},
   "outputs": [],
   "source": []
  },
  {
   "cell_type": "code",
   "execution_count": null,
   "metadata": {},
   "outputs": [],
   "source": []
  },
  {
   "cell_type": "code",
   "execution_count": 13,
   "metadata": {},
   "outputs": [],
   "source": [
    "ages = [33, 28, 27, 61, 55, 60]\n",
    "\n",
    "for age in ages:\n",
    "    cur.execute(\"INSERT INTO theo_table (age) VALUES(%s)\", (age,))"
   ]
  },
  {
   "cell_type": "code",
   "execution_count": 14,
   "metadata": {},
   "outputs": [
    {
     "name": "stdout",
     "output_type": "stream",
     "text": [
      "[(1, 'Theo', None), (2, 'Georgia', None), (3, 'Rallou', None), (4, 'John', None), (5, 'Aleka', None), (6, 'Kostia', None), (7, None, 33), (8, None, 28), (9, None, 27), (10, None, 61), (11, None, 55), (12, None, 60)]\n"
     ]
    }
   ],
   "source": [
    "cur.execute(\"SELECT * FROM theo_table;\")\n",
    "print(cur.fetchall())"
   ]
  },
  {
   "cell_type": "code",
   "execution_count": null,
   "metadata": {},
   "outputs": [],
   "source": []
  },
  {
   "cell_type": "code",
   "execution_count": null,
   "metadata": {},
   "outputs": [],
   "source": []
  },
  {
   "cell_type": "code",
   "execution_count": null,
   "metadata": {},
   "outputs": [],
   "source": []
  },
  {
   "cell_type": "code",
   "execution_count": null,
   "metadata": {},
   "outputs": [],
   "source": []
  },
  {
   "cell_type": "code",
   "execution_count": null,
   "metadata": {},
   "outputs": [],
   "source": []
  },
  {
   "cell_type": "code",
   "execution_count": null,
   "metadata": {},
   "outputs": [],
   "source": []
  },
  {
   "cell_type": "code",
   "execution_count": null,
   "metadata": {},
   "outputs": [],
   "source": []
  },
  {
   "cell_type": "code",
   "execution_count": null,
   "metadata": {},
   "outputs": [],
   "source": []
  },
  {
   "cell_type": "code",
   "execution_count": null,
   "metadata": {},
   "outputs": [],
   "source": []
  },
  {
   "cell_type": "code",
   "execution_count": null,
   "metadata": {},
   "outputs": [],
   "source": []
  },
  {
   "cell_type": "markdown",
   "metadata": {},
   "source": [
    "## Conditional selection"
   ]
  },
  {
   "cell_type": "code",
   "execution_count": null,
   "metadata": {},
   "outputs": [],
   "source": []
  },
  {
   "cell_type": "code",
   "execution_count": null,
   "metadata": {},
   "outputs": [],
   "source": []
  },
  {
   "cell_type": "code",
   "execution_count": null,
   "metadata": {},
   "outputs": [],
   "source": []
  },
  {
   "cell_type": "code",
   "execution_count": null,
   "metadata": {},
   "outputs": [],
   "source": [
    "## Primary KEY"
   ]
  },
  {
   "cell_type": "code",
   "execution_count": null,
   "metadata": {},
   "outputs": [],
   "source": []
  },
  {
   "cell_type": "code",
   "execution_count": null,
   "metadata": {},
   "outputs": [],
   "source": []
  },
  {
   "cell_type": "code",
   "execution_count": null,
   "metadata": {},
   "outputs": [],
   "source": [
    "## Create table links"
   ]
  },
  {
   "cell_type": "code",
   "execution_count": null,
   "metadata": {},
   "outputs": [],
   "source": []
  },
  {
   "cell_type": "code",
   "execution_count": null,
   "metadata": {},
   "outputs": [],
   "source": []
  },
  {
   "cell_type": "code",
   "execution_count": null,
   "metadata": {},
   "outputs": [],
   "source": [
    "## Secondary key  (RELATIONS)"
   ]
  },
  {
   "cell_type": "code",
   "execution_count": null,
   "metadata": {},
   "outputs": [],
   "source": []
  },
  {
   "cell_type": "code",
   "execution_count": null,
   "metadata": {},
   "outputs": [],
   "source": []
  },
  {
   "cell_type": "code",
   "execution_count": null,
   "metadata": {},
   "outputs": [],
   "source": []
  },
  {
   "cell_type": "markdown",
   "metadata": {},
   "source": [
    "## IMPORTANT\n",
    "- https://www.youtube.com/watch?v=OOSl2jeAA5U&ab_channel=PrettyPrinted"
   ]
  },
  {
   "cell_type": "code",
   "execution_count": null,
   "metadata": {},
   "outputs": [],
   "source": []
  }
 ],
 "metadata": {
  "kernelspec": {
   "display_name": "Python 3.7.2",
   "language": "python",
   "name": "python3"
  },
  "language_info": {
   "codemirror_mode": {
    "name": "ipython",
    "version": 3
   },
   "file_extension": ".py",
   "mimetype": "text/x-python",
   "name": "python",
   "nbconvert_exporter": "python",
   "pygments_lexer": "ipython3",
   "version": "3.7.6"
  }
 },
 "nbformat": 4,
 "nbformat_minor": 4
}
