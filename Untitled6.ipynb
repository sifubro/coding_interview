{
 "cells": [
  {
   "cell_type": "code",
   "execution_count": 1,
   "id": "c65d928f",
   "metadata": {},
   "outputs": [],
   "source": [
    "class Database:\n",
    "    content = {'users': []}\n",
    "\n",
    "    @classmethod\n",
    "    def insert(cls, data):\n",
    "        cls.content['users'].append(data)\n",
    "    \n",
    "    @classmethod\n",
    "    def remove(cls, finder):\n",
    "        cls.content['users'] = [user for user in cls.content['users'] if not finder(user)]\n",
    "    \n",
    "    @classmethod\n",
    "    def find(cls, finder):\n",
    "        return [user for user in cls.content['users'] if finder(user)]\n"
   ]
  },
  {
   "cell_type": "code",
   "execution_count": 2,
   "id": "34e4b4cc",
   "metadata": {},
   "outputs": [],
   "source": [
    "from abc import ABCMeta, abstractmethod\n",
    "\n",
    "class Saveable(metaclass=ABCMeta):\n",
    "    def save(self):\n",
    "        Database.insert(self.to_dict())\n",
    "    \n",
    "    # @classmethod (or @staticmethod, or @property)\n",
    "    @abstractmethod  # @abstractmethod must always be the innermost decorator if used in conjunction with other decorators.\n",
    "    def to_dict():\n",
    "        pass"
   ]
  },
  {
   "cell_type": "code",
   "execution_count": 3,
   "id": "ff264afd",
   "metadata": {},
   "outputs": [],
   "source": [
    "class User(Saveable):\n",
    "    def __init__(self, username, password):\n",
    "        self.username = username\n",
    "        self.password = password\n",
    "    \n",
    "    def login(self):\n",
    "        return 'Logged in!'\n",
    "    \n",
    "    def __repr__(self):\n",
    "        return f'<User {self.username}>'\n",
    "\n",
    "    def to_dict(self):\n",
    "        return {\n",
    "            'username': self.username,\n",
    "            'password': self.password\n",
    "        }"
   ]
  },
  {
   "cell_type": "code",
   "execution_count": 4,
   "id": "3381bcf9",
   "metadata": {},
   "outputs": [],
   "source": [
    "class Admin(User):\n",
    "    def __init__(self, username, password, access):\n",
    "        super(Admin, self).__init__(username, password)\n",
    "        self.access = access\n",
    "    \n",
    "    def __repr__(self):\n",
    "        return f'<Admin {self.username}, access {self.access}>'\n",
    "\n",
    "    def to_dict(self):\n",
    "        return {\n",
    "            'username': self.username,\n",
    "            'password': self.password,\n",
    "            'access': self.access\n",
    "        }"
   ]
  },
  {
   "cell_type": "code",
   "execution_count": 5,
   "id": "f91831f8",
   "metadata": {},
   "outputs": [],
   "source": [
    "a = Admin('paco', 'perez', 2)\n",
    "b = Admin('rolf', 'smith', 1)"
   ]
  },
  {
   "cell_type": "code",
   "execution_count": 6,
   "id": "6da1da6e",
   "metadata": {},
   "outputs": [
    {
     "data": {
      "text/plain": [
       "<Admin paco, access 2>"
      ]
     },
     "execution_count": 6,
     "metadata": {},
     "output_type": "execute_result"
    }
   ],
   "source": [
    "a"
   ]
  },
  {
   "cell_type": "code",
   "execution_count": 7,
   "id": "9400cc88",
   "metadata": {},
   "outputs": [
    {
     "data": {
      "text/plain": [
       "<Admin rolf, access 1>"
      ]
     },
     "execution_count": 7,
     "metadata": {},
     "output_type": "execute_result"
    }
   ],
   "source": [
    "b"
   ]
  },
  {
   "cell_type": "code",
   "execution_count": 8,
   "id": "4e7a214e",
   "metadata": {},
   "outputs": [],
   "source": [
    "a.save()\n",
    "b.save()"
   ]
  },
  {
   "cell_type": "code",
   "execution_count": 11,
   "id": "b9d591a9",
   "metadata": {},
   "outputs": [
    {
     "data": {
      "text/plain": [
       "{'users': [{'username': 'paco', 'password': 'perez', 'access': 2},\n",
       "  {'username': 'rolf', 'password': 'smith', 'access': 1}]}"
      ]
     },
     "execution_count": 11,
     "metadata": {},
     "output_type": "execute_result"
    }
   ],
   "source": [
    "Database.content"
   ]
  },
  {
   "cell_type": "code",
   "execution_count": 12,
   "id": "c844f8e9",
   "metadata": {},
   "outputs": [],
   "source": [
    "user = Database.find(lambda x: x['username'] == 'paco')[0]"
   ]
  },
  {
   "cell_type": "code",
   "execution_count": 13,
   "id": "a3fcb385",
   "metadata": {},
   "outputs": [
    {
     "data": {
      "text/plain": [
       "{'username': 'paco', 'password': 'perez', 'access': 2}"
      ]
     },
     "execution_count": 13,
     "metadata": {},
     "output_type": "execute_result"
    }
   ],
   "source": [
    "user"
   ]
  },
  {
   "cell_type": "code",
   "execution_count": 14,
   "id": "e381d321",
   "metadata": {},
   "outputs": [
    {
     "data": {
      "text/plain": [
       "<Admin paco, access 2>"
      ]
     },
     "execution_count": 14,
     "metadata": {},
     "output_type": "execute_result"
    }
   ],
   "source": [
    "user_obj = Admin(**user)\n",
    "user_obj"
   ]
  },
  {
   "cell_type": "code",
   "execution_count": null,
   "id": "86f5e609",
   "metadata": {},
   "outputs": [],
   "source": []
  },
  {
   "cell_type": "code",
   "execution_count": null,
   "id": "2098a5ee",
   "metadata": {},
   "outputs": [],
   "source": []
  },
  {
   "cell_type": "code",
   "execution_count": null,
   "id": "d4db1c3b",
   "metadata": {},
   "outputs": [],
   "source": []
  },
  {
   "cell_type": "code",
   "execution_count": null,
   "id": "5b40d40b",
   "metadata": {},
   "outputs": [],
   "source": []
  },
  {
   "cell_type": "code",
   "execution_count": null,
   "id": "cd26537b",
   "metadata": {},
   "outputs": [],
   "source": [
    "from typing import List"
   ]
  }
 ],
 "metadata": {
  "kernelspec": {
   "display_name": "Python 3.7.2",
   "language": "python",
   "name": "python3"
  },
  "language_info": {
   "codemirror_mode": {
    "name": "ipython",
    "version": 3
   },
   "file_extension": ".py",
   "mimetype": "text/x-python",
   "name": "python",
   "nbconvert_exporter": "python",
   "pygments_lexer": "ipython3",
   "version": "3.7.6"
  }
 },
 "nbformat": 4,
 "nbformat_minor": 5
}
