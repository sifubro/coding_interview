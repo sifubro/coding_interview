{
 "cells": [
  {
   "cell_type": "code",
   "execution_count": 1,
   "metadata": {
    "collapsed": true
   },
   "outputs": [
    {
     "name": "stderr",
     "output_type": "stream",
     "text": [
      "C:\\Users\\30694\\Anaconda3\\lib\\site-packages\\tensorflow\\python\\framework\\dtypes.py:526: FutureWarning: Passing (type, 1) or '1type' as a synonym of type is deprecated; in a future version of numpy, it will be understood as (type, (1,)) / '(1,)type'.\n",
      "  _np_qint8 = np.dtype([(\"qint8\", np.int8, 1)])\n",
      "C:\\Users\\30694\\Anaconda3\\lib\\site-packages\\tensorflow\\python\\framework\\dtypes.py:527: FutureWarning: Passing (type, 1) or '1type' as a synonym of type is deprecated; in a future version of numpy, it will be understood as (type, (1,)) / '(1,)type'.\n",
      "  _np_quint8 = np.dtype([(\"quint8\", np.uint8, 1)])\n",
      "C:\\Users\\30694\\Anaconda3\\lib\\site-packages\\tensorflow\\python\\framework\\dtypes.py:528: FutureWarning: Passing (type, 1) or '1type' as a synonym of type is deprecated; in a future version of numpy, it will be understood as (type, (1,)) / '(1,)type'.\n",
      "  _np_qint16 = np.dtype([(\"qint16\", np.int16, 1)])\n",
      "C:\\Users\\30694\\Anaconda3\\lib\\site-packages\\tensorflow\\python\\framework\\dtypes.py:529: FutureWarning: Passing (type, 1) or '1type' as a synonym of type is deprecated; in a future version of numpy, it will be understood as (type, (1,)) / '(1,)type'.\n",
      "  _np_quint16 = np.dtype([(\"quint16\", np.uint16, 1)])\n",
      "C:\\Users\\30694\\Anaconda3\\lib\\site-packages\\tensorflow\\python\\framework\\dtypes.py:530: FutureWarning: Passing (type, 1) or '1type' as a synonym of type is deprecated; in a future version of numpy, it will be understood as (type, (1,)) / '(1,)type'.\n",
      "  _np_qint32 = np.dtype([(\"qint32\", np.int32, 1)])\n",
      "C:\\Users\\30694\\Anaconda3\\lib\\site-packages\\tensorflow\\python\\framework\\dtypes.py:535: FutureWarning: Passing (type, 1) or '1type' as a synonym of type is deprecated; in a future version of numpy, it will be understood as (type, (1,)) / '(1,)type'.\n",
      "  np_resource = np.dtype([(\"resource\", np.ubyte, 1)])\n"
     ]
    }
   ],
   "source": [
    "import tensorflow as tf"
   ]
  },
  {
   "cell_type": "markdown",
   "metadata": {},
   "source": [
    "C:\\Users\\30694\\Anaconda3\\Lib\\site-packages"
   ]
  },
  {
   "cell_type": "code",
   "execution_count": 2,
   "metadata": {},
   "outputs": [],
   "source": [
    "tf.enable_eager_execution()"
   ]
  },
  {
   "cell_type": "code",
   "execution_count": 3,
   "metadata": {},
   "outputs": [
    {
     "data": {
      "text/plain": [
       "True"
      ]
     },
     "execution_count": 3,
     "metadata": {},
     "output_type": "execute_result"
    }
   ],
   "source": [
    "tf.executing_eagerly()"
   ]
  },
  {
   "cell_type": "code",
   "execution_count": 4,
   "metadata": {},
   "outputs": [
    {
     "data": {
      "text/plain": [
       "<tf.Tensor: id=2, shape=(3, 5), dtype=float32, numpy=\n",
       "array([[1., 1., 1., 1., 1.],\n",
       "       [1., 1., 1., 1., 1.],\n",
       "       [1., 1., 1., 1., 1.]], dtype=float32)>"
      ]
     },
     "execution_count": 4,
     "metadata": {},
     "output_type": "execute_result"
    }
   ],
   "source": [
    "x = tf.ones([3,5]) \n",
    "x"
   ]
  },
  {
   "cell_type": "code",
   "execution_count": 5,
   "metadata": {},
   "outputs": [
    {
     "data": {
      "text/plain": [
       "array([[0., 2., 2., 2., 0.],\n",
       "       [2., 2., 2., 0., 0.],\n",
       "       [2., 2., 0., 2., 0.]], dtype=float32)"
      ]
     },
     "execution_count": 5,
     "metadata": {},
     "output_type": "execute_result"
    }
   ],
   "source": [
    "tf.nn.dropout(x, rate = 0.5).numpy() "
   ]
  },
  {
   "cell_type": "code",
   "execution_count": 6,
   "metadata": {
    "collapsed": true
   },
   "outputs": [
    {
     "name": "stdout",
     "output_type": "stream",
     "text": [
      "hiiiiiiiii\n",
      "Calling Selective Dropout!\n"
     ]
    },
    {
     "ename": "NameError",
     "evalue": "name 'seed' is not defined",
     "output_type": "error",
     "traceback": [
      "\u001b[1;31m---------------------------------------------------------------------------\u001b[0m",
      "\u001b[1;31mNameError\u001b[0m                                 Traceback (most recent call last)",
      "\u001b[1;32m<ipython-input-6-a27846b7602d>\u001b[0m in \u001b[0;36m<module>\u001b[1;34m()\u001b[0m\n\u001b[1;32m----> 1\u001b[1;33m \u001b[0mtf\u001b[0m\u001b[1;33m.\u001b[0m\u001b[0mnn\u001b[0m\u001b[1;33m.\u001b[0m\u001b[0mselective_dropout\u001b[0m\u001b[1;33m(\u001b[0m\u001b[0mx\u001b[0m\u001b[1;33m,\u001b[0m \u001b[0mnacts\u001b[0m\u001b[1;33m=\u001b[0m\u001b[1;36m3\u001b[0m\u001b[1;33m,\u001b[0m \u001b[0mnchannels\u001b[0m\u001b[1;33m=\u001b[0m\u001b[1;36m15\u001b[0m\u001b[1;33m)\u001b[0m\u001b[1;33m.\u001b[0m\u001b[0mnumpy\u001b[0m\u001b[1;33m(\u001b[0m\u001b[1;33m)\u001b[0m\u001b[1;33m\u001b[0m\u001b[1;33m\u001b[0m\u001b[0m\n\u001b[0m",
      "\u001b[1;32mC:\\Users\\30694\\Anaconda3\\lib\\site-packages\\tensorflow\\python\\ops\\nn_ops.py\u001b[0m in \u001b[0;36mselective_dropout\u001b[1;34m(x, nacts, nchannels, noise_shape, name)\u001b[0m\n\u001b[0;32m   3123\u001b[0m     \u001b[1;32mraise\u001b[0m \u001b[0mValueError\u001b[0m\u001b[1;33m(\u001b[0m\u001b[1;34m\"You must provide a rate to dropout.\"\u001b[0m\u001b[1;33m)\u001b[0m\u001b[1;33m\u001b[0m\u001b[1;33m\u001b[0m\u001b[0m\n\u001b[0;32m   3124\u001b[0m \u001b[1;33m\u001b[0m\u001b[0m\n\u001b[1;32m-> 3125\u001b[1;33m   \u001b[1;32mreturn\u001b[0m \u001b[0mselective_dropout_v2\u001b[0m\u001b[1;33m(\u001b[0m\u001b[0mx\u001b[0m\u001b[1;33m,\u001b[0m \u001b[0mnacts\u001b[0m\u001b[1;33m=\u001b[0m \u001b[0mnacts\u001b[0m\u001b[1;33m,\u001b[0m \u001b[0mnchannels\u001b[0m\u001b[1;33m=\u001b[0m\u001b[0mnchannels\u001b[0m\u001b[1;33m,\u001b[0m \u001b[0mnoise_shape\u001b[0m\u001b[1;33m=\u001b[0m\u001b[0mnoise_shape\u001b[0m\u001b[1;33m,\u001b[0m \u001b[0mname\u001b[0m\u001b[1;33m=\u001b[0m\u001b[0mname\u001b[0m\u001b[1;33m)\u001b[0m\u001b[1;33m\u001b[0m\u001b[1;33m\u001b[0m\u001b[0m\n\u001b[0m\u001b[0;32m   3126\u001b[0m \u001b[1;33m\u001b[0m\u001b[0m\n\u001b[0;32m   3127\u001b[0m \u001b[1;33m\u001b[0m\u001b[0m\n",
      "\u001b[1;32mC:\\Users\\30694\\Anaconda3\\lib\\site-packages\\tensorflow\\python\\ops\\nn_ops.py\u001b[0m in \u001b[0;36mselective_dropout_v2\u001b[1;34m(x, nacts, nchannels, noise_shape, name)\u001b[0m\n\u001b[0;32m   3198\u001b[0m     \u001b[0mrandom_tensor\u001b[0m \u001b[1;33m=\u001b[0m \u001b[0mkeep_prob\u001b[0m\u001b[1;33m\u001b[0m\u001b[1;33m\u001b[0m\u001b[0m\n\u001b[0;32m   3199\u001b[0m     random_tensor += random_ops.random_uniform(\n\u001b[1;32m-> 3200\u001b[1;33m         noise_shape, seed=seed, dtype=x.dtype)\n\u001b[0m\u001b[0;32m   3201\u001b[0m     \u001b[1;31m# 0. if [keep_prob, 1.0) and 1. if [1.0, 1.0 + keep_prob)\u001b[0m\u001b[1;33m\u001b[0m\u001b[1;33m\u001b[0m\u001b[1;33m\u001b[0m\u001b[0m\n\u001b[0;32m   3202\u001b[0m     \u001b[0mbinary_tensor\u001b[0m \u001b[1;33m=\u001b[0m \u001b[0mmath_ops\u001b[0m\u001b[1;33m.\u001b[0m\u001b[0mfloor\u001b[0m\u001b[1;33m(\u001b[0m\u001b[0mrandom_tensor\u001b[0m\u001b[1;33m)\u001b[0m\u001b[1;33m\u001b[0m\u001b[1;33m\u001b[0m\u001b[0m\n",
      "\u001b[1;31mNameError\u001b[0m: name 'seed' is not defined"
     ]
    }
   ],
   "source": [
    "tf.nn.selective_dropout(x, nacts=3, nchannels=15).numpy() "
   ]
  },
  {
   "cell_type": "code",
   "execution_count": 10,
   "metadata": {},
   "outputs": [],
   "source": [
    "keep_prob = 0.3\n",
    "seed=0\n",
    "random_tensor = keep_prob"
   ]
  },
  {
   "cell_type": "code",
   "execution_count": 12,
   "metadata": {},
   "outputs": [],
   "source": [
    "from tensorflow.python.ops import random_ops"
   ]
  },
  {
   "cell_type": "code",
   "execution_count": 14,
   "metadata": {},
   "outputs": [],
   "source": [
    "def _get_noise_shape(x, noise_shape):\n",
    "  # If noise_shape is none return immediately.\n",
    "  if noise_shape is None:\n",
    "    return array_ops.shape(x)\n",
    "\n",
    "  try:\n",
    "    # Best effort to figure out the intended shape.\n",
    "    # If not possible, let the op to handle it.\n",
    "    # In eager mode exception will show up.\n",
    "    noise_shape_ = tensor_shape.as_shape(noise_shape)\n",
    "  except (TypeError, ValueError):\n",
    "    return noise_shape\n",
    "\n",
    "  if x.shape.dims is not None and len(x.shape.dims) == len(noise_shape_.dims):\n",
    "    new_dims = []\n",
    "    for i, dim in enumerate(x.shape.dims):\n",
    "      if noise_shape_.dims[i].value is None and dim.value is not None:\n",
    "        new_dims.append(dim.value)\n",
    "      else:\n",
    "        new_dims.append(noise_shape_.dims[i].value)\n",
    "    return tensor_shape.TensorShape(new_dims)\n",
    "\n",
    "  return noise_shape"
   ]
  },
  {
   "cell_type": "code",
   "execution_count": 19,
   "metadata": {},
   "outputs": [],
   "source": [
    "from tensorflow.python.ops import array_ops"
   ]
  },
  {
   "cell_type": "code",
   "execution_count": 21,
   "metadata": {},
   "outputs": [
    {
     "data": {
      "text/plain": [
       "<tf.Tensor: id=21, shape=(2,), dtype=int32, numpy=array([3, 5])>"
      ]
     },
     "execution_count": 21,
     "metadata": {},
     "output_type": "execute_result"
    }
   ],
   "source": [
    "noise_shape=None\n",
    "noise_shape = _get_noise_shape(x, noise_shape)\n",
    "noise_shape"
   ]
  },
  {
   "cell_type": "code",
   "execution_count": 22,
   "metadata": {},
   "outputs": [],
   "source": [
    "random_tensor += random_ops.random_uniform(noise_shape, seed=seed, dtype=x.dtype)"
   ]
  },
  {
   "cell_type": "code",
   "execution_count": 23,
   "metadata": {},
   "outputs": [
    {
     "data": {
      "text/plain": [
       "<tf.Tensor: id=30, shape=(3, 5), dtype=float32, numpy=\n",
       "array([[0.40086263, 1.2701669 , 1.1487641 , 0.34828132, 0.34852308],\n",
       "       [1.0774746 , 1.1444681 , 0.71707493, 0.8099584 , 0.9552025 ],\n",
       "       [1.2881508 , 0.6669894 , 0.6778979 , 0.99118716, 1.295444  ]],\n",
       "      dtype=float32)>"
      ]
     },
     "execution_count": 23,
     "metadata": {},
     "output_type": "execute_result"
    }
   ],
   "source": [
    "random_tensor"
   ]
  },
  {
   "cell_type": "code",
   "execution_count": 25,
   "metadata": {},
   "outputs": [],
   "source": [
    "from tensorflow.python.ops import math_ops"
   ]
  },
  {
   "cell_type": "code",
   "execution_count": 26,
   "metadata": {},
   "outputs": [
    {
     "data": {
      "text/plain": [
       "<tf.Tensor: id=32, shape=(3, 5), dtype=float32, numpy=\n",
       "array([[0., 1., 1., 0., 0.],\n",
       "       [1., 1., 0., 0., 0.],\n",
       "       [1., 0., 0., 0., 1.]], dtype=float32)>"
      ]
     },
     "execution_count": 26,
     "metadata": {},
     "output_type": "execute_result"
    }
   ],
   "source": [
    "binary_tensor = math_ops.floor(random_tensor)\n",
    "binary_tensor"
   ]
  },
  {
   "cell_type": "code",
   "execution_count": 27,
   "metadata": {},
   "outputs": [
    {
     "data": {
      "text/plain": [
       "<tf.Tensor: id=36, shape=(3, 5), dtype=float32, numpy=\n",
       "array([[0.       , 3.3333333, 3.3333333, 0.       , 0.       ],\n",
       "       [3.3333333, 3.3333333, 0.       , 0.       , 0.       ],\n",
       "       [3.3333333, 0.       , 0.       , 0.       , 3.3333333]],\n",
       "      dtype=float32)>"
      ]
     },
     "execution_count": 27,
     "metadata": {},
     "output_type": "execute_result"
    }
   ],
   "source": [
    "ret = math_ops.divide(x, keep_prob) * binary_tensor\n",
    "ret"
   ]
  },
  {
   "cell_type": "code",
   "execution_count": 28,
   "metadata": {},
   "outputs": [
    {
     "data": {
      "text/plain": [
       "<tf.Tensor: id=30, shape=(3, 5), dtype=float32, numpy=\n",
       "array([[0.40086263, 1.2701669 , 1.1487641 , 0.34828132, 0.34852308],\n",
       "       [1.0774746 , 1.1444681 , 0.71707493, 0.8099584 , 0.9552025 ],\n",
       "       [1.2881508 , 0.6669894 , 0.6778979 , 0.99118716, 1.295444  ]],\n",
       "      dtype=float32)>"
      ]
     },
     "execution_count": 28,
     "metadata": {},
     "output_type": "execute_result"
    }
   ],
   "source": [
    "random_tensor"
   ]
  },
  {
   "cell_type": "code",
   "execution_count": 29,
   "metadata": {},
   "outputs": [
    {
     "data": {
      "text/plain": [
       "<tf.Tensor: id=40, shape=(5,), dtype=int64, numpy=array([2, 0, 0, 2, 2], dtype=int64)>"
      ]
     },
     "execution_count": 29,
     "metadata": {},
     "output_type": "execute_result"
    }
   ],
   "source": [
    "tf.argmax(random_tensor)"
   ]
  },
  {
   "cell_type": "code",
   "execution_count": 31,
   "metadata": {},
   "outputs": [],
   "source": [
    "import numpy as np\n",
    "a = np.array([\n",
    "    [\n",
    "        [1,5],[7,3]\n",
    "    ], \n",
    "    [\n",
    "        [22,15], [21,4]\n",
    "    ], \n",
    "    [\n",
    "        [34,1], [7,8]\n",
    "    ]\n",
    "    \n",
    "    \n",
    "])"
   ]
  },
  {
   "cell_type": "code",
   "execution_count": 34,
   "metadata": {},
   "outputs": [
    {
     "data": {
      "text/plain": [
       "<tf.Tensor: id=44, shape=(3, 2, 2), dtype=int32, numpy=\n",
       "array([[[ 1,  5],\n",
       "        [ 7,  3]],\n",
       "\n",
       "       [[22, 15],\n",
       "        [21,  4]],\n",
       "\n",
       "       [[34,  1],\n",
       "        [ 7,  8]]])>"
      ]
     },
     "execution_count": 34,
     "metadata": {},
     "output_type": "execute_result"
    }
   ],
   "source": [
    "b = tf.convert_to_tensor(a)\n",
    "b"
   ]
  },
  {
   "cell_type": "code",
   "execution_count": 46,
   "metadata": {},
   "outputs": [
    {
     "data": {
      "text/plain": [
       "<tf.Tensor: id=71, shape=(3, 2, 2), dtype=float32, numpy=\n",
       "array([[[ 1.,  5.],\n",
       "        [ 7.,  3.]],\n",
       "\n",
       "       [[22., 15.],\n",
       "        [21.,  4.]],\n",
       "\n",
       "       [[34.,  1.],\n",
       "        [ 7.,  8.]]], dtype=float32)>"
      ]
     },
     "execution_count": 46,
     "metadata": {},
     "output_type": "execute_result"
    }
   ],
   "source": [
    "b = tf.dtypes.cast(b, tf.float32)\n",
    "b"
   ]
  },
  {
   "cell_type": "markdown",
   "metadata": {},
   "source": [
    "## Get the norm of input tensor along axis"
   ]
  },
  {
   "cell_type": "code",
   "execution_count": 48,
   "metadata": {},
   "outputs": [
    {
     "data": {
      "text/plain": [
       "<tf.Tensor: id=83, shape=(3,), dtype=float32, numpy=array([ 9.165152, 34.146744, 35.63706 ], dtype=float32)>"
      ]
     },
     "execution_count": 48,
     "metadata": {},
     "output_type": "execute_result"
    }
   ],
   "source": [
    "c = tf.norm(b, axis=[1,2])\n",
    "c"
   ]
  },
  {
   "cell_type": "markdown",
   "metadata": {},
   "source": [
    "## Find the top k values of a tensor"
   ]
  },
  {
   "cell_type": "code",
   "execution_count": 52,
   "metadata": {},
   "outputs": [
    {
     "data": {
      "text/plain": [
       "TopKV2(values=<tf.Tensor: id=100, shape=(2,), dtype=float32, numpy=array([35.63706 , 34.146744], dtype=float32)>, indices=<tf.Tensor: id=101, shape=(2,), dtype=int32, numpy=array([2, 1])>)"
      ]
     },
     "execution_count": 52,
     "metadata": {},
     "output_type": "execute_result"
    }
   ],
   "source": [
    "d=tf.math.top_k(c, k=2)  # default k=1\n",
    "d"
   ]
  },
  {
   "cell_type": "markdown",
   "metadata": {},
   "source": [
    "## And the indices of top k values"
   ]
  },
  {
   "cell_type": "code",
   "execution_count": 53,
   "metadata": {},
   "outputs": [
    {
     "data": {
      "text/plain": [
       "<tf.Tensor: id=101, shape=(2,), dtype=int32, numpy=array([2, 1])>"
      ]
     },
     "execution_count": 53,
     "metadata": {},
     "output_type": "execute_result"
    }
   ],
   "source": [
    "d.indices"
   ]
  },
  {
   "cell_type": "code",
   "execution_count": 56,
   "metadata": {},
   "outputs": [
    {
     "data": {
      "text/plain": [
       "<tf.Tensor: id=113, shape=(3,), dtype=bool, numpy=array([False,  True,  True])>"
      ]
     },
     "execution_count": 56,
     "metadata": {},
     "output_type": "execute_result"
    }
   ],
   "source": [
    "kth = tf.reduce_min(d.values)\n",
    "top2 = tf.greater_equal(c, kth)\n",
    "top2"
   ]
  },
  {
   "cell_type": "code",
   "execution_count": 58,
   "metadata": {},
   "outputs": [
    {
     "data": {
      "text/plain": [
       "<tf.Tensor: id=112, shape=(), dtype=float32, numpy=34.146744>"
      ]
     },
     "execution_count": 58,
     "metadata": {},
     "output_type": "execute_result"
    }
   ],
   "source": [
    "kth"
   ]
  },
  {
   "cell_type": "code",
   "execution_count": 57,
   "metadata": {},
   "outputs": [
    {
     "data": {
      "text/plain": [
       "<tf.Tensor: id=115, shape=(3,), dtype=float32, numpy=array([0., 1., 1.], dtype=float32)>"
      ]
     },
     "execution_count": 57,
     "metadata": {},
     "output_type": "execute_result"
    }
   ],
   "source": [
    "# Casting False-True to 0-1\n",
    "tf.cast(top2, tf.float32)"
   ]
  },
  {
   "cell_type": "code",
   "execution_count": null,
   "metadata": {},
   "outputs": [],
   "source": []
  },
  {
   "cell_type": "code",
   "execution_count": null,
   "metadata": {},
   "outputs": [],
   "source": []
  },
  {
   "cell_type": "code",
   "execution_count": null,
   "metadata": {},
   "outputs": [],
   "source": []
  },
  {
   "cell_type": "code",
   "execution_count": null,
   "metadata": {},
   "outputs": [],
   "source": []
  },
  {
   "cell_type": "code",
   "execution_count": 1,
   "metadata": {},
   "outputs": [
    {
     "name": "stderr",
     "output_type": "stream",
     "text": [
      "C:\\Users\\30694\\Anaconda3\\lib\\site-packages\\tensorflow\\python\\framework\\dtypes.py:526: FutureWarning: Passing (type, 1) or '1type' as a synonym of type is deprecated; in a future version of numpy, it will be understood as (type, (1,)) / '(1,)type'.\n",
      "  _np_qint8 = np.dtype([(\"qint8\", np.int8, 1)])\n",
      "C:\\Users\\30694\\Anaconda3\\lib\\site-packages\\tensorflow\\python\\framework\\dtypes.py:527: FutureWarning: Passing (type, 1) or '1type' as a synonym of type is deprecated; in a future version of numpy, it will be understood as (type, (1,)) / '(1,)type'.\n",
      "  _np_quint8 = np.dtype([(\"quint8\", np.uint8, 1)])\n",
      "C:\\Users\\30694\\Anaconda3\\lib\\site-packages\\tensorflow\\python\\framework\\dtypes.py:528: FutureWarning: Passing (type, 1) or '1type' as a synonym of type is deprecated; in a future version of numpy, it will be understood as (type, (1,)) / '(1,)type'.\n",
      "  _np_qint16 = np.dtype([(\"qint16\", np.int16, 1)])\n",
      "C:\\Users\\30694\\Anaconda3\\lib\\site-packages\\tensorflow\\python\\framework\\dtypes.py:529: FutureWarning: Passing (type, 1) or '1type' as a synonym of type is deprecated; in a future version of numpy, it will be understood as (type, (1,)) / '(1,)type'.\n",
      "  _np_quint16 = np.dtype([(\"quint16\", np.uint16, 1)])\n",
      "C:\\Users\\30694\\Anaconda3\\lib\\site-packages\\tensorflow\\python\\framework\\dtypes.py:530: FutureWarning: Passing (type, 1) or '1type' as a synonym of type is deprecated; in a future version of numpy, it will be understood as (type, (1,)) / '(1,)type'.\n",
      "  _np_qint32 = np.dtype([(\"qint32\", np.int32, 1)])\n",
      "C:\\Users\\30694\\Anaconda3\\lib\\site-packages\\tensorflow\\python\\framework\\dtypes.py:535: FutureWarning: Passing (type, 1) or '1type' as a synonym of type is deprecated; in a future version of numpy, it will be understood as (type, (1,)) / '(1,)type'.\n",
      "  np_resource = np.dtype([(\"resource\", np.ubyte, 1)])\n"
     ]
    }
   ],
   "source": [
    "import tensorflow as tf"
   ]
  },
  {
   "cell_type": "markdown",
   "metadata": {},
   "source": [
    "C:\\Users\\30694\\Anaconda3\\Lib\\site-packages"
   ]
  },
  {
   "cell_type": "code",
   "execution_count": 2,
   "metadata": {},
   "outputs": [],
   "source": [
    "tf.enable_eager_execution()"
   ]
  },
  {
   "cell_type": "code",
   "execution_count": 3,
   "metadata": {},
   "outputs": [
    {
     "data": {
      "text/plain": [
       "True"
      ]
     },
     "execution_count": 3,
     "metadata": {},
     "output_type": "execute_result"
    }
   ],
   "source": [
    "tf.executing_eagerly()"
   ]
  },
  {
   "cell_type": "code",
   "execution_count": 4,
   "metadata": {},
   "outputs": [],
   "source": [
    "import numpy as np\n",
    "a = np.array([\n",
    "    [\n",
    "        [1,5],[7,3]\n",
    "    ], \n",
    "    [\n",
    "        [22,15], [21,4]\n",
    "    ], \n",
    "    [\n",
    "        [34,1], [7,8]\n",
    "    ],\n",
    "    [\n",
    "        [11,8], [9,13]\n",
    "    ],\n",
    "    [\n",
    "        [26,11], [17,1]\n",
    "    ],\n",
    "    [\n",
    "        [41,2], [9,6]\n",
    "    ],\n",
    "    [\n",
    "        [7,8], [19,13]\n",
    "    ],\n",
    "    [\n",
    "        [22,28], [19,23]\n",
    "    ],\n",
    "    [\n",
    "        [31,8], [9,3]\n",
    "    ],\n",
    "])\n",
    "\n",
    "\n",
    "\n",
    "x = tf.convert_to_tensor(a)\n",
    "x = tf.dtypes.cast(x, tf.float32)"
   ]
  },
  {
   "cell_type": "code",
   "execution_count": 5,
   "metadata": {
    "scrolled": true
   },
   "outputs": [
    {
     "name": "stdout",
     "output_type": "stream",
     "text": [
      "x tf.Tensor(\n",
      "[[[ 1.  5.]\n",
      "  [ 7.  3.]]\n",
      "\n",
      " [[22. 15.]\n",
      "  [21.  4.]]\n",
      "\n",
      " [[34.  1.]\n",
      "  [ 7.  8.]]\n",
      "\n",
      " [[11.  8.]\n",
      "  [ 9. 13.]]\n",
      "\n",
      " [[26. 11.]\n",
      "  [17.  1.]]\n",
      "\n",
      " [[41.  2.]\n",
      "  [ 9.  6.]]\n",
      "\n",
      " [[ 7.  8.]\n",
      "  [19. 13.]]\n",
      "\n",
      " [[22. 28.]\n",
      "  [19. 23.]]\n",
      "\n",
      " [[31.  8.]\n",
      "  [ 9.  3.]]], shape=(9, 2, 2), dtype=float32)\n",
      "binary_tensor tf.Tensor(\n",
      "[[[0. 1.]\n",
      "  [1. 0.]]\n",
      "\n",
      " [[1. 0.]\n",
      "  [1. 0.]]\n",
      "\n",
      " [[1. 1.]\n",
      "  [1. 1.]]\n",
      "\n",
      " [[1. 0.]\n",
      "  [0. 1.]]\n",
      "\n",
      " [[1. 1.]\n",
      "  [0. 0.]]\n",
      "\n",
      " [[1. 0.]\n",
      "  [1. 0.]]\n",
      "\n",
      " [[0. 1.]\n",
      "  [0. 0.]]\n",
      "\n",
      " [[0. 0.]\n",
      "  [0. 1.]]\n",
      "\n",
      " [[0. 1.]\n",
      "  [0. 0.]]], shape=(9, 2, 2), dtype=float32)\n",
      "ret:\n"
     ]
    },
    {
     "data": {
      "text/plain": [
       "array([[[ 0., 10.],\n",
       "        [14.,  0.]],\n",
       "\n",
       "       [[44.,  0.],\n",
       "        [42.,  0.]],\n",
       "\n",
       "       [[68.,  2.],\n",
       "        [14., 16.]],\n",
       "\n",
       "       [[22.,  0.],\n",
       "        [ 0., 26.]],\n",
       "\n",
       "       [[52., 22.],\n",
       "        [ 0.,  0.]],\n",
       "\n",
       "       [[82.,  0.],\n",
       "        [18.,  0.]],\n",
       "\n",
       "       [[ 0., 16.],\n",
       "        [ 0.,  0.]],\n",
       "\n",
       "       [[ 0.,  0.],\n",
       "        [ 0., 46.]],\n",
       "\n",
       "       [[ 0., 16.],\n",
       "        [ 0.,  0.]]], dtype=float32)"
      ]
     },
     "execution_count": 5,
     "metadata": {},
     "output_type": "execute_result"
    }
   ],
   "source": [
    "tf.nn.dropout(x, rate = 0.5).numpy() "
   ]
  },
  {
   "cell_type": "markdown",
   "metadata": {},
   "source": [
    "### keeping the top 3 activations"
   ]
  },
  {
   "cell_type": "code",
   "execution_count": 6,
   "metadata": {},
   "outputs": [
    {
     "name": "stdout",
     "output_type": "stream",
     "text": [
      "tf.Tensor(\n",
      "[[[0.]]\n",
      "\n",
      " [[0.]]\n",
      "\n",
      " [[1.]]\n",
      "\n",
      " [[0.]]\n",
      "\n",
      " [[0.]]\n",
      "\n",
      " [[1.]]\n",
      "\n",
      " [[0.]]\n",
      "\n",
      " [[1.]]\n",
      "\n",
      " [[0.]]], shape=(9, 1, 1), dtype=float32)\n"
     ]
    },
    {
     "data": {
      "text/plain": [
       "array([[[  0.,   0.],\n",
       "        [  0.,   0.]],\n",
       "\n",
       "       [[  0.,   0.],\n",
       "        [  0.,   0.]],\n",
       "\n",
       "       [[102.,   3.],\n",
       "        [ 21.,  24.]],\n",
       "\n",
       "       [[  0.,   0.],\n",
       "        [  0.,   0.]],\n",
       "\n",
       "       [[  0.,   0.],\n",
       "        [  0.,   0.]],\n",
       "\n",
       "       [[123.,   6.],\n",
       "        [ 27.,  18.]],\n",
       "\n",
       "       [[  0.,   0.],\n",
       "        [  0.,   0.]],\n",
       "\n",
       "       [[ 66.,  84.],\n",
       "        [ 57.,  69.]],\n",
       "\n",
       "       [[  0.,   0.],\n",
       "        [  0.,   0.]]], dtype=float32)"
      ]
     },
     "execution_count": 6,
     "metadata": {},
     "output_type": "execute_result"
    }
   ],
   "source": [
    "tf.nn.selective_dropout(x, nacts=3, nchannels=int(x.shape[0])).numpy() "
   ]
  },
  {
   "cell_type": "markdown",
   "metadata": {},
   "source": [
    "### keeping the top 6 activations"
   ]
  },
  {
   "cell_type": "code",
   "execution_count": 7,
   "metadata": {},
   "outputs": [
    {
     "name": "stdout",
     "output_type": "stream",
     "text": [
      "tf.Tensor(\n",
      "[[[0.]]\n",
      "\n",
      " [[1.]]\n",
      "\n",
      " [[1.]]\n",
      "\n",
      " [[0.]]\n",
      "\n",
      " [[1.]]\n",
      "\n",
      " [[1.]]\n",
      "\n",
      " [[0.]]\n",
      "\n",
      " [[1.]]\n",
      "\n",
      " [[1.]]], shape=(9, 1, 1), dtype=float32)\n"
     ]
    },
    {
     "data": {
      "text/plain": [
       "array([[[ 0. ,  0. ],\n",
       "        [ 0. ,  0. ]],\n",
       "\n",
       "       [[33. , 22.5],\n",
       "        [31.5,  6. ]],\n",
       "\n",
       "       [[51. ,  1.5],\n",
       "        [10.5, 12. ]],\n",
       "\n",
       "       [[ 0. ,  0. ],\n",
       "        [ 0. ,  0. ]],\n",
       "\n",
       "       [[39. , 16.5],\n",
       "        [25.5,  1.5]],\n",
       "\n",
       "       [[61.5,  3. ],\n",
       "        [13.5,  9. ]],\n",
       "\n",
       "       [[ 0. ,  0. ],\n",
       "        [ 0. ,  0. ]],\n",
       "\n",
       "       [[33. , 42. ],\n",
       "        [28.5, 34.5]],\n",
       "\n",
       "       [[46.5, 12. ],\n",
       "        [13.5,  4.5]]], dtype=float32)"
      ]
     },
     "execution_count": 7,
     "metadata": {},
     "output_type": "execute_result"
    }
   ],
   "source": [
    "tf.nn.selective_dropout(x, nacts=6, nchannels=int(x.shape[0])).numpy() "
   ]
  },
  {
   "cell_type": "markdown",
   "metadata": {},
   "source": [
    "### Generally It must be a hyperparameter to be tuned !!"
   ]
  },
  {
   "cell_type": "code",
   "execution_count": null,
   "metadata": {},
   "outputs": [],
   "source": []
  },
  {
   "cell_type": "code",
   "execution_count": null,
   "metadata": {},
   "outputs": [],
   "source": []
  }
 ],
 "metadata": {
  "kernelspec": {
   "display_name": "Python 3",
   "language": "python",
   "name": "python3"
  },
  "language_info": {
   "codemirror_mode": {
    "name": "ipython",
    "version": 3
   },
   "file_extension": ".py",
   "mimetype": "text/x-python",
   "name": "python",
   "nbconvert_exporter": "python",
   "pygments_lexer": "ipython3",
   "version": "3.7.2"
  }
 },
 "nbformat": 4,
 "nbformat_minor": 2
}
