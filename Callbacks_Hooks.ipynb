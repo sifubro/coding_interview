{
 "cells": [
  {
   "cell_type": "code",
   "execution_count": null,
   "metadata": {},
   "outputs": [],
   "source": []
  },
  {
   "cell_type": "markdown",
   "metadata": {},
   "source": [
    "- https://stackoverflow.com/questions/4309607/whats-the-preferred-way-to-implement-a-hook-or-callback-in-python/4321509#4321509\n",
    "\n",
    "- https://stackoverflow.com/questions/1319074/parallel-python-what-is-a-callback#:~:text=A%20callback%20is%20simply%20a,the%20callback%20accept%20certain%20arguments.\n",
    "\n"
   ]
  },
  {
   "cell_type": "markdown",
   "metadata": {},
   "source": [
    "**Callback:** provide a functionB as an argument to another functionA and when functionA finishes executiong of something it calls functionB to execture\n",
    "\n",
    "Enforce an order of operations that is useful to us.\n",
    "\n"
   ]
  },
  {
   "cell_type": "markdown",
   "metadata": {},
   "source": [
    "### Redifine a function from module without chaning the original modules code.\n",
    "\n",
    "- https://stackoverflow.com/questions/22933287/how-can-i-hook-a-function-in-a-python-module\n",
    "    "
   ]
  },
  {
   "cell_type": "markdown",
   "metadata": {},
   "source": [
    "## https://stackoverflow.com/questions/4309607/whats-the-preferred-way-to-implement-a-hook-or-callback-in-python"
   ]
  },
  {
   "cell_type": "code",
   "execution_count": null,
   "metadata": {},
   "outputs": [],
   "source": []
  },
  {
   "cell_type": "code",
   "execution_count": null,
   "metadata": {},
   "outputs": [],
   "source": []
  },
  {
   "cell_type": "markdown",
   "metadata": {},
   "source": [
    "## https://stackoverflow.com/questions/59088671/hooking-every-function-call-in-python"
   ]
  },
  {
   "cell_type": "code",
   "execution_count": null,
   "metadata": {},
   "outputs": [],
   "source": []
  },
  {
   "cell_type": "code",
   "execution_count": null,
   "metadata": {},
   "outputs": [],
   "source": []
  },
  {
   "cell_type": "code",
   "execution_count": null,
   "metadata": {},
   "outputs": [],
   "source": []
  },
  {
   "cell_type": "markdown",
   "metadata": {},
   "source": [
    "## HOOK\n",
    "\n",
    "https://en.wikipedia.org/wiki/Hooking\n",
    "\n",
    "Essentially it's a place in code that allows you to tap in to a module to either provide different behavior or to react when something happens.\n",
    "\n",
    "A callback is a callback and has nothing to do with hooks, callbacks are simply USED for the IMPLEMENTATION of hook-methods. Callbacks are pointers (RELJMP) to functions/methods/procedures (CALL), hooks are modifications to running applications."
   ]
  },
  {
   "cell_type": "code",
   "execution_count": null,
   "metadata": {},
   "outputs": [],
   "source": [
    "def hook(hookfunc, oldfunc):\n",
    "    def foo(*args, **kwargs):\n",
    "        hookfunc(*args, **kwargs)\n",
    "        return oldfunc(*args, **kwargs)\n",
    "    return foo"
   ]
  },
  {
   "cell_type": "markdown",
   "metadata": {},
   "source": [
    "Incredibly simple. It will return a function that first runs the desired hook function (with the same parameters, mind you) and will then run the original function that you are hooking and return that original value. This also works to overwrite a class method. Say we have static method in a class"
   ]
  },
  {
   "cell_type": "code",
   "execution_count": null,
   "metadata": {},
   "outputs": [],
   "source": [
    "class Foo:\n",
    "    @staticmethod\n",
    "    def bar(data):\n",
    "        for datum in data:\n",
    "            print(datum, end=\"\") # assuming python3 for this\n",
    "        print()"
   ]
  },
  {
   "cell_type": "markdown",
   "metadata": {},
   "source": [
    "But we want to print the length of the data before we print out its elements"
   ]
  },
  {
   "cell_type": "code",
   "execution_count": null,
   "metadata": {},
   "outputs": [],
   "source": [
    "def myNewFunction(data):\n",
    "    print(\"The length is {}.\".format(len(data)))"
   ]
  },
  {
   "cell_type": "markdown",
   "metadata": {},
   "source": [
    "And now we simple hook the function"
   ]
  },
  {
   "cell_type": "code",
   "execution_count": null,
   "metadata": {},
   "outputs": [],
   "source": [
    "Foo.bar([\"a\", \"b\", \"c\"])\n",
    "# => a b c\n",
    "Foo.bar = hook(Foo.bar, myNewFunction)\n",
    "Foo.bar([\"x\", \"y\", \"z\"])\n",
    "# => The length is 3.\n",
    "# => x y z "
   ]
  }
 ],
 "metadata": {
  "kernelspec": {
   "display_name": "Python 3.7.2",
   "language": "python",
   "name": "python3"
  },
  "language_info": {
   "codemirror_mode": {
    "name": "ipython",
    "version": 3
   },
   "file_extension": ".py",
   "mimetype": "text/x-python",
   "name": "python",
   "nbconvert_exporter": "python",
   "pygments_lexer": "ipython3",
   "version": "3.7.6"
  }
 },
 "nbformat": 4,
 "nbformat_minor": 4
}
