{
 "cells": [
  {
   "cell_type": "markdown",
   "id": "080c2e9b",
   "metadata": {},
   "source": [
    "https://www.dpreview.com/forums/thread/4204912\n",
    "\n",
    "https://datahacker.rs/004-how-to-smooth-and-sharpen-an-image-in-opencv/\n",
    "\n",
    "https://stackoverflow.com/questions/4993082/how-can-i-sharpen-an-image-in-opencv\n",
    "\n"
   ]
  }
 ],
 "metadata": {
  "kernelspec": {
   "display_name": "Python 3",
   "language": "python",
   "name": "python3"
  },
  "language_info": {
   "codemirror_mode": {
    "name": "ipython",
    "version": 3
   },
   "file_extension": ".py",
   "mimetype": "text/x-python",
   "name": "python",
   "nbconvert_exporter": "python",
   "pygments_lexer": "ipython3",
   "version": "3.8.8"
  }
 },
 "nbformat": 4,
 "nbformat_minor": 5
}
