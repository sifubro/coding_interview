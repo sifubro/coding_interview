{
 "cells": [
  {
   "cell_type": "markdown",
   "metadata": {},
   "source": [
    "##  See also logging folder\n",
    "\n",
    "### https://www.youtube.com/watch?v=-ARI4Cz-awo&list=PLVaD34SAiry_jpqn8vzMtB0CHoYXykGh6&index=2"
   ]
  },
  {
   "cell_type": "code",
   "execution_count": null,
   "metadata": {},
   "outputs": [],
   "source": [
    "import logging\n",
    "\n",
    "# Logging levels allow us to specific exactly what we want to log by separating into categories:\n",
    "\n",
    "# DEBUG: Detailed information, typically of interest only when diagnosing problems.\n",
    "\n",
    "# INFO: Confirmation that things are working as expected.\n",
    "\n",
    "# WARNING: An indication that something unexpected happened, or indicative of some problem in the\n",
    "# near future (e.g. ‘disk space low’). The software is still working as expected.\n",
    "# By default it logs WARNING, ERROR and CRITICAL\n",
    "\n",
    "# ERROR: Due to a more serious problem, the software has not been able to perform some function.\n",
    "\n",
    "# CRITICAL: A serious error, indicating that the program itself may be unable to continue running.\n",
    "\n",
    "# Change loggin level to log DEBUG and INFO also\n",
    "logging.basicConfig(filename='test.log', level=logging.DEBUG,\n",
    "                    format='%(asctime)s:%(levelname)s:%(message)s')\n",
    "# save the file as test.log and log everything gtom DEBUG and up\n",
    "# It appends to the file on different runs\n",
    "\n",
    "\n",
    "# logging.DEBUG will \n",
    "# loglevel:logger:message\n",
    "# DEBUG:root:Add: 10+5=15\n",
    "# for format options see 'LogRecord attributes'\n",
    "\n",
    "\n",
    "def add(x, y):\n",
    "    \"\"\"Add Function\"\"\"\n",
    "    return x + y\n",
    "\n",
    "\n",
    "def subtract(x, y):\n",
    "    \"\"\"Subtract Function\"\"\"\n",
    "    return x - y\n",
    "\n",
    "\n",
    "def multiply(x, y):\n",
    "    \"\"\"Multiply Function\"\"\"\n",
    "    return x * y\n",
    "\n",
    "\n",
    "def divide(x, y):\n",
    "    \"\"\"Divide Function\"\"\"\n",
    "    return x / y\n",
    "\n",
    "\n",
    "num_1 = 20\n",
    "num_2 = 10\n",
    "\n",
    "add_result = add(num_1, num_2)\n",
    "logging.debug('Add: {} + {} = {}'.format(num_1, num_2, add_result)) #it is going to log to console only warning or higher\n",
    "#logging.warning('Add: {} + {} = {}'.format(num_1, num_2, add_result))\n",
    "\n",
    "sub_result = subtract(num_1, num_2)\n",
    "logging.debug('Sub: {} - {} = {}'.format(num_1, num_2, sub_result))\n",
    "#logging.warning('Sub: {} - {} = {}'.format(num_1, num_2, sub_result))\n",
    "\n",
    "mul_result = multiply(num_1, num_2)\n",
    "logging.debug('Mul: {} * {} = {}'.format(num_1, num_2, mul_result))\n",
    "#logging.warning('Mul: {} * {} = {}'.format(num_1, num_2, mul_result))\n",
    "\n",
    "div_result = divide(num_1, num_2)\n",
    "logging.debug('Div: {} / {} = {}'.format(num_1, num_2, div_result))\n",
    "#logging.warning('Div: {} / {} = {}'.format(num_1, num_2, div_result))"
   ]
  },
  {
   "cell_type": "code",
   "execution_count": null,
   "metadata": {},
   "outputs": [],
   "source": []
  },
  {
   "cell_type": "code",
   "execution_count": null,
   "metadata": {},
   "outputs": [],
   "source": []
  },
  {
   "cell_type": "code",
   "execution_count": null,
   "metadata": {},
   "outputs": [],
   "source": []
  },
  {
   "cell_type": "code",
   "execution_count": null,
   "metadata": {},
   "outputs": [],
   "source": [
    "import logging\n",
    "\n",
    "logging.basicConfig(filename='employee.log', level=logging.INFO,\n",
    "                    format='%(levelname)s:%(message)s')\n",
    "\n",
    "\n",
    "class Employee:\n",
    "    \"\"\"A sample Employee class\"\"\"\n",
    "\n",
    "    def __init__(self, first, last):\n",
    "        self.first = first\n",
    "        self.last = last\n",
    "\n",
    "        logging.info('Created Employee: {} - {}'.format(self.fullname, self.email))\n",
    "\n",
    "    @property\n",
    "    def email(self):\n",
    "        return '{}.{}@email.com'.format(self.first, self.last)\n",
    "\n",
    "    @property\n",
    "    def fullname(self):\n",
    "        return '{} {}'.format(self.first, self.last)\n",
    "\n",
    "\n",
    "emp_1 = Employee('John', 'Smith')\n",
    "emp_2 = Employee('Corey', 'Schafer')\n",
    "emp_3 = Employee('Jane', 'Doe')"
   ]
  },
  {
   "cell_type": "code",
   "execution_count": null,
   "metadata": {},
   "outputs": [],
   "source": []
  },
  {
   "cell_type": "code",
   "execution_count": null,
   "metadata": {},
   "outputs": [],
   "source": [
    "\n",
    "logging.basicConfig(level=logging.INFO)\n",
    "\n",
    "class LoggedAgeAccess:\n",
    "\n",
    "    def __get__(self, obj, objtype=None):\n",
    "        value = obj._age\n",
    "        logging.info('Accessing %r giving %r', 'age', value)\n",
    "        return value\n",
    "\n",
    "    def __set__(self, obj, value):\n",
    "        logging.info('Updating %r to %r', 'age', value)\n",
    "        obj._age = value\n",
    "\n",
    "class Person:\n",
    "\n",
    "    age = LoggedAgeAccess()             # Descriptor instance\n",
    "\n",
    "    def __init__(self, name, age):\n",
    "        self.name = name                # Regular instance attribute\n",
    "        self.age = age                  # Calls __set__()\n",
    "\n",
    "    def birthday(self):\n",
    "        self.age += 1                   # Calls both __get__() and __set__()"
   ]
  },
  {
   "cell_type": "code",
   "execution_count": null,
   "metadata": {},
   "outputs": [],
   "source": []
  },
  {
   "cell_type": "code",
   "execution_count": null,
   "metadata": {},
   "outputs": [],
   "source": []
  },
  {
   "cell_type": "code",
   "execution_count": null,
   "metadata": {},
   "outputs": [],
   "source": []
  },
  {
   "cell_type": "code",
   "execution_count": null,
   "metadata": {},
   "outputs": [],
   "source": []
  },
  {
   "cell_type": "code",
   "execution_count": null,
   "metadata": {},
   "outputs": [],
   "source": []
  },
  {
   "cell_type": "code",
   "execution_count": null,
   "metadata": {},
   "outputs": [],
   "source": []
  },
  {
   "cell_type": "code",
   "execution_count": null,
   "metadata": {},
   "outputs": [],
   "source": []
  },
  {
   "cell_type": "code",
   "execution_count": null,
   "metadata": {},
   "outputs": [],
   "source": []
  }
 ],
 "metadata": {
  "kernelspec": {
   "display_name": "Python 3.7.2",
   "language": "python",
   "name": "python3"
  },
  "language_info": {
   "codemirror_mode": {
    "name": "ipython",
    "version": 3
   },
   "file_extension": ".py",
   "mimetype": "text/x-python",
   "name": "python",
   "nbconvert_exporter": "python",
   "pygments_lexer": "ipython3",
   "version": "3.7.6"
  }
 },
 "nbformat": 4,
 "nbformat_minor": 4
}
