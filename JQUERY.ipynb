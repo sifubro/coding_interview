{
 "cells": [
  {
   "cell_type": "markdown",
   "metadata": {},
   "source": [
    "https://www.quora.com/Do-I-learn-Python-and-Django-or-Node-js-and-AngularJS-Why-and-how-would-you-start-to-learn-them"
   ]
  },
  {
   "cell_type": "markdown",
   "metadata": {},
   "source": [
    " https://blog.newrelic.com/engineering/best-javascript-libraries-frameworks/\n",
    "\n",
    "\n",
    "https://www.educba.com/bootstrap-vs-jquery/\n",
    "\n"
   ]
  },
  {
   "cell_type": "code",
   "execution_count": null,
   "metadata": {},
   "outputs": [],
   "source": []
  },
  {
   "cell_type": "markdown",
   "metadata": {},
   "source": [
    "## Jose Portila"
   ]
  },
  {
   "cell_type": "raw",
   "metadata": {},
   "source": [
    "Libraries for javascript:\n",
    "Angular, React, Node.js\n",
    "\n",
    "https://blog.newrelic.com/engineering/best-javascript-libraries-frameworks/\n",
    "\n",
    "Angular, React --> frameworks\n",
    "React --> library\n",
    "\n",
    "[079]  JQuery is a javascript library that has many pre-built methods and objects. ####### Make HTTP requests through AJAX #######\n",
    "    - To get JQuery either link CDN hosted file (like for Bootstrap) or download .js file and link it with <script> tag.\n",
    "    - document.querySelectorAll ---> replaes with $\n",
    "    - see 03:00 for other changes\n",
    "    \n",
    "\n",
    "\n",
    "IMPORTNANT [080]\n",
    "[080] Selecting and changing elements with JQuery\n",
    "    - code.jquery.com\n",
    "    - Selecting with jQuery\n",
    "    \n",
    "    \n",
    "WOW\n",
    "WOW\n",
    "WOW\n",
    "[ IMPORTANT ] !!!!!!!!!  \n",
    "[081] Events!!!\n",
    "    - api.jquery.com/category/events/\n",
    "    - clicks, keypress etc.\n",
    "    -  this keywordb  !!!!!!!!!!!!\n",
    "    - events that execute when a particular key is pressed \"which\"\n",
    "    - event.which   (enter is 13 numeric code)\n",
    "    event.which === 13 activates only on enter\n",
    "    - on() method  (like addEventListener)\n",
    "    on('dblclick', function(){} \n",
    "    - Animations \n",
    "        - api.jquery.com/category/effects/ !!!!!!!\n",
    "        - (fadeOut())   !!!!!\n",
    "     \n",
    "    \n"
   ]
  },
  {
   "cell_type": "code",
   "execution_count": null,
   "metadata": {},
   "outputs": [],
   "source": []
  },
  {
   "cell_type": "code",
   "execution_count": null,
   "metadata": {},
   "outputs": [],
   "source": []
  },
  {
   "cell_type": "code",
   "execution_count": null,
   "metadata": {},
   "outputs": [],
   "source": []
  }
 ],
 "metadata": {
  "kernelspec": {
   "display_name": "Python 3.7.2",
   "language": "python",
   "name": "python3"
  },
  "language_info": {
   "codemirror_mode": {
    "name": "ipython",
    "version": 3
   },
   "file_extension": ".py",
   "mimetype": "text/x-python",
   "name": "python",
   "nbconvert_exporter": "python",
   "pygments_lexer": "ipython3",
   "version": "3.7.6"
  }
 },
 "nbformat": 4,
 "nbformat_minor": 4
}
