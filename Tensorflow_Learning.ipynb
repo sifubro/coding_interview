{
 "cells": [
  {
   "cell_type": "code",
   "execution_count": 1,
   "metadata": {},
   "outputs": [],
   "source": [
    "import os\n",
    "\n",
    "import tensorflow as tf\n",
    "\n",
    "import cProfile"
   ]
  },
  {
   "cell_type": "markdown",
   "metadata": {},
   "source": [
    "# 1) https://www.tensorflow.org/guide/eager"
   ]
  },
  {
   "cell_type": "code",
   "execution_count": 2,
   "metadata": {},
   "outputs": [],
   "source": [
    "# Fetch and format the mnist data\n",
    "(mnist_images, mnist_labels), _ = tf.keras.datasets.mnist.load_data()"
   ]
  },
  {
   "cell_type": "code",
   "execution_count": 3,
   "metadata": {},
   "outputs": [],
   "source": [
    "dataset = tf.data.Dataset.from_tensor_slices(\n",
    "  (tf.cast(mnist_images[...,tf.newaxis]/255, tf.float32),\n",
    "   tf.cast(mnist_labels,tf.int64)))\n",
    "dataset = dataset.shuffle(1000).batch(32)"
   ]
  },
  {
   "cell_type": "code",
   "execution_count": 4,
   "metadata": {},
   "outputs": [],
   "source": [
    "# Build the model\n",
    "mnist_model = tf.keras.Sequential([\n",
    "  tf.keras.layers.Conv2D(16,[3,3], activation='relu',\n",
    "                         input_shape=(None, None, 1)),\n",
    "  tf.keras.layers.Conv2D(16,[3,3], activation='relu'),\n",
    "  tf.keras.layers.GlobalAveragePooling2D(),\n",
    "  tf.keras.layers.Dense(10)\n",
    "])"
   ]
  },
  {
   "cell_type": "code",
   "execution_count": 5,
   "metadata": {},
   "outputs": [
    {
     "name": "stdout",
     "output_type": "stream",
     "text": [
      "Logits:  [[ 0.01383554 -0.04311896  0.00468579  0.02663172 -0.05253503 -0.01703398\n",
      "   0.0023439  -0.01505692  0.01761053 -0.02049292]]\n"
     ]
    }
   ],
   "source": [
    "for images,labels in dataset.take(1):\n",
    "      print(\"Logits: \", mnist_model(images[0:1]).numpy())"
   ]
  },
  {
   "cell_type": "code",
   "execution_count": 6,
   "metadata": {},
   "outputs": [
    {
     "data": {
      "text/plain": [
       "<TakeDataset shapes: ((None, 28, 28, 1), (None,)), types: (tf.float32, tf.int64)>"
      ]
     },
     "execution_count": 6,
     "metadata": {},
     "output_type": "execute_result"
    }
   ],
   "source": [
    "dataset.take(1)"
   ]
  },
  {
   "cell_type": "code",
   "execution_count": 7,
   "metadata": {},
   "outputs": [
    {
     "data": {
      "text/plain": [
       "<TakeDataset shapes: ((None, 28, 28, 1), (None,)), types: (tf.float32, tf.int64)>"
      ]
     },
     "execution_count": 7,
     "metadata": {},
     "output_type": "execute_result"
    }
   ],
   "source": [
    "dataset.take(2)"
   ]
  },
  {
   "cell_type": "code",
   "execution_count": 8,
   "metadata": {},
   "outputs": [
    {
     "name": "stdout",
     "output_type": "stream",
     "text": [
      "Logits:  [[ 0.01131738 -0.0349133   0.00436365  0.02141805 -0.04255836 -0.01222132\n",
      "   0.00522296 -0.01136101  0.0135953  -0.01777178]]\n",
      "Logits:  [[ 0.00868497 -0.02633667  0.00378692  0.01505686 -0.03012795 -0.00988068\n",
      "   0.00062857 -0.00875417  0.01069043 -0.0108057 ]]\n"
     ]
    }
   ],
   "source": [
    "for images,labels in dataset.take(2):\n",
    "      print(\"Logits: \", mnist_model(images[0:1]).numpy())"
   ]
  },
  {
   "cell_type": "code",
   "execution_count": 9,
   "metadata": {},
   "outputs": [
    {
     "name": "stdout",
     "output_type": "stream",
     "text": [
      "Logits:  [[ 0.01672072 -0.0496078   0.005604    0.02883614 -0.06121216 -0.01935804\n",
      "   0.00452593 -0.01870145  0.01982135 -0.02325529]]\n",
      "Logits:  [[ 0.01234549 -0.03548413  0.00298782  0.02152538 -0.04342612 -0.01452789\n",
      "   0.00280155 -0.01149965  0.01273404 -0.01511956]]\n",
      "Logits:  [[ 0.01762662 -0.04036514  0.00041118  0.0266051  -0.05514634 -0.01811177\n",
      "   0.00573437 -0.01516054  0.01509123 -0.01738932]]\n"
     ]
    }
   ],
   "source": [
    "for images,labels in dataset.take(3):\n",
    "      print(\"Logits: \", mnist_model(images[0:1]).numpy())"
   ]
  },
  {
   "cell_type": "code",
   "execution_count": 27,
   "metadata": {},
   "outputs": [],
   "source": [
    "optimizer = tf.keras.optimizers.Adam()\n",
    "loss_object = tf.keras.losses.SparseCategoricalCrossentropy(from_logits=True)\n",
    "\n",
    "loss_history = []"
   ]
  },
  {
   "cell_type": "code",
   "execution_count": 28,
   "metadata": {},
   "outputs": [],
   "source": [
    "def train_step(images, labels):\n",
    "    with tf.GradientTape() as tape:\n",
    "        logits = mnist_model(images, training=True)\n",
    "\n",
    "        # Add asserts to check the shape of the output.\n",
    "        tf.debugging.assert_equal(logits.shape, (32, 10))\n",
    "\n",
    "        loss_value = loss_object(labels, logits)\n",
    "    \n",
    "    print('loss_value=',loss_value.numpy())\n",
    "\n",
    "    loss_history.append(loss_value.numpy())  #.mean() #It is already reduced mean by the loss function\n",
    "    print('loss_history=',loss_history)\n",
    "    grads = tape.gradient(loss_value, mnist_model.trainable_variables)\n",
    "    optimizer.apply_gradients(zip(grads, mnist_model.trainable_variables))"
   ]
  },
  {
   "cell_type": "code",
   "execution_count": 29,
   "metadata": {},
   "outputs": [],
   "source": [
    "def train(epochs):\n",
    "    for epoch in range(epochs):\n",
    "        for (batch, (images, labels)) in enumerate(dataset):\n",
    "            print('batch', batch)\n",
    "            print('images shape:', images.shape)\n",
    "            print('labels shape:', labels.shape)\n",
    "            train_step(images, labels)\n",
    "        print ('Epoch {} finished'.format(epoch))"
   ]
  },
  {
   "cell_type": "code",
   "execution_count": 30,
   "metadata": {
    "scrolled": true
   },
   "outputs": [
    {
     "name": "stdout",
     "output_type": "stream",
     "text": [
      "batch 0\n",
      "images shape: (32, 28, 28, 1)\n",
      "labels shape: (32,)\n",
      "loss_value= 2.2914927\n",
      "loss_history= [2.2914927]\n",
      "batch 1\n",
      "images shape: (32, 28, 28, 1)\n",
      "labels shape: (32,)\n",
      "loss_value= 2.2886176\n",
      "loss_history= [2.2914927, 2.2886176]\n",
      "batch 2\n",
      "images shape: (32, 28, 28, 1)\n",
      "labels shape: (32,)\n",
      "loss_value= 2.2649162\n",
      "loss_history= [2.2914927, 2.2886176, 2.2649162]\n",
      "batch 3\n",
      "images shape: (32, 28, 28, 1)\n",
      "labels shape: (32,)\n",
      "loss_value= 2.2948909\n",
      "loss_history= [2.2914927, 2.2886176, 2.2649162, 2.2948909]\n",
      "batch 4\n",
      "images shape: (32, 28, 28, 1)\n",
      "labels shape: (32,)\n",
      "loss_value= 2.2760973\n",
      "loss_history= [2.2914927, 2.2886176, 2.2649162, 2.2948909, 2.2760973]\n",
      "batch 5\n",
      "images shape: (32, 28, 28, 1)\n",
      "labels shape: (32,)\n",
      "loss_value= 2.2876854\n",
      "loss_history= [2.2914927, 2.2886176, 2.2649162, 2.2948909, 2.2760973, 2.2876854]\n",
      "batch 6\n",
      "images shape: (32, 28, 28, 1)\n",
      "labels shape: (32,)\n",
      "loss_value= 2.2797115\n",
      "loss_history= [2.2914927, 2.2886176, 2.2649162, 2.2948909, 2.2760973, 2.2876854, 2.2797115]\n",
      "batch 7\n",
      "images shape: (32, 28, 28, 1)\n",
      "labels shape: (32,)\n",
      "loss_value= 2.301657\n",
      "loss_history= [2.2914927, 2.2886176, 2.2649162, 2.2948909, 2.2760973, 2.2876854, 2.2797115, 2.301657]\n",
      "batch 8\n",
      "images shape: (32, 28, 28, 1)\n",
      "labels shape: (32,)\n",
      "loss_value= 2.2899017\n",
      "loss_history= [2.2914927, 2.2886176, 2.2649162, 2.2948909, 2.2760973, 2.2876854, 2.2797115, 2.301657, 2.2899017]\n",
      "batch 9\n",
      "images shape: (32, 28, 28, 1)\n",
      "labels shape: (32,)\n",
      "loss_value= 2.2715375\n",
      "loss_history= [2.2914927, 2.2886176, 2.2649162, 2.2948909, 2.2760973, 2.2876854, 2.2797115, 2.301657, 2.2899017, 2.2715375]\n",
      "batch 10\n",
      "images shape: (32, 28, 28, 1)\n",
      "labels shape: (32,)\n",
      "loss_value= 2.2887452\n",
      "loss_history= [2.2914927, 2.2886176, 2.2649162, 2.2948909, 2.2760973, 2.2876854, 2.2797115, 2.301657, 2.2899017, 2.2715375, 2.2887452]\n",
      "batch 11\n",
      "images shape: (32, 28, 28, 1)\n",
      "labels shape: (32,)\n",
      "loss_value= 2.298511\n",
      "loss_history= [2.2914927, 2.2886176, 2.2649162, 2.2948909, 2.2760973, 2.2876854, 2.2797115, 2.301657, 2.2899017, 2.2715375, 2.2887452, 2.298511]\n",
      "batch 12\n",
      "images shape: (32, 28, 28, 1)\n",
      "labels shape: (32,)\n"
     ]
    },
    {
     "ename": "KeyboardInterrupt",
     "evalue": "",
     "output_type": "error",
     "traceback": [
      "\u001b[1;31m---------------------------------------------------------------------------\u001b[0m",
      "\u001b[1;31mKeyboardInterrupt\u001b[0m                         Traceback (most recent call last)",
      "\u001b[1;32m<ipython-input-30-a9aa55300ad3>\u001b[0m in \u001b[0;36m<module>\u001b[1;34m\u001b[0m\n\u001b[1;32m----> 1\u001b[1;33m \u001b[0mtrain\u001b[0m\u001b[1;33m(\u001b[0m\u001b[0mepochs\u001b[0m \u001b[1;33m=\u001b[0m \u001b[1;36m1\u001b[0m\u001b[1;33m)\u001b[0m\u001b[1;33m\u001b[0m\u001b[1;33m\u001b[0m\u001b[0m\n\u001b[0m",
      "\u001b[1;32m<ipython-input-29-d1d150d704fb>\u001b[0m in \u001b[0;36mtrain\u001b[1;34m(epochs)\u001b[0m\n\u001b[0;32m      5\u001b[0m             \u001b[0mprint\u001b[0m\u001b[1;33m(\u001b[0m\u001b[1;34m'images shape:'\u001b[0m\u001b[1;33m,\u001b[0m \u001b[0mimages\u001b[0m\u001b[1;33m.\u001b[0m\u001b[0mshape\u001b[0m\u001b[1;33m)\u001b[0m\u001b[1;33m\u001b[0m\u001b[1;33m\u001b[0m\u001b[0m\n\u001b[0;32m      6\u001b[0m             \u001b[0mprint\u001b[0m\u001b[1;33m(\u001b[0m\u001b[1;34m'labels shape:'\u001b[0m\u001b[1;33m,\u001b[0m \u001b[0mlabels\u001b[0m\u001b[1;33m.\u001b[0m\u001b[0mshape\u001b[0m\u001b[1;33m)\u001b[0m\u001b[1;33m\u001b[0m\u001b[1;33m\u001b[0m\u001b[0m\n\u001b[1;32m----> 7\u001b[1;33m             \u001b[0mtrain_step\u001b[0m\u001b[1;33m(\u001b[0m\u001b[0mimages\u001b[0m\u001b[1;33m,\u001b[0m \u001b[0mlabels\u001b[0m\u001b[1;33m)\u001b[0m\u001b[1;33m\u001b[0m\u001b[1;33m\u001b[0m\u001b[0m\n\u001b[0m\u001b[0;32m      8\u001b[0m         \u001b[0mprint\u001b[0m \u001b[1;33m(\u001b[0m\u001b[1;34m'Epoch {} finished'\u001b[0m\u001b[1;33m.\u001b[0m\u001b[0mformat\u001b[0m\u001b[1;33m(\u001b[0m\u001b[0mepoch\u001b[0m\u001b[1;33m)\u001b[0m\u001b[1;33m)\u001b[0m\u001b[1;33m\u001b[0m\u001b[1;33m\u001b[0m\u001b[0m\n",
      "\u001b[1;32m<ipython-input-28-1c9e3c8e0c59>\u001b[0m in \u001b[0;36mtrain_step\u001b[1;34m(images, labels)\u001b[0m\n\u001b[0;32m      1\u001b[0m \u001b[1;32mdef\u001b[0m \u001b[0mtrain_step\u001b[0m\u001b[1;33m(\u001b[0m\u001b[0mimages\u001b[0m\u001b[1;33m,\u001b[0m \u001b[0mlabels\u001b[0m\u001b[1;33m)\u001b[0m\u001b[1;33m:\u001b[0m\u001b[1;33m\u001b[0m\u001b[1;33m\u001b[0m\u001b[0m\n\u001b[0;32m      2\u001b[0m     \u001b[1;32mwith\u001b[0m \u001b[0mtf\u001b[0m\u001b[1;33m.\u001b[0m\u001b[0mGradientTape\u001b[0m\u001b[1;33m(\u001b[0m\u001b[1;33m)\u001b[0m \u001b[1;32mas\u001b[0m \u001b[0mtape\u001b[0m\u001b[1;33m:\u001b[0m\u001b[1;33m\u001b[0m\u001b[1;33m\u001b[0m\u001b[0m\n\u001b[1;32m----> 3\u001b[1;33m         \u001b[0mlogits\u001b[0m \u001b[1;33m=\u001b[0m \u001b[0mmnist_model\u001b[0m\u001b[1;33m(\u001b[0m\u001b[0mimages\u001b[0m\u001b[1;33m,\u001b[0m \u001b[0mtraining\u001b[0m\u001b[1;33m=\u001b[0m\u001b[1;32mTrue\u001b[0m\u001b[1;33m)\u001b[0m\u001b[1;33m\u001b[0m\u001b[1;33m\u001b[0m\u001b[0m\n\u001b[0m\u001b[0;32m      4\u001b[0m \u001b[1;33m\u001b[0m\u001b[0m\n\u001b[0;32m      5\u001b[0m         \u001b[1;31m# Add asserts to check the shape of the output.\u001b[0m\u001b[1;33m\u001b[0m\u001b[1;33m\u001b[0m\u001b[1;33m\u001b[0m\u001b[0m\n",
      "\u001b[1;32m~\\anaconda3\\lib\\site-packages\\tensorflow\\python\\keras\\engine\\base_layer.py\u001b[0m in \u001b[0;36m__call__\u001b[1;34m(self, *args, **kwargs)\u001b[0m\n\u001b[0;32m   1010\u001b[0m         with autocast_variable.enable_auto_cast_variables(\n\u001b[0;32m   1011\u001b[0m             self._compute_dtype_object):\n\u001b[1;32m-> 1012\u001b[1;33m           \u001b[0moutputs\u001b[0m \u001b[1;33m=\u001b[0m \u001b[0mcall_fn\u001b[0m\u001b[1;33m(\u001b[0m\u001b[0minputs\u001b[0m\u001b[1;33m,\u001b[0m \u001b[1;33m*\u001b[0m\u001b[0margs\u001b[0m\u001b[1;33m,\u001b[0m \u001b[1;33m**\u001b[0m\u001b[0mkwargs\u001b[0m\u001b[1;33m)\u001b[0m\u001b[1;33m\u001b[0m\u001b[1;33m\u001b[0m\u001b[0m\n\u001b[0m\u001b[0;32m   1013\u001b[0m \u001b[1;33m\u001b[0m\u001b[0m\n\u001b[0;32m   1014\u001b[0m         \u001b[1;32mif\u001b[0m \u001b[0mself\u001b[0m\u001b[1;33m.\u001b[0m\u001b[0m_activity_regularizer\u001b[0m\u001b[1;33m:\u001b[0m\u001b[1;33m\u001b[0m\u001b[1;33m\u001b[0m\u001b[0m\n",
      "\u001b[1;32m~\\anaconda3\\lib\\site-packages\\tensorflow\\python\\keras\\engine\\sequential.py\u001b[0m in \u001b[0;36mcall\u001b[1;34m(self, inputs, training, mask)\u001b[0m\n\u001b[0;32m    373\u001b[0m       \u001b[1;32mif\u001b[0m \u001b[1;32mnot\u001b[0m \u001b[0mself\u001b[0m\u001b[1;33m.\u001b[0m\u001b[0mbuilt\u001b[0m\u001b[1;33m:\u001b[0m\u001b[1;33m\u001b[0m\u001b[1;33m\u001b[0m\u001b[0m\n\u001b[0;32m    374\u001b[0m         \u001b[0mself\u001b[0m\u001b[1;33m.\u001b[0m\u001b[0m_init_graph_network\u001b[0m\u001b[1;33m(\u001b[0m\u001b[0mself\u001b[0m\u001b[1;33m.\u001b[0m\u001b[0minputs\u001b[0m\u001b[1;33m,\u001b[0m \u001b[0mself\u001b[0m\u001b[1;33m.\u001b[0m\u001b[0moutputs\u001b[0m\u001b[1;33m)\u001b[0m\u001b[1;33m\u001b[0m\u001b[1;33m\u001b[0m\u001b[0m\n\u001b[1;32m--> 375\u001b[1;33m       \u001b[1;32mreturn\u001b[0m \u001b[0msuper\u001b[0m\u001b[1;33m(\u001b[0m\u001b[0mSequential\u001b[0m\u001b[1;33m,\u001b[0m \u001b[0mself\u001b[0m\u001b[1;33m)\u001b[0m\u001b[1;33m.\u001b[0m\u001b[0mcall\u001b[0m\u001b[1;33m(\u001b[0m\u001b[0minputs\u001b[0m\u001b[1;33m,\u001b[0m \u001b[0mtraining\u001b[0m\u001b[1;33m=\u001b[0m\u001b[0mtraining\u001b[0m\u001b[1;33m,\u001b[0m \u001b[0mmask\u001b[0m\u001b[1;33m=\u001b[0m\u001b[0mmask\u001b[0m\u001b[1;33m)\u001b[0m\u001b[1;33m\u001b[0m\u001b[1;33m\u001b[0m\u001b[0m\n\u001b[0m\u001b[0;32m    376\u001b[0m \u001b[1;33m\u001b[0m\u001b[0m\n\u001b[0;32m    377\u001b[0m     \u001b[0moutputs\u001b[0m \u001b[1;33m=\u001b[0m \u001b[0minputs\u001b[0m  \u001b[1;31m# handle the corner case where self.layers is empty\u001b[0m\u001b[1;33m\u001b[0m\u001b[1;33m\u001b[0m\u001b[0m\n",
      "\u001b[1;32m~\\anaconda3\\lib\\site-packages\\tensorflow\\python\\keras\\engine\\functional.py\u001b[0m in \u001b[0;36mcall\u001b[1;34m(self, inputs, training, mask)\u001b[0m\n\u001b[0;32m    422\u001b[0m         \u001b[0ma\u001b[0m \u001b[0mlist\u001b[0m \u001b[0mof\u001b[0m \u001b[0mtensors\u001b[0m \u001b[1;32mif\u001b[0m \u001b[0mthere\u001b[0m \u001b[0mare\u001b[0m \u001b[0mmore\u001b[0m \u001b[0mthan\u001b[0m \u001b[0mone\u001b[0m \u001b[0moutputs\u001b[0m\u001b[1;33m.\u001b[0m\u001b[1;33m\u001b[0m\u001b[1;33m\u001b[0m\u001b[0m\n\u001b[0;32m    423\u001b[0m     \"\"\"\n\u001b[1;32m--> 424\u001b[1;33m     return self._run_internal_graph(\n\u001b[0m\u001b[0;32m    425\u001b[0m         inputs, training=training, mask=mask)\n\u001b[0;32m    426\u001b[0m \u001b[1;33m\u001b[0m\u001b[0m\n",
      "\u001b[1;32m~\\anaconda3\\lib\\site-packages\\tensorflow\\python\\keras\\engine\\functional.py\u001b[0m in \u001b[0;36m_run_internal_graph\u001b[1;34m(self, inputs, training, mask)\u001b[0m\n\u001b[0;32m    558\u001b[0m \u001b[1;33m\u001b[0m\u001b[0m\n\u001b[0;32m    559\u001b[0m         \u001b[0margs\u001b[0m\u001b[1;33m,\u001b[0m \u001b[0mkwargs\u001b[0m \u001b[1;33m=\u001b[0m \u001b[0mnode\u001b[0m\u001b[1;33m.\u001b[0m\u001b[0mmap_arguments\u001b[0m\u001b[1;33m(\u001b[0m\u001b[0mtensor_dict\u001b[0m\u001b[1;33m)\u001b[0m\u001b[1;33m\u001b[0m\u001b[1;33m\u001b[0m\u001b[0m\n\u001b[1;32m--> 560\u001b[1;33m         \u001b[0moutputs\u001b[0m \u001b[1;33m=\u001b[0m \u001b[0mnode\u001b[0m\u001b[1;33m.\u001b[0m\u001b[0mlayer\u001b[0m\u001b[1;33m(\u001b[0m\u001b[1;33m*\u001b[0m\u001b[0margs\u001b[0m\u001b[1;33m,\u001b[0m \u001b[1;33m**\u001b[0m\u001b[0mkwargs\u001b[0m\u001b[1;33m)\u001b[0m\u001b[1;33m\u001b[0m\u001b[1;33m\u001b[0m\u001b[0m\n\u001b[0m\u001b[0;32m    561\u001b[0m \u001b[1;33m\u001b[0m\u001b[0m\n\u001b[0;32m    562\u001b[0m         \u001b[1;31m# Update tensor_dict.\u001b[0m\u001b[1;33m\u001b[0m\u001b[1;33m\u001b[0m\u001b[1;33m\u001b[0m\u001b[0m\n",
      "\u001b[1;32m~\\anaconda3\\lib\\site-packages\\tensorflow\\python\\keras\\engine\\base_layer.py\u001b[0m in \u001b[0;36m__call__\u001b[1;34m(self, *args, **kwargs)\u001b[0m\n\u001b[0;32m   1010\u001b[0m         with autocast_variable.enable_auto_cast_variables(\n\u001b[0;32m   1011\u001b[0m             self._compute_dtype_object):\n\u001b[1;32m-> 1012\u001b[1;33m           \u001b[0moutputs\u001b[0m \u001b[1;33m=\u001b[0m \u001b[0mcall_fn\u001b[0m\u001b[1;33m(\u001b[0m\u001b[0minputs\u001b[0m\u001b[1;33m,\u001b[0m \u001b[1;33m*\u001b[0m\u001b[0margs\u001b[0m\u001b[1;33m,\u001b[0m \u001b[1;33m**\u001b[0m\u001b[0mkwargs\u001b[0m\u001b[1;33m)\u001b[0m\u001b[1;33m\u001b[0m\u001b[1;33m\u001b[0m\u001b[0m\n\u001b[0m\u001b[0;32m   1013\u001b[0m \u001b[1;33m\u001b[0m\u001b[0m\n\u001b[0;32m   1014\u001b[0m         \u001b[1;32mif\u001b[0m \u001b[0mself\u001b[0m\u001b[1;33m.\u001b[0m\u001b[0m_activity_regularizer\u001b[0m\u001b[1;33m:\u001b[0m\u001b[1;33m\u001b[0m\u001b[1;33m\u001b[0m\u001b[0m\n",
      "\u001b[1;32m~\\anaconda3\\lib\\site-packages\\tensorflow\\python\\keras\\layers\\convolutional.py\u001b[0m in \u001b[0;36mcall\u001b[1;34m(self, inputs)\u001b[0m\n\u001b[0;32m    246\u001b[0m       \u001b[0minputs\u001b[0m \u001b[1;33m=\u001b[0m \u001b[0marray_ops\u001b[0m\u001b[1;33m.\u001b[0m\u001b[0mpad\u001b[0m\u001b[1;33m(\u001b[0m\u001b[0minputs\u001b[0m\u001b[1;33m,\u001b[0m \u001b[0mself\u001b[0m\u001b[1;33m.\u001b[0m\u001b[0m_compute_causal_padding\u001b[0m\u001b[1;33m(\u001b[0m\u001b[0minputs\u001b[0m\u001b[1;33m)\u001b[0m\u001b[1;33m)\u001b[0m\u001b[1;33m\u001b[0m\u001b[1;33m\u001b[0m\u001b[0m\n\u001b[0;32m    247\u001b[0m \u001b[1;33m\u001b[0m\u001b[0m\n\u001b[1;32m--> 248\u001b[1;33m     \u001b[0moutputs\u001b[0m \u001b[1;33m=\u001b[0m \u001b[0mself\u001b[0m\u001b[1;33m.\u001b[0m\u001b[0m_convolution_op\u001b[0m\u001b[1;33m(\u001b[0m\u001b[0minputs\u001b[0m\u001b[1;33m,\u001b[0m \u001b[0mself\u001b[0m\u001b[1;33m.\u001b[0m\u001b[0mkernel\u001b[0m\u001b[1;33m)\u001b[0m\u001b[1;33m\u001b[0m\u001b[1;33m\u001b[0m\u001b[0m\n\u001b[0m\u001b[0;32m    249\u001b[0m \u001b[1;33m\u001b[0m\u001b[0m\n\u001b[0;32m    250\u001b[0m     \u001b[1;32mif\u001b[0m \u001b[0mself\u001b[0m\u001b[1;33m.\u001b[0m\u001b[0muse_bias\u001b[0m\u001b[1;33m:\u001b[0m\u001b[1;33m\u001b[0m\u001b[1;33m\u001b[0m\u001b[0m\n",
      "\u001b[1;32m~\\anaconda3\\lib\\site-packages\\tensorflow\\python\\util\\dispatch.py\u001b[0m in \u001b[0;36mwrapper\u001b[1;34m(*args, **kwargs)\u001b[0m\n\u001b[0;32m    199\u001b[0m     \u001b[1;34m\"\"\"Call target, and fall back on dispatchers if there is a TypeError.\"\"\"\u001b[0m\u001b[1;33m\u001b[0m\u001b[1;33m\u001b[0m\u001b[0m\n\u001b[0;32m    200\u001b[0m     \u001b[1;32mtry\u001b[0m\u001b[1;33m:\u001b[0m\u001b[1;33m\u001b[0m\u001b[1;33m\u001b[0m\u001b[0m\n\u001b[1;32m--> 201\u001b[1;33m       \u001b[1;32mreturn\u001b[0m \u001b[0mtarget\u001b[0m\u001b[1;33m(\u001b[0m\u001b[1;33m*\u001b[0m\u001b[0margs\u001b[0m\u001b[1;33m,\u001b[0m \u001b[1;33m**\u001b[0m\u001b[0mkwargs\u001b[0m\u001b[1;33m)\u001b[0m\u001b[1;33m\u001b[0m\u001b[1;33m\u001b[0m\u001b[0m\n\u001b[0m\u001b[0;32m    202\u001b[0m     \u001b[1;32mexcept\u001b[0m \u001b[1;33m(\u001b[0m\u001b[0mTypeError\u001b[0m\u001b[1;33m,\u001b[0m \u001b[0mValueError\u001b[0m\u001b[1;33m)\u001b[0m\u001b[1;33m:\u001b[0m\u001b[1;33m\u001b[0m\u001b[1;33m\u001b[0m\u001b[0m\n\u001b[0;32m    203\u001b[0m       \u001b[1;31m# Note: convert_to_eager_tensor currently raises a ValueError, not a\u001b[0m\u001b[1;33m\u001b[0m\u001b[1;33m\u001b[0m\u001b[1;33m\u001b[0m\u001b[0m\n",
      "\u001b[1;32m~\\anaconda3\\lib\\site-packages\\tensorflow\\python\\ops\\nn_ops.py\u001b[0m in \u001b[0;36mconvolution_v2\u001b[1;34m(input, filters, strides, padding, data_format, dilations, name)\u001b[0m\n\u001b[0;32m   1011\u001b[0m     \u001b[0mdilations\u001b[0m\u001b[1;33m=\u001b[0m\u001b[1;32mNone\u001b[0m\u001b[1;33m,\u001b[0m\u001b[1;33m\u001b[0m\u001b[1;33m\u001b[0m\u001b[0m\n\u001b[0;32m   1012\u001b[0m     name=None):\n\u001b[1;32m-> 1013\u001b[1;33m   return convolution_internal(\n\u001b[0m\u001b[0;32m   1014\u001b[0m       \u001b[0minput\u001b[0m\u001b[1;33m,\u001b[0m  \u001b[1;31m# pylint: disable=redefined-builtin\u001b[0m\u001b[1;33m\u001b[0m\u001b[1;33m\u001b[0m\u001b[0m\n\u001b[0;32m   1015\u001b[0m       \u001b[0mfilters\u001b[0m\u001b[1;33m,\u001b[0m\u001b[1;33m\u001b[0m\u001b[1;33m\u001b[0m\u001b[0m\n",
      "\u001b[1;32m~\\anaconda3\\lib\\site-packages\\tensorflow\\python\\ops\\nn_ops.py\u001b[0m in \u001b[0;36mconvolution_internal\u001b[1;34m(input, filters, strides, padding, data_format, dilations, name, call_from_convolution, num_spatial_dims)\u001b[0m\n\u001b[0;32m   1141\u001b[0m         \u001b[0mop\u001b[0m \u001b[1;33m=\u001b[0m \u001b[0mconv1d\u001b[0m\u001b[1;33m\u001b[0m\u001b[1;33m\u001b[0m\u001b[0m\n\u001b[0;32m   1142\u001b[0m \u001b[1;33m\u001b[0m\u001b[0m\n\u001b[1;32m-> 1143\u001b[1;33m       return op(\n\u001b[0m\u001b[0;32m   1144\u001b[0m           \u001b[0minput\u001b[0m\u001b[1;33m,\u001b[0m\u001b[1;33m\u001b[0m\u001b[1;33m\u001b[0m\u001b[0m\n\u001b[0;32m   1145\u001b[0m           \u001b[0mfilters\u001b[0m\u001b[1;33m,\u001b[0m\u001b[1;33m\u001b[0m\u001b[1;33m\u001b[0m\u001b[0m\n",
      "\u001b[1;32m~\\anaconda3\\lib\\site-packages\\tensorflow\\python\\ops\\nn_ops.py\u001b[0m in \u001b[0;36m_conv2d_expanded_batch\u001b[1;34m(input, filters, strides, padding, data_format, dilations, name)\u001b[0m\n\u001b[0;32m   2595\u001b[0m     \u001b[1;31m# We avoid calling squeeze_batch_dims to reduce extra python function\u001b[0m\u001b[1;33m\u001b[0m\u001b[1;33m\u001b[0m\u001b[1;33m\u001b[0m\u001b[0m\n\u001b[0;32m   2596\u001b[0m     \u001b[1;31m# call slowdown in eager mode.  This branch doesn't require reshapes.\u001b[0m\u001b[1;33m\u001b[0m\u001b[1;33m\u001b[0m\u001b[1;33m\u001b[0m\u001b[0m\n\u001b[1;32m-> 2597\u001b[1;33m     return gen_nn_ops.conv2d(\n\u001b[0m\u001b[0;32m   2598\u001b[0m         \u001b[0minput\u001b[0m\u001b[1;33m,\u001b[0m\u001b[1;33m\u001b[0m\u001b[1;33m\u001b[0m\u001b[0m\n\u001b[0;32m   2599\u001b[0m         \u001b[0mfilter\u001b[0m\u001b[1;33m=\u001b[0m\u001b[0mfilters\u001b[0m\u001b[1;33m,\u001b[0m\u001b[1;33m\u001b[0m\u001b[1;33m\u001b[0m\u001b[0m\n",
      "\u001b[1;32m~\\anaconda3\\lib\\site-packages\\tensorflow\\python\\ops\\gen_nn_ops.py\u001b[0m in \u001b[0;36mconv2d\u001b[1;34m(input, filter, strides, padding, use_cudnn_on_gpu, explicit_paddings, data_format, dilations, name)\u001b[0m\n\u001b[0;32m    922\u001b[0m   \u001b[1;32mif\u001b[0m \u001b[0mtld\u001b[0m\u001b[1;33m.\u001b[0m\u001b[0mis_eager\u001b[0m\u001b[1;33m:\u001b[0m\u001b[1;33m\u001b[0m\u001b[1;33m\u001b[0m\u001b[0m\n\u001b[0;32m    923\u001b[0m     \u001b[1;32mtry\u001b[0m\u001b[1;33m:\u001b[0m\u001b[1;33m\u001b[0m\u001b[1;33m\u001b[0m\u001b[0m\n\u001b[1;32m--> 924\u001b[1;33m       _result = pywrap_tfe.TFE_Py_FastPathExecute(\n\u001b[0m\u001b[0;32m    925\u001b[0m         \u001b[0m_ctx\u001b[0m\u001b[1;33m,\u001b[0m \u001b[1;34m\"Conv2D\"\u001b[0m\u001b[1;33m,\u001b[0m \u001b[0mname\u001b[0m\u001b[1;33m,\u001b[0m \u001b[0minput\u001b[0m\u001b[1;33m,\u001b[0m \u001b[0mfilter\u001b[0m\u001b[1;33m,\u001b[0m \u001b[1;34m\"strides\"\u001b[0m\u001b[1;33m,\u001b[0m \u001b[0mstrides\u001b[0m\u001b[1;33m,\u001b[0m\u001b[1;33m\u001b[0m\u001b[1;33m\u001b[0m\u001b[0m\n\u001b[0;32m    926\u001b[0m         \u001b[1;34m\"use_cudnn_on_gpu\"\u001b[0m\u001b[1;33m,\u001b[0m \u001b[0muse_cudnn_on_gpu\u001b[0m\u001b[1;33m,\u001b[0m \u001b[1;34m\"padding\"\u001b[0m\u001b[1;33m,\u001b[0m \u001b[0mpadding\u001b[0m\u001b[1;33m,\u001b[0m\u001b[1;33m\u001b[0m\u001b[1;33m\u001b[0m\u001b[0m\n",
      "\u001b[1;31mKeyboardInterrupt\u001b[0m: "
     ]
    }
   ],
   "source": [
    "train(epochs = 1)"
   ]
  },
  {
   "cell_type": "code",
   "execution_count": 24,
   "metadata": {},
   "outputs": [
    {
     "data": {
      "text/plain": [
       "[<tf.Variable 'conv2d/kernel:0' shape=(3, 3, 1, 16) dtype=float32, numpy=\n",
       " array([[[[-0.12154196,  0.19620886,  0.18602411,  0.18985493,\n",
       "            0.1657337 ,  0.04148731, -0.13020304,  0.0029327 ,\n",
       "           -0.15226436,  0.13155273, -0.01044366, -0.10070579,\n",
       "           -0.09122629,  0.08013799,  0.04476796, -0.1932644 ]],\n",
       " \n",
       "         [[-0.03316274, -0.09844884, -0.16664006,  0.06727233,\n",
       "           -0.09404676,  0.01180836,  0.02455634,  0.06113025,\n",
       "            0.11195737,  0.09963435,  0.08064803,  0.06413048,\n",
       "            0.06695274, -0.15132248, -0.16455029, -0.10465654]],\n",
       " \n",
       "         [[ 0.14412752,  0.07732762,  0.06569345,  0.19844998,\n",
       "           -0.12001146, -0.16437156, -0.09148487,  0.01086803,\n",
       "           -0.16690923,  0.196875  , -0.08159024, -0.15596008,\n",
       "            0.11447214,  0.01506476, -0.07891957,  0.08591003]]],\n",
       " \n",
       " \n",
       "        [[[-0.04826206,  0.03478168, -0.15719701,  0.07471006,\n",
       "           -0.18633577,  0.09310967, -0.02222473, -0.18526702,\n",
       "            0.03303456, -0.09730665,  0.02749388,  0.12589534,\n",
       "           -0.02095336, -0.11695903, -0.15395942,  0.01914914]],\n",
       " \n",
       "         [[-0.12285616,  0.06109636, -0.1463984 ,  0.10272896,\n",
       "            0.1464495 , -0.05154099,  0.02874261,  0.13884443,\n",
       "           -0.03510179,  0.00905362,  0.19165742, -0.02537976,\n",
       "           -0.04749007,  0.01876752, -0.01160123,  0.14668527]],\n",
       " \n",
       "         [[ 0.01359564,  0.01551333,  0.016538  , -0.11693558,\n",
       "            0.08659941, -0.04062779, -0.16034447,  0.00038785,\n",
       "           -0.04092313,  0.03748204, -0.12053114,  0.15885104,\n",
       "            0.06814767, -0.02169842,  0.1889061 ,  0.01995266]]],\n",
       " \n",
       " \n",
       "        [[[ 0.19013111, -0.10662665,  0.02729668,  0.13306664,\n",
       "           -0.12350415, -0.01547521, -0.03087891, -0.12077448,\n",
       "            0.0573841 , -0.14294127,  0.21262428, -0.01129098,\n",
       "            0.16774695,  0.08158942,  0.19127508, -0.09672139]],\n",
       " \n",
       "         [[ 0.01953756, -0.08674634, -0.1910019 , -0.15514544,\n",
       "           -0.07507928, -0.04440015, -0.05907512,  0.09943581,\n",
       "            0.06280287, -0.14267883,  0.1981147 , -0.167969  ,\n",
       "           -0.15993851, -0.03877003, -0.06035861,  0.05867438]],\n",
       " \n",
       "         [[-0.12814522,  0.19808415,  0.00716058, -0.16600926,\n",
       "           -0.08825586, -0.08252555,  0.02593439, -0.02566199,\n",
       "            0.1471494 , -0.14521962, -0.09493292, -0.14278862,\n",
       "           -0.16148272, -0.14130454,  0.09549022, -0.12485596]]]],\n",
       "       dtype=float32)>,\n",
       " <tf.Variable 'conv2d/bias:0' shape=(16,) dtype=float32, numpy=\n",
       " array([ 1.4169549e-03, -2.8481008e-06,  1.1512295e-03, -6.5485307e-04,\n",
       "         2.2335217e-04,  1.2911884e-02,  1.5033852e-02, -6.7394227e-03,\n",
       "         8.0913759e-04, -5.5618928e-04,  6.4547434e-03,  1.9148220e-03,\n",
       "        -2.9734895e-03, -1.6701104e-03, -3.6181917e-03, -6.4722528e-03],\n",
       "       dtype=float32)>,\n",
       " <tf.Variable 'conv2d_1/kernel:0' shape=(3, 3, 16, 16) dtype=float32, numpy=\n",
       " array([[[[-0.1064925 ,  0.03319144,  0.12454784, ...,  0.06360384,\n",
       "           -0.09668099,  0.01319193],\n",
       "          [ 0.04344595,  0.08692161,  0.12070763, ..., -0.00974792,\n",
       "           -0.04537932,  0.03539633],\n",
       "          [ 0.09010347,  0.0804936 ,  0.05345522, ...,  0.14609331,\n",
       "           -0.12023807,  0.10039285],\n",
       "          ...,\n",
       "          [ 0.00963142,  0.08424892, -0.01730863, ...,  0.07186324,\n",
       "           -0.0261643 , -0.00394564],\n",
       "          [ 0.07759155,  0.04380341, -0.00478665, ..., -0.03311266,\n",
       "            0.16191125,  0.11961304],\n",
       "          [ 0.05258406,  0.04195462,  0.00497532, ...,  0.15540983,\n",
       "            0.10379444,  0.05499471]],\n",
       " \n",
       "         [[-0.00841841, -0.01391177, -0.10654598, ..., -0.03291938,\n",
       "            0.01895528,  0.0147425 ],\n",
       "          [ 0.06740543,  0.0946364 , -0.11852287, ...,  0.02666955,\n",
       "            0.03864767, -0.05589079],\n",
       "          [ 0.13648517,  0.0508047 , -0.02389685, ..., -0.00366178,\n",
       "           -0.07376295, -0.01078595],\n",
       "          ...,\n",
       "          [-0.0930263 , -0.10844243,  0.06273182, ...,  0.04283932,\n",
       "           -0.06284663,  0.13549624],\n",
       "          [ 0.00680864, -0.00716507, -0.00223984, ...,  0.00914078,\n",
       "            0.0359913 ,  0.01780893],\n",
       "          [-0.03931673, -0.06546491, -0.12284274, ..., -0.0079161 ,\n",
       "            0.0579402 ,  0.06985754]],\n",
       " \n",
       "         [[-0.01749099,  0.04397404,  0.03560595, ...,  0.03508138,\n",
       "           -0.11494055,  0.10625523],\n",
       "          [-0.01814179, -0.05413258, -0.03377163, ..., -0.06306296,\n",
       "            0.09993345, -0.07073442],\n",
       "          [-0.0124914 , -0.00436505, -0.05549099, ..., -0.12900464,\n",
       "            0.05696165, -0.04535429],\n",
       "          ...,\n",
       "          [ 0.09677354, -0.06631412, -0.09003266, ...,  0.03843325,\n",
       "           -0.08813643, -0.01847181],\n",
       "          [-0.00133648, -0.00087917,  0.11046658, ..., -0.03112182,\n",
       "           -0.07218868, -0.00552219],\n",
       "          [-0.09706376,  0.02338821, -0.12857221, ...,  0.09995394,\n",
       "           -0.0889156 ,  0.08607167]]],\n",
       " \n",
       " \n",
       "        [[[ 0.09372391,  0.13082425, -0.05455533, ..., -0.05241853,\n",
       "            0.01456781,  0.12984724],\n",
       "          [ 0.03522771, -0.03183451,  0.14087182, ..., -0.06317089,\n",
       "            0.05322628,  0.09871816],\n",
       "          [ 0.03401694,  0.00479202, -0.07739901, ...,  0.10658   ,\n",
       "            0.06525212,  0.09048106],\n",
       "          ...,\n",
       "          [ 0.12145755, -0.01850019,  0.1350729 , ...,  0.15459357,\n",
       "           -0.03522305,  0.02048291],\n",
       "          [-0.05222939, -0.05370463,  0.00370032, ...,  0.09599605,\n",
       "            0.06400529, -0.09203825],\n",
       "          [ 0.00326043,  0.00916622, -0.05139458, ..., -0.08006762,\n",
       "            0.01595246,  0.08917417]],\n",
       " \n",
       "         [[ 0.1482822 ,  0.14978242, -0.115096  , ..., -0.08596157,\n",
       "            0.04198349,  0.13332966],\n",
       "          [-0.04850644,  0.09551829, -0.01236665, ..., -0.09395531,\n",
       "           -0.0867208 ,  0.06647319],\n",
       "          [ 0.10247943, -0.09260829, -0.06263912, ...,  0.01012512,\n",
       "            0.0310415 ,  0.00927557],\n",
       "          ...,\n",
       "          [-0.09451806,  0.03488416,  0.13093045, ...,  0.07354546,\n",
       "            0.06429607,  0.03525484],\n",
       "          [ 0.09366284, -0.0176557 ,  0.12873687, ..., -0.13916677,\n",
       "           -0.00104628, -0.08845446],\n",
       "          [-0.03353038,  0.13746351, -0.03070255, ...,  0.08708221,\n",
       "           -0.01812733,  0.04186636]],\n",
       " \n",
       "         [[ 0.00609205,  0.09651737, -0.0615475 , ...,  0.09116268,\n",
       "           -0.00871486,  0.09471665],\n",
       "          [ 0.05589713,  0.10468839,  0.05206051, ..., -0.0434128 ,\n",
       "            0.03027497,  0.11997362],\n",
       "          [ 0.00018623, -0.14547618,  0.06625701, ...,  0.01040739,\n",
       "           -0.01563393, -0.01340582],\n",
       "          ...,\n",
       "          [ 0.08228111,  0.12224134, -0.13831683, ...,  0.14247261,\n",
       "            0.1377865 ,  0.10601405],\n",
       "          [ 0.01218717,  0.02850215,  0.01458513, ...,  0.10554721,\n",
       "            0.00022235, -0.13312298],\n",
       "          [ 0.00449511, -0.03554364, -0.01093085, ..., -0.0360539 ,\n",
       "           -0.10457332,  0.01442375]]],\n",
       " \n",
       " \n",
       "        [[[-0.08346181,  0.16099468, -0.09124291, ..., -0.09158989,\n",
       "            0.11795029, -0.0776182 ],\n",
       "          [-0.00042449, -0.02144252,  0.08040272, ..., -0.06658242,\n",
       "            0.09183404, -0.08319275],\n",
       "          [-0.0984693 , -0.08086446,  0.05217168, ..., -0.04579409,\n",
       "           -0.09223159,  0.11774943],\n",
       "          ...,\n",
       "          [-0.0704592 , -0.03059646,  0.06229861, ...,  0.14625952,\n",
       "            0.08052044, -0.13369277],\n",
       "          [ 0.14890534, -0.07815272,  0.13777924, ..., -0.0166021 ,\n",
       "            0.14316869, -0.10030703],\n",
       "          [ 0.1219796 ,  0.0089968 ,  0.07025088, ...,  0.08162945,\n",
       "           -0.08455496, -0.13490245]],\n",
       " \n",
       "         [[ 0.12676246, -0.0441044 ,  0.05381943, ..., -0.10632606,\n",
       "            0.11300328,  0.02836644],\n",
       "          [-0.07408625,  0.12647298,  0.10702346, ..., -0.10142378,\n",
       "           -0.04928117, -0.13861677],\n",
       "          [-0.08231938,  0.03423451,  0.00258217, ...,  0.01646893,\n",
       "            0.13476501, -0.09764345],\n",
       "          ...,\n",
       "          [ 0.08775026, -0.03024455,  0.0697984 , ...,  0.03319403,\n",
       "           -0.081456  ,  0.05149208],\n",
       "          [-0.01586456,  0.01287922,  0.15424465, ...,  0.07172599,\n",
       "           -0.10377344,  0.09495908],\n",
       "          [-0.05399784, -0.11413518,  0.00660417, ..., -0.04751705,\n",
       "            0.05876606,  0.11542732]],\n",
       " \n",
       "         [[ 0.07401963,  0.01715071,  0.09302485, ..., -0.1294886 ,\n",
       "            0.08547802,  0.05013578],\n",
       "          [ 0.04721029, -0.00383337, -0.00112399, ..., -0.14534287,\n",
       "           -0.00116936, -0.05972672],\n",
       "          [-0.12479294, -0.03608655,  0.10216422, ..., -0.10418614,\n",
       "           -0.09888925, -0.14812942],\n",
       "          ...,\n",
       "          [ 0.05348145, -0.00353181, -0.1539634 , ...,  0.1084876 ,\n",
       "           -0.0969405 ,  0.00561499],\n",
       "          [ 0.00164879, -0.02599009,  0.06502437, ..., -0.04883567,\n",
       "           -0.02584897,  0.05542542],\n",
       "          [-0.0552738 , -0.02969775, -0.05965822, ...,  0.13512549,\n",
       "            0.05420232, -0.07697535]]]], dtype=float32)>,\n",
       " <tf.Variable 'conv2d_1/bias:0' shape=(16,) dtype=float32, numpy=\n",
       " array([ 0.00185936, -0.00704963,  0.00469797, -0.00706123, -0.00236005,\n",
       "         0.00032853, -0.00047629,  0.00073041, -0.00042644, -0.00876502,\n",
       "        -0.00971931, -0.00680874,  0.00710753,  0.02972651,  0.00356445,\n",
       "        -0.00847986], dtype=float32)>,\n",
       " <tf.Variable 'dense/kernel:0' shape=(16, 10) dtype=float32, numpy=\n",
       " array([[ 0.3844797 , -0.3492624 , -0.0196367 , -0.08786529,  0.00072269,\n",
       "          0.43453902, -0.36142814, -0.09539475,  0.2421547 ,  0.14531524],\n",
       "        [ 0.3079161 , -0.3561038 , -0.45126823,  0.43036163, -0.3843281 ,\n",
       "         -0.44570076, -0.41608876, -0.4422426 ,  0.24530265,  0.07842515],\n",
       "        [ 0.06309003, -0.3631265 ,  0.18045095, -0.20116666, -0.3863829 ,\n",
       "         -0.01400795,  0.3944683 ,  0.35515225, -0.2342809 , -0.01809944],\n",
       "        [ 0.07520004, -0.08885223, -0.08952817,  0.33133468, -0.477945  ,\n",
       "         -0.23832236,  0.4223023 , -0.02870964,  0.0297447 , -0.15278289],\n",
       "        [-0.27781817, -0.12556362,  0.19599408,  0.29428542, -0.26805806,\n",
       "         -0.26276633,  0.06312215,  0.08163416, -0.17699978,  0.00972248],\n",
       "        [-0.14599523, -0.4854227 ,  0.38624924,  0.29051587,  0.35708374,\n",
       "         -0.1986549 ,  0.03911692, -0.08502503,  0.28496712, -0.45135063],\n",
       "        [ 0.14737408, -0.3331649 , -0.34990987, -0.00909909, -0.45293316,\n",
       "         -0.01806526, -0.25204667, -0.13051865, -0.16011487, -0.2646532 ],\n",
       "        [-0.37441638, -0.28458667, -0.3287926 ,  0.2913306 ,  0.1422439 ,\n",
       "          0.05365876, -0.2167433 , -0.04810923, -0.40861478,  0.3072929 ],\n",
       "        [-0.34192938,  0.25291306,  0.18385933, -0.18672422,  0.08171535,\n",
       "          0.3125417 , -0.29135728, -0.3853955 ,  0.34101245, -0.47113594],\n",
       "        [ 0.38922405,  0.08444232,  0.17093681, -0.42329913, -0.30598608,\n",
       "         -0.18256502,  0.32810935, -0.37923297, -0.01584475,  0.39841357],\n",
       "        [ 0.23597936,  0.02847898, -0.11280473,  0.08346932, -0.1810855 ,\n",
       "         -0.43968058, -0.39141858, -0.1279104 ,  0.2122212 ,  0.4415937 ],\n",
       "        [ 0.16399047, -0.06560934, -0.346558  ,  0.16110952,  0.438517  ,\n",
       "          0.39683297,  0.37604505, -0.47754055, -0.01051935,  0.2170282 ],\n",
       "        [ 0.15867375, -0.2738567 ,  0.02723963, -0.08614131,  0.22009769,\n",
       "          0.3201894 ,  0.31527412,  0.42979208, -0.28038442, -0.01479569],\n",
       "        [-0.07288861,  0.41338223,  0.04808887, -0.42115545, -0.05582563,\n",
       "          0.29653835, -0.21774025,  0.07583281,  0.2789057 ,  0.13090643],\n",
       "        [ 0.4614363 , -0.3206783 ,  0.1077138 ,  0.4490879 , -0.08482519,\n",
       "          0.27171242,  0.30380937,  0.2968629 ,  0.05873185, -0.29161847],\n",
       "        [-0.02629539,  0.2042517 ,  0.292364  ,  0.4440445 , -0.3618075 ,\n",
       "         -0.33413666, -0.031953  , -0.24963923,  0.37584543,  0.14515702]],\n",
       "       dtype=float32)>,\n",
       " <tf.Variable 'dense/bias:0' shape=(10,) dtype=float32, numpy=\n",
       " array([-0.01304472,  0.02186419, -0.01087044, -0.01008646,  0.00572259,\n",
       "        -0.00494927, -0.01008879,  0.01525143, -0.00581007, -0.01094587],\n",
       "       dtype=float32)>]"
      ]
     },
     "execution_count": 24,
     "metadata": {},
     "output_type": "execute_result"
    }
   ],
   "source": [
    "mnist_model.trainable_variables"
   ]
  },
  {
   "cell_type": "code",
   "execution_count": 31,
   "metadata": {},
   "outputs": [
    {
     "data": {
      "text/plain": [
       "Text(0, 0.5, 'Loss [entropy]')"
      ]
     },
     "execution_count": 31,
     "metadata": {},
     "output_type": "execute_result"
    },
    {
     "data": {
      "image/png": "[encoded data removed]",
      "text/plain": [
       "<Figure size 432x288 with 1 Axes>"
      ]
     },
     "metadata": {
      "needs_background": "light"
     },
     "output_type": "display_data"
    }
   ],
   "source": [
    "import matplotlib.pyplot as plt\n",
    "\n",
    "plt.plot(loss_history)\n",
    "plt.xlabel('Batch #')\n",
    "plt.ylabel('Loss [entropy]')"
   ]
  },
  {
   "cell_type": "code",
   "execution_count": null,
   "metadata": {},
   "outputs": [],
   "source": []
  },
  {
   "cell_type": "code",
   "execution_count": null,
   "metadata": {},
   "outputs": [],
   "source": []
  },
  {
   "cell_type": "code",
   "execution_count": null,
   "metadata": {},
   "outputs": [],
   "source": [
    "class Linear(tf.keras.Model):\n",
    "  def __init__(self):\n",
    "    super(Linear, self).__init__()\n",
    "    self.W = tf.Variable(5., name='weight')\n",
    "    self.B = tf.Variable(10., name='bias')\n",
    "  def call(self, inputs):\n",
    "    return inputs * self.W + self.B\n",
    "\n",
    "# A toy dataset of points around 3 * x + 2\n",
    "NUM_EXAMPLES = 2000\n",
    "training_inputs = tf.random.normal([NUM_EXAMPLES])\n",
    "noise = tf.random.normal([NUM_EXAMPLES])\n",
    "training_outputs = training_inputs * 3 + 2 + noise\n",
    "\n",
    "# The loss function to be optimized\n",
    "def loss(model, inputs, targets):\n",
    "  error = model(inputs) - targets\n",
    "  return tf.reduce_mean(tf.square(error))\n",
    "\n",
    "def grad(model, inputs, targets):\n",
    "  with tf.GradientTape() as tape:\n",
    "    loss_value = loss(model, inputs, targets)\n",
    "  return tape.gradient(loss_value, [model.W, model.B])"
   ]
  },
  {
   "cell_type": "code",
   "execution_count": null,
   "metadata": {},
   "outputs": [],
   "source": []
  },
  {
   "cell_type": "code",
   "execution_count": null,
   "metadata": {},
   "outputs": [],
   "source": [
    "if not os.path.exists(checkpoint_dir):\n",
    "  os.makedirs(checkpoint_dir)"
   ]
  },
  {
   "cell_type": "code",
   "execution_count": null,
   "metadata": {},
   "outputs": [],
   "source": []
  },
  {
   "cell_type": "code",
   "execution_count": null,
   "metadata": {},
   "outputs": [],
   "source": []
  },
  {
   "cell_type": "code",
   "execution_count": null,
   "metadata": {},
   "outputs": [],
   "source": []
  },
  {
   "cell_type": "code",
   "execution_count": null,
   "metadata": {},
   "outputs": [],
   "source": []
  },
  {
   "cell_type": "code",
   "execution_count": null,
   "metadata": {},
   "outputs": [],
   "source": []
  },
  {
   "cell_type": "markdown",
   "metadata": {},
   "source": [
    "# IMPORTANT!\n",
    "# https://medium.com/analytics-vidhya/tf-gradienttape-explained-for-keras-users-cc3f06276f22"
   ]
  },
  {
   "cell_type": "markdown",
   "metadata": {},
   "source": [
    "https://medium.com/analytics-vidhya/implementing-adversarial-attacks-and-defenses-in-keras-tensorflow-2-0-cab6120c5715\n",
    "    \n",
    "https://medium.com/analytics-vidhya/transforming-the-world-into-paintings-with-cyclegan-6748c0b85632"
   ]
  },
  {
   "cell_type": "code",
   "execution_count": null,
   "metadata": {},
   "outputs": [],
   "source": []
  },
  {
   "cell_type": "code",
   "execution_count": null,
   "metadata": {},
   "outputs": [],
   "source": []
  },
  {
   "cell_type": "markdown",
   "metadata": {},
   "source": [
    "## @tf.function"
   ]
  },
  {
   "cell_type": "code",
   "execution_count": 2,
   "metadata": {},
   "outputs": [],
   "source": [
    "import tensorflow as tf"
   ]
  },
  {
   "cell_type": "code",
   "execution_count": 3,
   "metadata": {},
   "outputs": [
    {
     "data": {
      "text/plain": [
       "<tf.Tensor: shape=(2, 2), dtype=float32, numpy=\n",
       "array([[2., 2.],\n",
       "       [2., 2.]], dtype=float32)>"
      ]
     },
     "execution_count": 3,
     "metadata": {},
     "output_type": "execute_result"
    }
   ],
   "source": [
    "@tf.function\n",
    "def add(a, b):\n",
    "    return a + b\n",
    "\n",
    "add(tf.ones([2, 2]), tf.ones([2, 2]))"
   ]
  },
  {
   "cell_type": "code",
   "execution_count": 6,
   "metadata": {},
   "outputs": [],
   "source": [
    "v = tf.Variable(1.0)\n",
    "with tf.GradientTape() as tape:\n",
    "    result = add(2*v, 1.0)"
   ]
  },
  {
   "cell_type": "code",
   "execution_count": 7,
   "metadata": {},
   "outputs": [
    {
     "data": {
      "text/plain": [
       "<tf.Tensor: shape=(), dtype=float32, numpy=2.0>"
      ]
     },
     "execution_count": 7,
     "metadata": {},
     "output_type": "execute_result"
    }
   ],
   "source": [
    "tape.gradient(result, v)"
   ]
  },
  {
   "cell_type": "code",
   "execution_count": null,
   "metadata": {},
   "outputs": [],
   "source": []
  },
  {
   "cell_type": "code",
   "execution_count": null,
   "metadata": {},
   "outputs": [],
   "source": []
  },
  {
   "cell_type": "code",
   "execution_count": null,
   "metadata": {},
   "outputs": [],
   "source": []
  },
  {
   "cell_type": "code",
   "execution_count": null,
   "metadata": {},
   "outputs": [],
   "source": []
  },
  {
   "cell_type": "markdown",
   "metadata": {},
   "source": [
    "# Saving and loading model problems (keeping optimizer state)\n",
    "# How to resume training (finetuning) keeping the optimizer state!!!!"
   ]
  },
  {
   "cell_type": "markdown",
   "metadata": {},
   "source": [
    "### 1) DO NOT load_weights() after defining model again!\n",
    "    Redefining the model followed by load_weight() definitely won't work, because save_weight() and load_weight() does not save/load the optimizer! \n",
    "    \n",
    "https://stackoverflow.com/questions/47995324/does-model-compile-initialize-all-the-weights-and-biases-in-keras-tensorflow#:~:text=Compile%20defines%20the%20loss%20function,loss%20function%20and%20the%20optimizer\n",
    "    \n",
    "### 2) DO NOT compile model after load_model()\n",
    "    Did you call model.compile(optimizer='adam') after load_model()? If so, don't do that. Re-compiling the model with the option optimizer='adam' will reset the inner state of the optimizer (in fact, a new Adam optimizer instance is created)\n",
    "    Just call load_model() followed by model.fit()\n",
    "\n",
    "https://stackoverflow.com/questions/45393429/keras-how-to-save-model-and-continue-training?noredirect=1&lq=1\n",
    "\n",
    "#### THE PREVIOUS LINK MIGHT HAVE FULLY WORKING EXAMPLE!!\n",
    "\n",
    "    \n",
    "### 3) Be carefull with the learning rate on plateau! \n",
    "      reduce_lr = ReduceLROnPlateau(monitor='loss', factor=lr_reduction_factor,\n",
    "                              patience=patience, min_lr=min_lr, verbose=1)\n",
    "https://stackoverflow.com/questions/42666046/loading-a-trained-keras-model-and-continue-training?rq=1 \n",
    "\n",
    "#### THE PREVIOUS LINK MIGHT HAVE FULLY WORKING EXAMPLE IN SUBLINKS!!\n",
    "\n",
    "\n",
    "### 4)Please save the model in *.tf format. From my experience, if you have any custom_loss defined, *.h5 format will not save optimizer status and hence will not serve your purpose if you want to retrain the model from where we left.\n",
    "\n",
    "https://stackoverflow.com/questions/42666046/loading-a-trained-keras-model-and-continue-training?rq=1\n",
    "\n",
    "### 5) Save and load optimizer state\n",
    "https://stackoverflow.com/questions/49503748/save-and-load-model-optimizer-state\n",
    "\n",
    "\n",
    "<br>\n",
    "<br>\n",
    "<br>\n",
    "<br>\n",
    "<br>\n",
    "<br>\n",
    "\n",
    "### 6) see https://www.tensorflow.org/guide/eager for saving optimizer state with CheckPoints!!\n",
    "\n",
    "### 7) \n",
    "\n",
    "#### Does model.save() and load_model() work alone without anything else to load the state of the optimizer???\n",
    "\n",
    "https://stackoverflow.com/questions/56414605/keras-how-to-resume-training-with-adam-optimizer\n",
    "\n",
    "\n",
    "<br>\n",
    "<br>\n",
    "<br>\n",
    "<br>\n",
    "<br>\n",
    "<br>\n",
    "\n",
    "https://stackoverflow.com/questions/48161147/error-restoring-model-in-tensorflow-after-changing-the-optimizer-paramter/48212514#48212514\n",
    "\n",
    "**Is this true???** <br>\n",
    "https://github.com/keras-team/keras/issues/2378\n",
    "\n",
    "It is happening because model.save(filename.h5) does not save the state of the optimizer. So the optimizers like Adam, RMSProp does not work but SGD works as mentioned in one of the previous comments (I verified this) since it is stateless optimizer (learning rate is fixed).\n",
    "\n",
    "This is just sad that such a popular library has such basic/glaring/trivial bugs/problems :(\n",
    "\n",
    "**MAYBE NOT** chollet says: \"Yes. The optimizer state isn't reset until you recompile the model with a new optimizer.\" in the https://github.com/keras-team/keras/issues/3704#issuecomment-245052225"
   ]
  },
  {
   "cell_type": "code",
   "execution_count": null,
   "metadata": {},
   "outputs": [],
   "source": []
  },
  {
   "cell_type": "code",
   "execution_count": null,
   "metadata": {},
   "outputs": [],
   "source": []
  },
  {
   "cell_type": "code",
   "execution_count": null,
   "metadata": {},
   "outputs": [],
   "source": []
  },
  {
   "cell_type": "markdown",
   "metadata": {},
   "source": [
    "### - We may have problems resuming and keeping optimizer state in tensorflow work in Fujitsu!!!"
   ]
  },
  {
   "cell_type": "code",
   "execution_count": null,
   "metadata": {},
   "outputs": [],
   "source": []
  },
  {
   "cell_type": "markdown",
   "metadata": {},
   "source": [
    "# General Keras Questions\n",
    "- https://keras.io/getting_started/faq/#how-can-i-save-a-keras-model"
   ]
  },
  {
   "cell_type": "code",
   "execution_count": null,
   "metadata": {},
   "outputs": [],
   "source": []
  },
  {
   "cell_type": "markdown",
   "metadata": {},
   "source": [
    "# Tricks in training NNs:\n",
    "- "
   ]
  },
  {
   "cell_type": "code",
   "execution_count": null,
   "metadata": {},
   "outputs": [],
   "source": []
  },
  {
   "cell_type": "code",
   "execution_count": null,
   "metadata": {},
   "outputs": [],
   "source": []
  },
  {
   "cell_type": "markdown",
   "metadata": {},
   "source": [
    "# Resources to see:\n",
    "- https://stackoverflow.com/questions/45393429/keras-how-to-save-model-and-continue-training?noredirect=1&lq=1\n",
    "- https://stackoverflow.com/questions/42666046/loading-a-trained-keras-model-and-continue-training?rq=1\n",
    "- "
   ]
  },
  {
   "cell_type": "code",
   "execution_count": null,
   "metadata": {},
   "outputs": [],
   "source": []
  },
  {
   "cell_type": "code",
   "execution_count": null,
   "metadata": {},
   "outputs": [],
   "source": []
  },
  {
   "cell_type": "code",
   "execution_count": null,
   "metadata": {},
   "outputs": [],
   "source": []
  },
  {
   "cell_type": "code",
   "execution_count": null,
   "metadata": {},
   "outputs": [],
   "source": []
  },
  {
   "cell_type": "code",
   "execution_count": null,
   "metadata": {},
   "outputs": [],
   "source": []
  },
  {
   "cell_type": "code",
   "execution_count": null,
   "metadata": {},
   "outputs": [],
   "source": []
  }
 ],
 "metadata": {
  "kernelspec": {
   "display_name": "Python 3",
   "language": "python",
   "name": "python3"
  },
  "language_info": {
   "codemirror_mode": {
    "name": "ipython",
    "version": 3
   },
   "file_extension": ".py",
   "mimetype": "text/x-python",
   "name": "python",
   "nbconvert_exporter": "python",
   "pygments_lexer": "ipython3",
   "version": "3.8.5"
  }
 },
 "nbformat": 4,
 "nbformat_minor": 4
}
