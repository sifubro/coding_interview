{
 "cells": [
  {
   "cell_type": "code",
   "execution_count": 1,
   "metadata": {},
   "outputs": [
    {
     "name": "stdout",
     "output_type": "stream",
     "text": [
      "Theo\n",
      "Theo.Kasio@email.com\n",
      "Theo Kasio\n"
     ]
    }
   ],
   "source": [
    "class Employee:\n",
    "    \n",
    "    def __init__(self, first, last):\n",
    "        self.first = first\n",
    "        self.last = last\n",
    "        self.email = first + '.' + last + '@email.com'\n",
    "        \n",
    "    def fullname(self):\n",
    "        return '{} {}'.format(self.first, self.last)\n",
    "    \n",
    "e1 = Employee('Theo', 'Kasio')\n",
    "print(e1.first)\n",
    "print(e1.email)\n",
    "print(e1.fullname())"
   ]
  },
  {
   "cell_type": "code",
   "execution_count": 3,
   "metadata": {},
   "outputs": [
    {
     "name": "stdout",
     "output_type": "stream",
     "text": [
      "John\n",
      "Theo.Kasio@email.com\n",
      "John Kasio\n"
     ]
    }
   ],
   "source": [
    "e1.first ='John'\n",
    "print(e1.first)\n",
    "print(e1.email)\n",
    "print(e1.fullname())"
   ]
  },
  {
   "cell_type": "code",
   "execution_count": 4,
   "metadata": {},
   "outputs": [
    {
     "name": "stdout",
     "output_type": "stream",
     "text": [
      "Theo\n",
      "Theo.Kasio@email.com\n",
      "Theo Kasio\n",
      "**********\n",
      "John\n",
      "John.Kasio@email.com\n",
      "John Kasio\n"
     ]
    }
   ],
   "source": [
    "class Employee:\n",
    "    \n",
    "    def __init__(self, first, last):\n",
    "        self.first = first\n",
    "        self.last = last\n",
    "    \n",
    "    @property\n",
    "    def email(self):\n",
    "        return '{}.{}@email.com'.format(self.first, self.last)\n",
    "    \n",
    "    @property\n",
    "    def fullname(self):\n",
    "        return '{} {}'.format(self.first, self.last)\n",
    "    \n",
    "e1 = Employee('Theo', 'Kasio')\n",
    "print(e1.first)\n",
    "print(e1.email)\n",
    "print(e1.fullname)\n",
    "\n",
    "print('*'*10)\n",
    "e1.first ='John'\n",
    "print(e1.first)\n",
    "print(e1.email)\n",
    "print(e1.fullname)"
   ]
  },
  {
   "cell_type": "code",
   "execution_count": 5,
   "metadata": {},
   "outputs": [],
   "source": [
    "class Employee:\n",
    "    \n",
    "    def __init__(self, first, last):\n",
    "        self.first = first\n",
    "        self.last = last\n",
    "    \n",
    "    @property\n",
    "    def email(self):\n",
    "        return '{}.{}@email.com'.format(self.first, self.last)\n",
    "    @property\n",
    "    def fullname(self):\n",
    "        return '{} {}'.format(self.first, self.last)\n",
    "    \n",
    "    @fullname.setter\n",
    "    def fullname(self, name): \n",
    "        # name is the value that we are trying to set i.e. 'Aleka Rachioti'\n",
    "        first, last = name.split(' ')\n",
    "        self.first = first\n",
    "        self.last = last\n",
    "        \n",
    "    @fullname.deleter\n",
    "    def fullname(self):\n",
    "        print('Delete Name!')\n",
    "        self.first = None\n",
    "        self.last = None"
   ]
  },
  {
   "cell_type": "code",
   "execution_count": 6,
   "metadata": {},
   "outputs": [
    {
     "name": "stdout",
     "output_type": "stream",
     "text": [
      "Theo\n",
      "Theo.Kasio@email.com\n",
      "Theo Kasio\n",
      "********************\n",
      "John\n",
      "John.Kasio@email.com\n",
      "John Kasio\n",
      "********************\n",
      "Aleka\n",
      "Aleka.Rachioti@email.com\n",
      "Aleka Rachioti\n",
      "********************\n",
      "Delete Name!\n",
      "None\n",
      "None.None@email.com\n",
      "None None\n"
     ]
    }
   ],
   "source": [
    "e1 = Employee('Theo', 'Kasio')\n",
    "print(e1.first)\n",
    "print(e1.email)\n",
    "print(e1.fullname)\n",
    "\n",
    "print('*'*20)\n",
    "e1.first ='John'\n",
    "print(e1.first)\n",
    "print(e1.email)\n",
    "print(e1.fullname)\n",
    "\n",
    "print('*'*20)\n",
    "e1.fullname = 'Aleka Rachioti'\n",
    "print(e1.first)\n",
    "print(e1.email)\n",
    "print(e1.fullname)\n",
    "\n",
    "print('*'*20)\n",
    "del e1.fullname\n",
    "print(e1.first)\n",
    "print(e1.email)\n",
    "print(e1.fullname)"
   ]
  },
  {
   "cell_type": "code",
   "execution_count": null,
   "metadata": {},
   "outputs": [],
   "source": [
    "class myPropertyClass:\n",
    "    \"Emulate PyProperty_Type() in Objects/descrobject.c\"\n",
    "\n",
    "    def __init__(self, fget=None, fset=None, fdel=None, doc=None):\n",
    "        self.fget = fget\n",
    "        self.fset = fset\n",
    "        self.fdel = fdel\n",
    "        if doc is None and fget is not None:\n",
    "            doc = fget.__doc__\n",
    "        self.__doc__ = doc\n",
    " \n",
    "    def __get__(self, obj, objtype=None):\n",
    "        print('__get__(self,obj,value) is called')\n",
    "        if obj is None:\n",
    "            print('obj is None')\n",
    "            return self\n",
    "        if self.fget is None:\n",
    "            raise AttributeError(\"unreadable attribute\")\n",
    "        return self.fget(obj)\n",
    "\n",
    "    def __set__(self, obj, value):\n",
    "        print('__set__(self,obj,value) is called')\n",
    "        if self.fset is None:\n",
    "            raise AttributeError(\"can't set attribute\")\n",
    "        self.fset(obj, value)\n",
    "\n",
    "    def __delete__(self, obj):\n",
    "        print('__delete__(self, obj) is called')\n",
    "        if self.fdel is None:\n",
    "            raise AttributeError(\"can't delete attribute\")\n",
    "        self.fdel(obj)\n",
    "\n",
    "    def getter(self, fget):\n",
    "        print('getter(self, fget) is called')\n",
    "        return type(self)(fget, self.fset, self.fdel, self.__doc__)\n",
    "\n",
    "    def setter(self, fset):\n",
    "        print('setter(self, fget) is called')\n",
    "        return type(self)(self.fget, fset, self.fdel, self.__doc__)\n",
    "\n",
    "    def deleter(self, fdel):\n",
    "        print('deleter(self, fget) is called')\n",
    "        return type(self)(self.fget, self.fset, fdel, self.__doc__)"
   ]
  },
  {
   "cell_type": "code",
   "execution_count": null,
   "metadata": {},
   "outputs": [],
   "source": []
  },
  {
   "cell_type": "code",
   "execution_count": null,
   "metadata": {},
   "outputs": [],
   "source": []
  }
 ],
 "metadata": {
  "kernelspec": {
   "display_name": "Python 3.7.2",
   "language": "python",
   "name": "python3"
  },
  "language_info": {
   "codemirror_mode": {
    "name": "ipython",
    "version": 3
   },
   "file_extension": ".py",
   "mimetype": "text/x-python",
   "name": "python",
   "nbconvert_exporter": "python",
   "pygments_lexer": "ipython3",
   "version": "3.7.6"
  }
 },
 "nbformat": 4,
 "nbformat_minor": 4
}
