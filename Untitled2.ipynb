{
 "cells": [
  {
   "cell_type": "code",
   "execution_count": 13,
   "metadata": {},
   "outputs": [],
   "source": [
    "# encoding = 'utf-8', 'latin-1'\n",
    "\n",
    "lst= []\n",
    "with open(r'C:\\Users\\30694\\Desktop\\NeurIPS_2020_Theo - Copy.pptx', 'r', encoding='latin-1') as f:\n",
    "    line = f.readline()\n",
    "    while line != '': # The EOF char\n",
    "        lst.append(line)\n",
    "        line = f.readline()"
   ]
  },
  {
   "cell_type": "code",
   "execution_count": 14,
   "metadata": {},
   "outputs": [
    {
     "data": {
      "text/plain": [
       "['\\x0b\\'ÊÂXTeÁõ¥¾;\\x11\\x9c«Y³ù]t\\x8bîXè\\x1d\\x87\\x9bca\\x94\\x85B\\x18w\\x9aÖxa4Ó?\\x9b\\x8d\\x9eX7¶\\x9fMÓlï|)j5B\"\\x8có\\x99\\t|]¨oK\\xadñsiäÃb¾]ÍWGwØæ«ä\\x0ekk:ÀÚ9TE58w;\\x1c2\\x853$BåGûqÐËÉ£µ(gæ·4%\\x11KR\\x8aR\\x98!jG\\x14E\\t\\n',\n",
       " 'PJ\\x1c?!^\\x1a\\x13Ç½T»±»\\x97\\x0b®)ù£\\x98¤\\x85Ý[tÖe.Ú¾]Êwy[\\x8fº\\x98ä\\x05Lb:2©¼ü6gQ\\x9aøÌA1¦!¢Aâ¡\\x809\\x04\\x914LlÇv£8a\\x97c\\x02ÀçiÔQXc¼cà\\x13\\x11}wÐæ\\x9f{£i\\x81(ÅëÀÛ\\x95Å@¦\\x1a»Õ(§\\\\\\n',\n",
       " '\\x9d¦Ñt¸®\\'ÛDßÉ2f\\x84ÚöÀ\\x1fÆ\\x04Rå\\\\g<Àt0PLBF=×¾Åç\\x80ÝíÉó¨-.ÔîS\\x18\\x81Ç¬ÉW-Ü}§\\x03fÕË\\x85¼¨¸\\x9eo*Ü)\\x93ê¬Ñþk~\\x0b¾ü\\x13\\x16û¯3ÓU§\\x0e\\x07\\x8d¶Ã|\\x07£S_:*\\x01\\x9bªLU\\x16Þ\\xa0O\\x8bá8¹\\x1fWeþÙ\\x90\\xadÁ\\x8bR\\x1a\\x1f³^raè[\\x0fJ\\x0f\\x80(À\\x81\\x92\\x01¼ÓáLaèÈî\\x17©3\\x89t±>\\x1dpÉ\\x1bÕi G%\\tc(öí\\x08Q\\x16\\x80Nq\\x02Î\\x80\\x02\"\\x9fÌÃy\\x1c¾¾Nûõé\\xa0SpJ©ïYzu\\\\\\x9bØ\\x8e\\x7f\\x8f^±Ë\\x98ç\\x92\\x87êõ§\"\\xad3q\\xa0ËYÙ\\x14PÕõôºpO×\\x87ð\\x14Ó ;\\x1aV¾ÞÔ°\\x9e\\x92-*e\\x1eQþ>\\x16úÚí¡ðFhg\\x0b=äâÑÐØß\\x85Vx#4ÝBcÇÃª\\x12<\\x1a{[>FÀ\\x11\\x9bí`ûÄW.<\\x0f[\\x01\\x8eØî\\x16\\x9b\\x10_\\x17\\x96ça+À\\x11ÛÛÁö¨ó\\x14*¯c+À\\x11Ûßb+à\\'qy\\n']"
      ]
     },
     "execution_count": 14,
     "metadata": {},
     "output_type": "execute_result"
    }
   ],
   "source": [
    "lst[:3]"
   ]
  },
  {
   "cell_type": "code",
   "execution_count": 15,
   "metadata": {},
   "outputs": [
    {
     "data": {
      "text/plain": [
       "'\\x0b\\'ÊÂXTeÁõ¥¾;\\x11\\x9c«Y³ù]t\\x8bîXè\\x1d\\x87\\x9bca\\x94\\x85B\\x18w\\x9aÖxa4Ó?\\x9b\\x8d\\x9eX7¶\\x9fMÓlï|)j5B\"\\x8có\\x99\\t|]¨oK\\xadñsiäÃb¾]ÍWGwØæ«ä\\x0ekk:ÀÚ9TE58w;\\x1c2\\x853$BåGûqÐËÉ£µ(gæ·4%\\x11KR\\x8aR\\x98!jG\\x14E\\t\\n'"
      ]
     },
     "execution_count": 15,
     "metadata": {},
     "output_type": "execute_result"
    }
   ],
   "source": [
    "line = lst[0]\n",
    "line"
   ]
  },
  {
   "cell_type": "code",
   "execution_count": 16,
   "metadata": {},
   "outputs": [
    {
     "data": {
      "text/plain": [
       "'\\n\\tE\\x14Gj!\\x98R\\x8aRK\\x11%4·æg(µ£ÉËÐqûGåB$3\\x852\\x1c;w85ET9ÚÀ:kk\\x0eä«æØwGWÍ]¾bÃäisñ\\xadKo¨]|\\t\\x99ó\\x8c\"B5j)|ïlÓM\\x9f¶7X\\x9e\\x8d\\x9b?Ó4axÖ\\x9aw\\x18B\\x85\\x94ac\\x9b\\x87\\x1dèXî\\x8bt]ù³Y«\\x9c\\x11;¾¥õÁeTXÂÊ\\'\\x0b'"
      ]
     },
     "execution_count": 16,
     "metadata": {},
     "output_type": "execute_result"
    }
   ],
   "source": [
    "line[::-1]"
   ]
  },
  {
   "cell_type": "code",
   "execution_count": 17,
   "metadata": {},
   "outputs": [],
   "source": [
    "new_lst = []\n",
    "\n",
    "for line in lst:\n",
    "    reversed_line = line[::-1]\n",
    "    new_lst.append(reversed_line)"
   ]
  },
  {
   "cell_type": "code",
   "execution_count": 19,
   "metadata": {},
   "outputs": [
    {
     "data": {
      "text/plain": [
       "['\\n\\tE\\x14Gj!\\x98R\\x8aRK\\x11%4·æg(µ£ÉËÐqûGåB$3\\x852\\x1c;w85ET9ÚÀ:kk\\x0eä«æØwGWÍ]¾bÃäisñ\\xadKo¨]|\\t\\x99ó\\x8c\"B5j)|ïlÓM\\x9f¶7X\\x9e\\x8d\\x9b?Ó4axÖ\\x9aw\\x18B\\x85\\x94ac\\x9b\\x87\\x1dèXî\\x8bt]ù³Y«\\x9c\\x11;¾¥õÁeTXÂÊ\\'\\x0b',\n",
       " '\\n\\\\§(Õ»\\x1a¦@Å\\x95ÛÀëÅ(\\x81i£{\\x9fæÐw}\\x11\\x13àc¼cXQÔiçÀ\\x02c\\x97a8£vÇlL4\\x91\\x049\\x80¡âA¢!¦1AÌø\\x9aQg6ü¼©2:bL\\x05ä\\x98º\\x8f[ywÊ]¾Ú.eÖt[Ý\\x85¤\\x98£ù)®\\x0b\\x97»±»T½Ç\\x13\\x1a^!?\\x1cJP',\n",
       " '\\nyq\\'à+bßÛ\\x11À+c¯*\\x14ó¨öÁÛÛ\\x11À+aç\\x96\\x17_\\x10\\x9b\\x16îØ\\x8e\\x01[\\x0f<.WÄû`í\\x9b\\x11ÀF>[{\\x1a<\\x12ªÃÇcBÝ4#xV\\x85ßØÐÑâä=\\x0bghFð¡íÚú\\x16>þQ\\x1ee*-\\x92\\x9e°ÔÞ¾V\\x1a; Ó\\x14ð\\x87×OpºôõÕP\\x14ÙYË\\xa0q3\\xad\"§õê\\x87\\x92ç\\x98Ë±^\\x8f\\x7f\\x8eØ\\x9b\\\\uzYï©JpS\\xa0éõûN¾¾\\x1cyÃÌ\\x9f\"\\x02\\x80Î\\x02qN\\x80\\x16Q\\x08íö(c\\t%G iÕ\\x1bÉp\\x1d>±t\\x893©\\x17îÈèaLáÓ¼\\x01\\x92\\x81À(\\x80\\x0fJ\\x0f[èar^³\\x1f\\x1aR\\x8bÁ\\xad\\x90ÙþeW\\x1f¹8á\\x8bO\\xa0Þ\\x16ULª\\x9b\\x01*:_S£\\x07|Ã¶\\x8d\\x07\\x0e§UÓ3¯û\\x16\\x13ü¾\\x0b~kþÑ¬ê\\x93)Ü*o\\x9e¸¨¼\\x85ËÕf\\x03§}Ü-WÉ¬Ç\\x81\\x18SîÔ.-¨óÉíÝ\\x80çÅ¾×=FBLP0tÀ<g\\\\åR\\x04Æ\\x1fÀöÚ\\x84f2ÉßDÛ\\'®¸tÑ¦\\x9d']"
      ]
     },
     "execution_count": 19,
     "metadata": {},
     "output_type": "execute_result"
    }
   ],
   "source": [
    "new_lst[:3]"
   ]
  },
  {
   "cell_type": "code",
   "execution_count": 23,
   "metadata": {},
   "outputs": [],
   "source": [
    "with open(r'C:\\Users\\30694\\Desktop\\NeurIPS_2020_Theo-Reversed.pptx', 'w', encoding='latin-1') as f:\n",
    "    for item in new_lst:\n",
    "        f.write(\"%s\" % item)"
   ]
  },
  {
   "cell_type": "code",
   "execution_count": null,
   "metadata": {},
   "outputs": [],
   "source": []
  }
 ],
 "metadata": {
  "kernelspec": {
   "display_name": "Python 3.7.2",
   "language": "python",
   "name": "python3"
  },
  "language_info": {
   "codemirror_mode": {
    "name": "ipython",
    "version": 3
   },
   "file_extension": ".py",
   "mimetype": "text/x-python",
   "name": "python",
   "nbconvert_exporter": "python",
   "pygments_lexer": "ipython3",
   "version": "3.7.6"
  }
 },
 "nbformat": 4,
 "nbformat_minor": 4
}
