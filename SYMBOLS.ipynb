{
 "cells": [
  {
   "cell_type": "markdown",
   "id": "9f088c9d",
   "metadata": {},
   "source": [
    "## https://unicode-table.com/en/sets/arrow-symbols/"
   ]
  },
  {
   "cell_type": "markdown",
   "id": "ad3022f1",
   "metadata": {},
   "source": [
    "⮚ "
   ]
  },
  {
   "cell_type": "markdown",
   "id": "bb93bda0",
   "metadata": {},
   "source": [
    "♠ ♦ ♣"
   ]
  },
  {
   "cell_type": "code",
   "execution_count": null,
   "id": "d6f98483",
   "metadata": {},
   "outputs": [],
   "source": []
  },
  {
   "cell_type": "code",
   "execution_count": null,
   "id": "a1f47d95",
   "metadata": {},
   "outputs": [],
   "source": []
  },
  {
   "cell_type": "code",
   "execution_count": null,
   "id": "f436614c",
   "metadata": {},
   "outputs": [],
   "source": []
  }
 ],
 "metadata": {
  "kernelspec": {
   "display_name": "Python 3.7.2",
   "language": "python",
   "name": "python3"
  },
  "language_info": {
   "codemirror_mode": {
    "name": "ipython",
    "version": 3
   },
   "file_extension": ".py",
   "mimetype": "text/x-python",
   "name": "python",
   "nbconvert_exporter": "python",
   "pygments_lexer": "ipython3",
   "version": "3.7.6"
  }
 },
 "nbformat": 4,
 "nbformat_minor": 5
}
