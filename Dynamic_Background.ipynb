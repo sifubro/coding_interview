{
 "cells": [
  {
   "cell_type": "markdown",
   "metadata": {},
   "source": [
    "## particle.js"
   ]
  },
  {
   "cell_type": "markdown",
   "metadata": {},
   "source": [
    "BEST\n",
    "https://github.com/hustcc/canvas-nest.js\n",
    "To Preview\n",
    "https://www.cssscript.com/demo/interactive-particle-nest-system-with-javascript-and-canvas-canvas-nest-js/\n",
    "https://www.cssscript.com/interactive-particle-nest-system-with-javascript-and-canvas-canvas-nest-js/\n",
    "\n",
    "free backgrounds\n",
    "https://pngtree.com/free-backgrounds-photos/technology\n",
    "\n",
    "\n",
    "\n",
    "https://vincentgarreau.com/particles.js/\n",
    "https://github.com/VincentGarreau/particles.js/\n",
    "\n",
    "free\n",
    "https://www.cssscript.com/tag/particle-system/\n",
    "\n",
    "https://www.cssscript.com/demo/interactive-particle-nest-system-with-javascript-and-canvas-canvas-nest-js/\n"
   ]
  },
  {
   "cell_type": "code",
   "execution_count": null,
   "metadata": {},
   "outputs": [],
   "source": [
    "https://colorlib.com/wp/parallax-website-templates/"
   ]
  },
  {
   "cell_type": "code",
   "execution_count": null,
   "metadata": {},
   "outputs": [],
   "source": []
  },
  {
   "cell_type": "code",
   "execution_count": null,
   "metadata": {},
   "outputs": [],
   "source": []
  }
 ],
 "metadata": {
  "kernelspec": {
   "display_name": "Python 3.7.2",
   "language": "python",
   "name": "python3"
  },
  "language_info": {
   "codemirror_mode": {
    "name": "ipython",
    "version": 3
   },
   "file_extension": ".py",
   "mimetype": "text/x-python",
   "name": "python",
   "nbconvert_exporter": "python",
   "pygments_lexer": "ipython3",
   "version": "3.7.6"
  }
 },
 "nbformat": 4,
 "nbformat_minor": 4
}
