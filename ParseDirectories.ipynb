{
 "cells": [
  {
   "cell_type": "code",
   "execution_count": 10,
   "metadata": {},
   "outputs": [],
   "source": [
    "import os\n",
    "from os import listdir"
   ]
  },
  {
   "cell_type": "code",
   "execution_count": 11,
   "metadata": {},
   "outputs": [],
   "source": [
    "path='C://Users/30694/Desktop/Jenoptik'\n",
    "listing = os.listdir(path)"
   ]
  },
  {
   "cell_type": "markdown",
   "metadata": {},
   "source": [
    "for i in listing:\n",
    "    print(i)"
   ]
  },
  {
   "cell_type": "code",
   "execution_count": 14,
   "metadata": {},
   "outputs": [
    {
     "name": "stdout",
     "output_type": "stream",
     "text": [
      "checking folder C://Users/30694/Desktop/Jenoptik\\Jenoptic Scripts Plates\n",
      "checking folder C://Users/30694/Desktop/Jenoptik\\new\n",
      "checking folder C://Users/30694/Desktop/Jenoptik\\NN Detecting bounds\n"
     ]
    }
   ],
   "source": [
    "for fName in listing:\n",
    "    fullPath = os.path.join(path, fName)\n",
    "    # if path is a directory with files in it\n",
    "    # if the directory is not hidden\n",
    "    if os.path.isdir(fullPath) and (fName[0]!='.'):\n",
    "        # recurse into subdirectories\n",
    "        #if ('obot' not in fullPath):\n",
    "        print('checking folder', fullPath)"
   ]
  },
  {
   "cell_type": "code",
   "execution_count": 15,
   "metadata": {},
   "outputs": [],
   "source": [
    "l1=[1,2,3,4]\n",
    "l2=[-1,-2,-3,-4]"
   ]
  },
  {
   "cell_type": "code",
   "execution_count": 16,
   "metadata": {},
   "outputs": [
    {
     "name": "stdout",
     "output_type": "stream",
     "text": [
      "1 -1\n",
      "2 -2\n",
      "3 -3\n",
      "4 -4\n"
     ]
    }
   ],
   "source": [
    "for (n1,n2) in zip(l1,l2):\n",
    "    print(n1,n2)"
   ]
  },
  {
   "cell_type": "code",
   "execution_count": 21,
   "metadata": {},
   "outputs": [
    {
     "name": "stdout",
     "output_type": "stream",
     "text": [
      "C://Users/30694/Desktop/Jenoptik\n",
      "['Jenoptic Scripts Plates', 'new', 'NN Detecting bounds']\n",
      "['ANPR.pdf', 'anpr.zip']\n",
      "######################################\n",
      "C://Users/30694/Desktop/Jenoptik\\Jenoptic Scripts Plates\n",
      "[]\n",
      "['euroAug_31+1_9.prototxt', 'Jenoptic_Plates.pdf', 'Jenoptic_Plates_color.pdf', 'MultiBounds.py', 'PlateAccuracy.py', 'PlateBounder.py', 'PlateCheck_TK.py', 'PlateLoader.py', 'PlateLoc.py', 'PlateLocAuto.py', 'slimLocator.pro', 'StateShuffle.py', 'UniquePlates.py']\n",
      "######################################\n",
      "C://Users/30694/Desktop/Jenoptik\\new\n",
      "[]\n",
      "['AUS_PredLoc.log', 'AUS_raw_suggests.log', 'AUS_states.prototxt', 'caffeDocker.sh', 'caffeTrain.sh', 'Confirmation of Placement - Theodoros Kasioumis.doc', 'euroFine_31+1_9.prototxt', 'fdsfsdfsdf', 'raw_AUS_VIC_6Mar19.log', 'SightingsReport_VIC_6Mar_2019.csv', 'solverAus.prototxt', 'solverIntl.prototxt']\n",
      "######################################\n",
      "C://Users/30694/Desktop/Jenoptik\\NN Detecting bounds\n",
      "[]\n",
      "['PlateBounder', 'SlimLocator']\n",
      "######################################\n"
     ]
    }
   ],
   "source": [
    "for base, subdirs, files in os.walk(path):\n",
    "    print(base)\n",
    "    print(subdirs)\n",
    "    print(files)\n",
    "    print('######################################')"
   ]
  },
  {
   "cell_type": "code",
   "execution_count": null,
   "metadata": {},
   "outputs": [],
   "source": []
  }
 ],
 "metadata": {
  "kernelspec": {
   "display_name": "Python 3",
   "language": "python",
   "name": "python3"
  },
  "language_info": {
   "codemirror_mode": {
    "name": "ipython",
    "version": 3
   },
   "file_extension": ".py",
   "mimetype": "text/x-python",
   "name": "python",
   "nbconvert_exporter": "python",
   "pygments_lexer": "ipython3",
   "version": "3.7.2"
  }
 },
 "nbformat": 4,
 "nbformat_minor": 2
}
