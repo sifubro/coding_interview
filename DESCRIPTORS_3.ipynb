{
 "cells": [
  {
   "cell_type": "markdown",
   "metadata": {},
   "source": [
    "## Functions are non-data descriptors!"
   ]
  },
  {
   "cell_type": "markdown",
   "metadata": {},
   "source": [
    "## Comments:\n",
    "\n",
    "- If not using instance and set_name: \n",
    "    - I should make a weakref when setting and remove the key dictionary during deletion\n",
    "    - "
   ]
  },
  {
   "cell_type": "code",
   "execution_count": 232,
   "metadata": {},
   "outputs": [],
   "source": [
    "class MyDescriptor():\n",
    "    \n",
    "    def __init__(self):\n",
    "        print('MyDescriptor __init__ ')\n",
    "        #self is an instance of MyDescriptor()\n",
    "        print('-'*30)\n",
    "    \n",
    "    def __set_name__(self, owner_class, prop_name):\n",
    "        print('calling __set_name__ ...')\n",
    "        print(f'owner_class={owner_class}')\n",
    "        # get a hook on the property name. It solves the problem\n",
    "        # x = MyDescriptor('x') , i.e. having to specify 'x' during creation\n",
    "        self.prop_name = prop_name\n",
    "        print('-'*30)\n",
    "    \n",
    "    def __get__(self, instance, owner_class):\n",
    "        print('calling __get__ ...')\n",
    "        if instance is None:#called from class MyClass\n",
    "            return self #return instance of descriptor\n",
    "        return instance.__dict__.get(self.prop_name, None)\n",
    "        print('-'*30)\n",
    "    \n",
    "    def __set__(self, instance, value):\n",
    "        print('calling __set__ ...')\n",
    "        # by setting the prop_name it doesn't assume \n",
    "        instance.__dict__[self.prop_name] = value\n",
    "        print('-'*30)\n",
    "    "
   ]
  },
  {
   "cell_type": "code",
   "execution_count": 233,
   "metadata": {},
   "outputs": [
    {
     "name": "stdout",
     "output_type": "stream",
     "text": [
      "MyDescriptor __init__ \n",
      "------------------------------\n",
      "MyDescriptor __init__ \n",
      "------------------------------\n",
      "calling __set_name__ ...\n",
      "owner_class=<class '__main__.MyClass'>\n",
      "------------------------------\n",
      "calling __set_name__ ...\n",
      "owner_class=<class '__main__.MyClass'>\n",
      "------------------------------\n"
     ]
    }
   ],
   "source": [
    "class MyClass:\n",
    "    \n",
    "    x = MyDescriptor()\n",
    "    y = MyDescriptor()\n",
    "    \n",
    "    def __init__(self):\n",
    "        print('calling MyClass __init__ ...')\n",
    "        #self is an instance of my class\n",
    "        pass\n",
    "    \n",
    "    "
   ]
  },
  {
   "cell_type": "code",
   "execution_count": 234,
   "metadata": {},
   "outputs": [
    {
     "data": {
      "text/plain": [
       "mappingproxy({'__module__': '__main__',\n",
       "              'x': <__main__.MyDescriptor at 0x1b6ae27d588>,\n",
       "              'y': <__main__.MyDescriptor at 0x1b6ae27d548>,\n",
       "              '__init__': <function __main__.MyClass.__init__(self)>,\n",
       "              '__dict__': <attribute '__dict__' of 'MyClass' objects>,\n",
       "              '__weakref__': <attribute '__weakref__' of 'MyClass' objects>,\n",
       "              '__doc__': None})"
      ]
     },
     "execution_count": 234,
     "metadata": {},
     "output_type": "execute_result"
    }
   ],
   "source": [
    "MyClass.__dict__"
   ]
  },
  {
   "cell_type": "markdown",
   "metadata": {},
   "source": [
    "### get the descriptor back when called from class itself"
   ]
  },
  {
   "cell_type": "code",
   "execution_count": 235,
   "metadata": {},
   "outputs": [
    {
     "name": "stdout",
     "output_type": "stream",
     "text": [
      "calling __get__ ...\n"
     ]
    },
    {
     "data": {
      "text/plain": [
       "<__main__.MyDescriptor at 0x1b6ae27d588>"
      ]
     },
     "execution_count": 235,
     "metadata": {},
     "output_type": "execute_result"
    }
   ],
   "source": [
    "MyClass.x"
   ]
  },
  {
   "cell_type": "code",
   "execution_count": 236,
   "metadata": {},
   "outputs": [
    {
     "name": "stdout",
     "output_type": "stream",
     "text": [
      "calling __get__ ...\n"
     ]
    },
    {
     "data": {
      "text/plain": [
       "<__main__.MyDescriptor at 0x1b6ae27d548>"
      ]
     },
     "execution_count": 236,
     "metadata": {},
     "output_type": "execute_result"
    }
   ],
   "source": [
    "MyClass.y"
   ]
  },
  {
   "cell_type": "code",
   "execution_count": 237,
   "metadata": {},
   "outputs": [
    {
     "name": "stdout",
     "output_type": "stream",
     "text": [
      "calling MyClass __init__ ...\n"
     ]
    },
    {
     "data": {
      "text/plain": [
       "{}"
      ]
     },
     "execution_count": 237,
     "metadata": {},
     "output_type": "execute_result"
    }
   ],
   "source": [
    "inst = MyClass()\n",
    "inst.__dict__"
   ]
  },
  {
   "cell_type": "code",
   "execution_count": 238,
   "metadata": {},
   "outputs": [
    {
     "name": "stdout",
     "output_type": "stream",
     "text": [
      "calling __get__ ...\n"
     ]
    }
   ],
   "source": [
    "inst.x"
   ]
  },
  {
   "cell_type": "code",
   "execution_count": 240,
   "metadata": {},
   "outputs": [
    {
     "name": "stdout",
     "output_type": "stream",
     "text": [
      "calling __set__ ...\n",
      "------------------------------\n",
      "calling __get__ ...\n"
     ]
    },
    {
     "data": {
      "text/plain": [
       "5"
      ]
     },
     "execution_count": 240,
     "metadata": {},
     "output_type": "execute_result"
    }
   ],
   "source": [
    "inst.x = 5\n",
    "inst.x"
   ]
  },
  {
   "cell_type": "code",
   "execution_count": 242,
   "metadata": {},
   "outputs": [
    {
     "name": "stdout",
     "output_type": "stream",
     "text": [
      "calling __get__ ...\n"
     ]
    }
   ],
   "source": [
    "inst.y"
   ]
  },
  {
   "cell_type": "code",
   "execution_count": 247,
   "metadata": {},
   "outputs": [
    {
     "name": "stdout",
     "output_type": "stream",
     "text": [
      "calling __get__ ...\n",
      "calling __get__ ...\n"
     ]
    },
    {
     "data": {
      "text/plain": [
       "5"
      ]
     },
     "execution_count": 247,
     "metadata": {},
     "output_type": "execute_result"
    }
   ],
   "source": [
    "MyClass.x.__get__(inst, MyClass)"
   ]
  },
  {
   "cell_type": "code",
   "execution_count": 248,
   "metadata": {},
   "outputs": [
    {
     "name": "stdout",
     "output_type": "stream",
     "text": [
      "calling __get__ ...\n"
     ]
    }
   ],
   "source": [
    "descr = MyClass.x  #get a hook on the descriptor\n",
    "# calling get due to .dot notation"
   ]
  },
  {
   "cell_type": "code",
   "execution_count": 249,
   "metadata": {},
   "outputs": [
    {
     "name": "stdout",
     "output_type": "stream",
     "text": [
      "calling __get__ ...\n"
     ]
    },
    {
     "data": {
      "text/plain": [
       "5"
      ]
     },
     "execution_count": 249,
     "metadata": {},
     "output_type": "execute_result"
    }
   ],
   "source": [
    "descr.__get__(inst, MyClass)  # calling "
   ]
  },
  {
   "cell_type": "markdown",
   "metadata": {},
   "source": [
    "## DesctiptorClass.__get__(DescriptorInstance, None means called from class, owner_type Myclass)"
   ]
  },
  {
   "cell_type": "code",
   "execution_count": 257,
   "metadata": {},
   "outputs": [
    {
     "name": "stdout",
     "output_type": "stream",
     "text": [
      "calling __get__ ...\n"
     ]
    },
    {
     "data": {
      "text/plain": [
       "<__main__.MyDescriptor at 0x1b6ae27d588>"
      ]
     },
     "execution_count": 257,
     "metadata": {},
     "output_type": "execute_result"
    }
   ],
   "source": [
    "MyDescriptor.__get__(MyClass.__dict__['x'], None, MyClass)"
   ]
  },
  {
   "cell_type": "code",
   "execution_count": 258,
   "metadata": {},
   "outputs": [
    {
     "name": "stdout",
     "output_type": "stream",
     "text": [
      "calling MyClass __init__ ...\n"
     ]
    }
   ],
   "source": [
    "inst = MyClass()"
   ]
  },
  {
   "cell_type": "markdown",
   "metadata": {},
   "source": [
    "## Calling descriptor from instance (bound method)"
   ]
  },
  {
   "cell_type": "code",
   "execution_count": 259,
   "metadata": {},
   "outputs": [
    {
     "name": "stdout",
     "output_type": "stream",
     "text": [
      "calling __get__ ...\n"
     ]
    }
   ],
   "source": [
    "MyDescriptor.__get__(MyClass.__dict__['x'], inst, MyClass)"
   ]
  },
  {
   "cell_type": "code",
   "execution_count": 260,
   "metadata": {},
   "outputs": [
    {
     "name": "stdout",
     "output_type": "stream",
     "text": [
      "calling __get__ ...\n"
     ]
    }
   ],
   "source": [
    "# same as\n",
    "MyClass.__dict__['x'].__get__(inst, MyClass)\n",
    "\n",
    "# MyClass.__dict__['x'] will be passed into the 'self'"
   ]
  },
  {
   "cell_type": "markdown",
   "metadata": {},
   "source": [
    "### Functions are non-data descriptors"
   ]
  },
  {
   "cell_type": "code",
   "execution_count": 226,
   "metadata": {},
   "outputs": [
    {
     "data": {
      "text/plain": [
       "function"
      ]
     },
     "execution_count": 226,
     "metadata": {},
     "output_type": "execute_result"
    }
   ],
   "source": [
    "def f():\n",
    "    pass\n",
    "\n",
    "type(f)"
   ]
  },
  {
   "cell_type": "code",
   "execution_count": 227,
   "metadata": {},
   "outputs": [],
   "source": [
    "def add(a,b):\n",
    "    return a+b"
   ]
  },
  {
   "cell_type": "code",
   "execution_count": 228,
   "metadata": {},
   "outputs": [
    {
     "data": {
      "text/plain": [
       "<module '__main__'>"
      ]
     },
     "execution_count": 228,
     "metadata": {},
     "output_type": "execute_result"
    }
   ],
   "source": [
    "import sys\n",
    "main_module = sys.modules['__main__']\n",
    "main_module"
   ]
  },
  {
   "cell_type": "code",
   "execution_count": 254,
   "metadata": {},
   "outputs": [
    {
     "data": {
      "text/plain": [
       "function"
      ]
     },
     "execution_count": 254,
     "metadata": {},
     "output_type": "execute_result"
    }
   ],
   "source": [
    "type(add)  # This is the 'class' of a function"
   ]
  },
  {
   "cell_type": "markdown",
   "metadata": {},
   "source": [
    "## calling from the instance"
   ]
  },
  {
   "cell_type": "code",
   "execution_count": 253,
   "metadata": {},
   "outputs": [
    {
     "data": {
      "text/plain": [
       "<function __main__.add(a, b)>"
      ]
     },
     "execution_count": 253,
     "metadata": {},
     "output_type": "execute_result"
    }
   ],
   "source": [
    "type(add).__get__(add, None, main_module)"
   ]
  },
  {
   "cell_type": "markdown",
   "metadata": {},
   "source": [
    "### it returned the descriptor"
   ]
  },
  {
   "cell_type": "code",
   "execution_count": 261,
   "metadata": {},
   "outputs": [
    {
     "data": {
      "text/plain": [
       "<function __main__.add(a, b)>"
      ]
     },
     "execution_count": 261,
     "metadata": {},
     "output_type": "execute_result"
    }
   ],
   "source": [
    "# same as calling as bound method\n",
    "\n",
    "add.__get__(None, main_module)"
   ]
  },
  {
   "cell_type": "markdown",
   "metadata": {},
   "source": [
    "## Recall that:"
   ]
  },
  {
   "cell_type": "code",
   "execution_count": null,
   "metadata": {},
   "outputs": [],
   "source": [
    "# Called from instance --> returns attribute\n",
    "MyDescriptor.__get__(MyClass.__dict__['x'], inst, MyClass)\n",
    "\n",
    "# same as\n",
    "MyClass.__dict__['x'].__get__(inst, MyClass)\n",
    "\n",
    "# MyClass.__dict__['x'] will be passed into the 'self'"
   ]
  },
  {
   "cell_type": "code",
   "execution_count": null,
   "metadata": {},
   "outputs": [],
   "source": [
    "# Called from class (None) --> returns \n",
    "MyDescriptor.__get__(MyClass.__dict__['x'], None, MyClass)"
   ]
  },
  {
   "cell_type": "markdown",
   "metadata": {},
   "source": [
    "## Hence it is evident that functions are non-data Descriptors!"
   ]
  },
  {
   "cell_type": "code",
   "execution_count": null,
   "metadata": {},
   "outputs": [],
   "source": [
    "class functionDescriptor():\n",
    "    '''\n",
    "    Only implement __get__ and NOT __set__\n",
    "    '''\n",
    "        \n",
    "    def __init__(self, fn):\n",
    "        print('functionDescriptor __init__ ')\n",
    "        #self is an instance of MyDescriptor()\n",
    "        self.fn = fn.copy()\n",
    "        print('-'*30)\n",
    "    \n",
    "    def __set_name__(self, owner_class, prop_name):\n",
    "        print('calling __set_name__ ...')\n",
    "        print(f'owner_class={owner_class}')\n",
    "        # get a hook on the property name. It solves the problem\n",
    "        # x = MyDescriptor('x') , i.e. having to specify 'x' during creation\n",
    "        self.prop_name = prop_name\n",
    "        print('-'*30)\n",
    "    \n",
    "    def __get__(self, instance, owner_class):\n",
    "        print('calling __get__ ...')\n",
    "        if instance is None:#called from class MyClass\n",
    "            return self #return instance of descriptor\n",
    "        #return self.fn(self.prop_name)\n",
    "        return instance."
   ]
  },
  {
   "cell_type": "code",
   "execution_count": 275,
   "metadata": {},
   "outputs": [],
   "source": [
    "class functionDescriptor():\n",
    "    '''\n",
    "    Only implement __get__ and NOT __set__\n",
    "    '''\n",
    "        \n",
    "    def __init__(self, fn):\n",
    "        print('functionDescriptor __init__ ')\n",
    "        #self is an instance of MyDescriptor()\n",
    "        self.fn = fn\n",
    "        print('-'*30)\n",
    "    \n",
    "    def __set_name__(self, owner_class, prop_name):\n",
    "        print('calling __set_name__ ...')\n",
    "        print(f'owner_class={owner_class}')\n",
    "        # get a hook on the property name. It solves the problem\n",
    "        # x = MyDescriptor('x') , i.e. having to specify 'x' during creation\n",
    "        self.prop_name = prop_name\n",
    "        print('-'*30)\n",
    "    \n",
    "    def __get__(self, instance, owner_class):\n",
    "        print('calling __get__ ...')\n",
    "        if instance is None:#called from class MyClass\n",
    "            return self #return instance of descriptor\n",
    "        return self.fn\n",
    "        #return self.fn(self.prop_name)\n",
    "        #return copy.deepcopy(self.fn)\n",
    "        print('-'*30)"
   ]
  },
  {
   "cell_type": "code",
   "execution_count": 324,
   "metadata": {},
   "outputs": [
    {
     "name": "stdout",
     "output_type": "stream",
     "text": [
      "functionDescriptor __init__ \n",
      "------------------------------\n",
      "calling __set_name__ ...\n",
      "owner_class=<class '__main__.Person'>\n",
      "------------------------------\n"
     ]
    }
   ],
   "source": [
    "class Person:\n",
    "    \n",
    "    greet = functionDescriptor(lambda self : print(f'{self} greets you!'))"
   ]
  },
  {
   "cell_type": "code",
   "execution_count": 277,
   "metadata": {},
   "outputs": [
    {
     "data": {
      "text/plain": [
       "mappingproxy({'__module__': '__main__',\n",
       "              'greet': <__main__.functionDescriptor at 0x1b6ae299ec8>,\n",
       "              '__dict__': <attribute '__dict__' of 'Person' objects>,\n",
       "              '__weakref__': <attribute '__weakref__' of 'Person' objects>,\n",
       "              '__doc__': None})"
      ]
     },
     "execution_count": 277,
     "metadata": {},
     "output_type": "execute_result"
    }
   ],
   "source": [
    "Person.__dict__"
   ]
  },
  {
   "cell_type": "code",
   "execution_count": 278,
   "metadata": {},
   "outputs": [
    {
     "name": "stdout",
     "output_type": "stream",
     "text": [
      "calling __get__ ...\n"
     ]
    },
    {
     "data": {
      "text/plain": [
       "<__main__.functionDescriptor at 0x1b6ae299ec8>"
      ]
     },
     "execution_count": 278,
     "metadata": {},
     "output_type": "execute_result"
    }
   ],
   "source": [
    "Person.greet"
   ]
  },
  {
   "cell_type": "code",
   "execution_count": 279,
   "metadata": {},
   "outputs": [
    {
     "data": {
      "text/plain": [
       "{}"
      ]
     },
     "execution_count": 279,
     "metadata": {},
     "output_type": "execute_result"
    }
   ],
   "source": [
    "p = Person()\n",
    "p.__dict__"
   ]
  },
  {
   "cell_type": "code",
   "execution_count": 280,
   "metadata": {},
   "outputs": [
    {
     "name": "stdout",
     "output_type": "stream",
     "text": [
      "calling __get__ ...\n"
     ]
    },
    {
     "data": {
      "text/plain": [
       "<function __main__.Person.<lambda>(self)>"
      ]
     },
     "execution_count": 280,
     "metadata": {},
     "output_type": "execute_result"
    }
   ],
   "source": [
    "p.greet  # without the parenthesis though..."
   ]
  },
  {
   "cell_type": "code",
   "execution_count": 281,
   "metadata": {},
   "outputs": [
    {
     "name": "stdout",
     "output_type": "stream",
     "text": [
      "calling __get__ ...\n",
      "calling __get__ ...\n"
     ]
    }
   ],
   "source": [
    "f1 = p.greet\n",
    "f2 = p.greet"
   ]
  },
  {
   "cell_type": "code",
   "execution_count": 282,
   "metadata": {},
   "outputs": [
    {
     "data": {
      "text/plain": [
       "True"
      ]
     },
     "execution_count": 282,
     "metadata": {},
     "output_type": "execute_result"
    }
   ],
   "source": [
    "f1 is f2"
   ]
  },
  {
   "cell_type": "code",
   "execution_count": 299,
   "metadata": {},
   "outputs": [],
   "source": [
    "import copy"
   ]
  },
  {
   "cell_type": "code",
   "execution_count": 316,
   "metadata": {},
   "outputs": [],
   "source": [
    "class functionDescriptor():\n",
    "    '''\n",
    "    Only implement __get__ and NOT __set__\n",
    "    '''\n",
    "    \n",
    "    class CallableFunc:\n",
    "        def __init__(self, fn, instance):\n",
    "            self.fn = fn \n",
    "            self.instance = instance\n",
    "            \n",
    "        def __call__(self):\n",
    "            return self.fn(self.instance) \n",
    "        \n",
    "    def __init__(self, fn):\n",
    "        print('functionDescriptor __init__ ')\n",
    "        #self is an instance of MyDescriptor()\n",
    "        #self.my_callable = callable_func(fn)\n",
    "        self.fn = fn\n",
    "        print('-'*30)\n",
    "    \n",
    "    def __set_name__(self, owner_class, prop_name):\n",
    "        print('calling __set_name__ ...')\n",
    "        print(f'owner_class={owner_class}')\n",
    "        # get a hook on the property name. It solves the problem\n",
    "        # x = MyDescriptor('x') , i.e. having to specify 'x' during creation\n",
    "        self.prop_name = prop_name\n",
    "        print('-'*30)\n",
    "    \n",
    "    def __get__(self, instance, owner_class):\n",
    "        print('calling __get__ ...')\n",
    "        if instance is None:#called from class MyClass\n",
    "            return self #return instance of descriptor\n",
    "        \n",
    "        my_callable = functionDescriptor.CallableFunc(self.fn, instance)\n",
    "        \n",
    "         # return new method object everytime thats bound to instnace\n",
    "        return my_callable\n",
    "        \n",
    "        \n",
    "        #return self.fn\n",
    "        #return self.fn(self.prop_name)\n",
    "        #return copy.deepcopy(self.fn)\n",
    "        # return something callable\n",
    "        print('-'*30)"
   ]
  },
  {
   "cell_type": "code",
   "execution_count": 317,
   "metadata": {},
   "outputs": [
    {
     "name": "stdout",
     "output_type": "stream",
     "text": [
      "functionDescriptor __init__ \n",
      "------------------------------\n",
      "calling __set_name__ ...\n",
      "owner_class=<class '__main__.Person'>\n",
      "------------------------------\n"
     ]
    }
   ],
   "source": [
    "class Person:\n",
    "    \n",
    "    greet = functionDescriptor(lambda self : print(f'{self} greets you!'))"
   ]
  },
  {
   "cell_type": "code",
   "execution_count": 318,
   "metadata": {},
   "outputs": [
    {
     "data": {
      "text/plain": [
       "{}"
      ]
     },
     "execution_count": 318,
     "metadata": {},
     "output_type": "execute_result"
    }
   ],
   "source": [
    "p = Person()\n",
    "p.__dict__"
   ]
  },
  {
   "cell_type": "code",
   "execution_count": 319,
   "metadata": {},
   "outputs": [
    {
     "name": "stdout",
     "output_type": "stream",
     "text": [
      "calling __get__ ...\n"
     ]
    },
    {
     "data": {
      "text/plain": [
       "<__main__.functionDescriptor.CallableFunc at 0x1b6ae279708>"
      ]
     },
     "execution_count": 319,
     "metadata": {},
     "output_type": "execute_result"
    }
   ],
   "source": [
    "p.greet  # without the parenthesis though..."
   ]
  },
  {
   "cell_type": "code",
   "execution_count": 320,
   "metadata": {},
   "outputs": [
    {
     "name": "stdout",
     "output_type": "stream",
     "text": [
      "calling __get__ ...\n",
      "calling __get__ ...\n"
     ]
    }
   ],
   "source": [
    "f1 = p.greet\n",
    "f2 = p.greet"
   ]
  },
  {
   "cell_type": "code",
   "execution_count": 321,
   "metadata": {},
   "outputs": [
    {
     "data": {
      "text/plain": [
       "False"
      ]
     },
     "execution_count": 321,
     "metadata": {},
     "output_type": "execute_result"
    }
   ],
   "source": [
    "f1 is f2"
   ]
  },
  {
   "cell_type": "code",
   "execution_count": 322,
   "metadata": {},
   "outputs": [
    {
     "name": "stdout",
     "output_type": "stream",
     "text": [
      "<__main__.Person object at 0x000001B6AE26FF08> greets you!\n"
     ]
    }
   ],
   "source": [
    "f1()"
   ]
  },
  {
   "cell_type": "code",
   "execution_count": 323,
   "metadata": {},
   "outputs": [
    {
     "name": "stdout",
     "output_type": "stream",
     "text": [
      "<__main__.Person object at 0x000001B6AE26FF08> greets you!\n"
     ]
    }
   ],
   "source": [
    "f2()"
   ]
  },
  {
   "cell_type": "code",
   "execution_count": null,
   "metadata": {},
   "outputs": [],
   "source": []
  },
  {
   "cell_type": "code",
   "execution_count": 2,
   "metadata": {},
   "outputs": [],
   "source": [
    "class functionDescriptor():\n",
    "    '''\n",
    "    Only implement __get__ and NOT __set__\n",
    "    '''\n",
    "    \n",
    "    class CallableFunc:\n",
    "        def __init__(self, fn, instance):\n",
    "            self.fn = fn \n",
    "            self.instance = instance\n",
    "            \n",
    "        def __call__(self):\n",
    "            return self.fn(self.instance) \n",
    "        \n",
    "    def __init__(self, fn):\n",
    "        print('functionDescriptor __init__ ')\n",
    "        self.fn = fn\n",
    "        print('-'*30)\n",
    "    \n",
    "    def __set_name__(self, owner_class, prop_name):\n",
    "        print('calling __set_name__ ...')\n",
    "        print(f'owner_class={owner_class}')\n",
    "        self.prop_name = prop_name\n",
    "        print('-'*30)\n",
    "    \n",
    "    def __get__(self, instance, owner_class):\n",
    "        print('calling __get__ .. .')\n",
    "        if instance is None:#called from class MyClass\n",
    "            return self #return instance of descriptor\n",
    "        \n",
    "        my_callable = functionDescriptor.CallableFunc(self.fn, instance)\n",
    "        \n",
    "        # return new method object everytime thats bound to instnace\n",
    "        return my_callable\n",
    "        print('-'*30)"
   ]
  },
  {
   "cell_type": "code",
   "execution_count": 3,
   "metadata": {},
   "outputs": [
    {
     "name": "stdout",
     "output_type": "stream",
     "text": [
      "functionDescriptor __init__ \n",
      "------------------------------\n",
      "calling __set_name__ ...\n",
      "owner_class=<class '__main__.Person'>\n",
      "------------------------------\n"
     ]
    }
   ],
   "source": [
    "class Person:\n",
    "    \n",
    "    greet = functionDescriptor(lambda self : print(f'{self} greets you!'))"
   ]
  },
  {
   "cell_type": "code",
   "execution_count": 4,
   "metadata": {},
   "outputs": [],
   "source": [
    "p = Person"
   ]
  },
  {
   "cell_type": "code",
   "execution_count": 5,
   "metadata": {},
   "outputs": [
    {
     "name": "stdout",
     "output_type": "stream",
     "text": [
      "calling __get__ .. .\n"
     ]
    },
    {
     "data": {
      "text/plain": [
       "<__main__.functionDescriptor at 0x1c1ac1ee188>"
      ]
     },
     "execution_count": 5,
     "metadata": {},
     "output_type": "execute_result"
    }
   ],
   "source": [
    "p.greet"
   ]
  },
  {
   "cell_type": "code",
   "execution_count": null,
   "metadata": {},
   "outputs": [],
   "source": []
  }
 ],
 "metadata": {
  "kernelspec": {
   "display_name": "Python 3.7.2",
   "language": "python",
   "name": "python3"
  },
  "language_info": {
   "codemirror_mode": {
    "name": "ipython",
    "version": 3
   },
   "file_extension": ".py",
   "mimetype": "text/x-python",
   "name": "python",
   "nbconvert_exporter": "python",
   "pygments_lexer": "ipython3",
   "version": "3.7.6"
  }
 },
 "nbformat": 4,
 "nbformat_minor": 4
}
