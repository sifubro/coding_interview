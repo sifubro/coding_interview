{
 "cells": [
  {
   "cell_type": "markdown",
   "metadata": {},
   "source": [
    "## https://www.blog.pythonlibrary.org/2014/01/17/how-to-create-immutable-classes-in-python/\n",
    "\n",
    "One of the examples I was reading about immutable classes mentioned that you could create one by replacing a class’s `__dict__` with `__slots__`. Let’s see how that looks:"
   ]
  },
  {
   "cell_type": "code",
   "execution_count": null,
   "metadata": {},
   "outputs": [],
   "source": [
    "class Immutable(object):\n",
    "    \"\"\"\n",
    "    An immutable class\n",
    "    \"\"\"\n",
    "    __slots__ = [\"one\", \"two\", \"three\"]\n",
    "    #----------------------------------------------------------------------\n",
    "    def __init__(self, one, two, three):\n",
    "        \"\"\"Constructor\"\"\"\n",
    "        super(Immutable, self).__setattr__(\"one\", one)\n",
    "        super(Immutable, self).__setattr__(\"two\", two)\n",
    "        super(Immutable, self).__setattr__(\"three\", three)\n",
    "    #----------------------------------------------------------------------\n",
    "    def __setattr__(self, name, value):\n",
    "        \"\"\"\"\"\"\n",
    "        msg = \"'%s' has no attribute %s\" % (self.__class__,\n",
    "                                            name)\n",
    "        raise AttributeError(msg)"
   ]
  },
  {
   "cell_type": "markdown",
   "metadata": {},
   "source": [
    "ow we just need to create an instance of this class to see if we can monkey patch it:"
   ]
  },
  {
   "cell_type": "code",
   "execution_count": null,
   "metadata": {},
   "outputs": [],
   "source": [
    "i = Immutable(1, 2, 3)\n",
    "i.four = 4"
   ]
  },
  {
   "cell_type": "markdown",
   "metadata": {},
   "source": [
    "In this case, the class does not allow us to monkey patch the instance. Instead, we receive an AttibuteError. Let’s try to change one of the attributes:"
   ]
  },
  {
   "cell_type": "code",
   "execution_count": null,
   "metadata": {},
   "outputs": [],
   "source": [
    "i = Immutable(1, 2, 3)\n",
    "i.one = 2"
   ]
  },
  {
   "cell_type": "markdown",
   "metadata": {},
   "source": [
    "This is because we have overridden the `__setattr__` method. You could just override the method and not do anything at all if you wanted. This would stop the traceback from happening, but also prevent the value from being changed. If you like to be explicit with what is going on, raising an error is probably the way to go.\n",
    "\n",
    "If you do any reading about slots, you will quickly find that using slots in this manner is discouraged. Why? Because slots were created primarily as a memory optimization (it reduces attribute access time)."
   ]
  },
  {
   "cell_type": "code",
   "execution_count": null,
   "metadata": {},
   "outputs": [],
   "source": []
  },
  {
   "cell_type": "code",
   "execution_count": null,
   "metadata": {},
   "outputs": [],
   "source": []
  },
  {
   "cell_type": "markdown",
   "metadata": {},
   "source": [
    "Although I have never needed this, it just struck me that making an immutable object in Python could be slightly tricky. You can't just override `__setattr__`, because then you can't even set attributes in the `__init__`. Subclassing a tuple is a trick that works:"
   ]
  },
  {
   "cell_type": "code",
   "execution_count": null,
   "metadata": {},
   "outputs": [],
   "source": [
    "class Immutable(tuple):\n",
    "\n",
    "    def __new__(cls, a, b):\n",
    "        return tuple.__new__(cls, (a, b))\n",
    "\n",
    "    @property\n",
    "    def a(self):\n",
    "        return self[0]\n",
    "\n",
    "    @property\n",
    "    def b(self):\n",
    "        return self[1]\n",
    "\n",
    "    def __str__(self):\n",
    "        return \"<Immutable {0}, {1}>\".format(self.a, self.b)\n",
    "\n",
    "    def __setattr__(self, *ignored):\n",
    "        raise NotImplementedError\n",
    "\n",
    "    def __delattr__(self, *ignored):\n",
    "        raise NotImplementedError"
   ]
  },
  {
   "cell_type": "markdown",
   "metadata": {},
   "source": [
    "But then you have access to the a and b variables through self[0] and self[1], which is annoying.\n",
    "\n",
    "Is this possible in Pure Python? If not, how would I do it with a C extension?\n",
    "\n",
    "(Answers that work only in Python 3 are acceptable).\n",
    "\n",
    "Update:\n",
    "\n",
    "So subclassing tuple is the way to do it in Pure Python, which works well except for the additional possibility of accessing the data by [0], [1] etc. So, to complete this question all that is missing is howto do it \"properly\" in C, which I suspect would be quite simple, by just not implementing any geititem or setattribute, etc. But instead of doing it myself, I offer a bounty for that, because I'm lazy. :)"
   ]
  },
  {
   "cell_type": "markdown",
   "metadata": {},
   "source": [
    "Yet another solution I just thought of: The simplest way to get the same behaviour as your original code is\n"
   ]
  },
  {
   "cell_type": "code",
   "execution_count": null,
   "metadata": {},
   "outputs": [],
   "source": [
    "Immutable = collections.namedtuple(\"Immutable\", [\"a\", \"b\"])"
   ]
  },
  {
   "cell_type": "markdown",
   "metadata": {},
   "source": [
    "It does not solve the problem that attributes can be accessed via [0] etc., but at least it's considerably shorter and provides the additional advantage of being compatible with pickle and copy.\n",
    "\n",
    "namedtuple creates a type similar to what I described in this answer, i.e. derived from tuple and using `__slots__`. It is available in Python 2.6 or above."
   ]
  },
  {
   "cell_type": "code",
   "execution_count": null,
   "metadata": {},
   "outputs": [],
   "source": []
  },
  {
   "cell_type": "code",
   "execution_count": null,
   "metadata": {},
   "outputs": [],
   "source": []
  },
  {
   "cell_type": "markdown",
   "metadata": {},
   "source": [
    "The easiest way to do this is using `__slots__`:"
   ]
  },
  {
   "cell_type": "code",
   "execution_count": null,
   "metadata": {},
   "outputs": [],
   "source": [
    "class A(object):\n",
    "    __slots__ = []"
   ]
  },
  {
   "cell_type": "markdown",
   "metadata": {},
   "source": [
    "Instances of A are immutable now, since you can't set any attributes on them."
   ]
  },
  {
   "cell_type": "markdown",
   "metadata": {},
   "source": [
    "If you want the class instances to contain data, you can combine this with deriving from tuple:"
   ]
  },
  {
   "cell_type": "code",
   "execution_count": null,
   "metadata": {},
   "outputs": [],
   "source": [
    "from operator import itemgetter\n",
    "class Point(tuple):\n",
    "    __slots__ = []\n",
    "    def __new__(cls, x, y):\n",
    "        return tuple.__new__(cls, (x, y))\n",
    "    x = property(itemgetter(0))\n",
    "    y = property(itemgetter(1))\n",
    "\n",
    "p = Point(2, 3)\n",
    "p.x"
   ]
  },
  {
   "cell_type": "code",
   "execution_count": null,
   "metadata": {},
   "outputs": [],
   "source": [
    "p.y"
   ]
  },
  {
   "cell_type": "markdown",
   "metadata": {},
   "source": [
    "Edit: If you want to get rid of indexing either, you can override `__getitem__()`:"
   ]
  },
  {
   "cell_type": "code",
   "execution_count": null,
   "metadata": {},
   "outputs": [],
   "source": [
    "class Point(tuple):\n",
    "    __slots__ = []\n",
    "    def __new__(cls, x, y):\n",
    "        return tuple.__new__(cls, (x, y))\n",
    "    @property\n",
    "    def x(self):\n",
    "        return tuple.__getitem__(self, 0)\n",
    "    @property\n",
    "    def y(self):\n",
    "        return tuple.__getitem__(self, 1)\n",
    "    def __getitem__(self, item):\n",
    "        raise TypeError"
   ]
  },
  {
   "cell_type": "markdown",
   "metadata": {},
   "source": [
    "Note that you can't use operator.itemgetter for the properties in thise case, since this would rely on `oint.__getitem__()`instead of `uple.__getitem__()` Fuerthermore this won't prevent the use of `uple.__getitem__(p, 0)` but I can hardly imagine how this should constitute a problem.\n",
    "\n",
    "I don't think the \"right\" way of creating an immutable object is writing a C extension. Python usually relies on library implementers and library users being consenting adults, and instead of really enforcing an interface, the interface should be clearly stated in the documentation. This is why I don't consider the possibility of circumventing an overridden `_setattr__()`by calling `bject.__setattr__()`a problem. If someone does this, it's on her own risk."
   ]
  },
  {
   "cell_type": "code",
   "execution_count": null,
   "metadata": {},
   "outputs": [],
   "source": []
  },
  {
   "cell_type": "code",
   "execution_count": null,
   "metadata": {},
   "outputs": [],
   "source": []
  },
  {
   "cell_type": "markdown",
   "metadata": {},
   "source": [
    "### https://stackoverflow.com/questions/4828080/how-to-make-an-immutable-object-in-python"
   ]
  },
  {
   "cell_type": "markdown",
   "metadata": {},
   "source": [
    "You could use Cython (http://docs.cython.org/en/latest/index.html) to create an extension type for Python:"
   ]
  },
  {
   "cell_type": "code",
   "execution_count": null,
   "metadata": {},
   "outputs": [],
   "source": [
    "cdef class Immutable:\n",
    "    cdef readonly object a, b\n",
    "    cdef object __weakref__ # enable weak referencing support\n",
    "\n",
    "    def __init__(self, a, b):\n",
    "        self.a, self.b = a, b"
   ]
  },
  {
   "cell_type": "code",
   "execution_count": null,
   "metadata": {},
   "outputs": [],
   "source": []
  },
  {
   "cell_type": "code",
   "execution_count": null,
   "metadata": {},
   "outputs": [],
   "source": []
  },
  {
   "cell_type": "code",
   "execution_count": null,
   "metadata": {},
   "outputs": [],
   "source": []
  },
  {
   "cell_type": "markdown",
   "metadata": {},
   "source": [
    "Another idea would be to completely disallow `__setattr__` and use `object.__setattr__` in the constructor:"
   ]
  },
  {
   "cell_type": "code",
   "execution_count": null,
   "metadata": {},
   "outputs": [],
   "source": [
    "class Point(object):\n",
    "    def __init__(self, x, y):\n",
    "        object.__setattr__(self, \"x\", x)\n",
    "        object.__setattr__(self, \"y\", y)\n",
    "    def __setattr__(self, *args):\n",
    "        raise TypeError\n",
    "    def __delattr__(self, *args):\n",
    "        raise TypeError"
   ]
  },
  {
   "cell_type": "markdown",
   "metadata": {},
   "source": [
    "Of course you could use `object.__setattr__(p, \"x\", 3)` to modify a Point instance p, but your original implementation suffers from the same problem (try `tuple.__setattr__(i, \"x\", 42)` on an Immutable instance).\n",
    "\n",
    "You can apply the same trick in your original implementation: get rid of `__getitem__()`, and use `tuple.__getitem__()` in your property functions."
   ]
  },
  {
   "cell_type": "code",
   "execution_count": null,
   "metadata": {},
   "outputs": [],
   "source": []
  }
 ],
 "metadata": {
  "kernelspec": {
   "display_name": "Python 3.7.2",
   "language": "python",
   "name": "python3"
  },
  "language_info": {
   "codemirror_mode": {
    "name": "ipython",
    "version": 3
   },
   "file_extension": ".py",
   "mimetype": "text/x-python",
   "name": "python",
   "nbconvert_exporter": "python",
   "pygments_lexer": "ipython3",
   "version": "3.7.6"
  }
 },
 "nbformat": 4,
 "nbformat_minor": 4
}
